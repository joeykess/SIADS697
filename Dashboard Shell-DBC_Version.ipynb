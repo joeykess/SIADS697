{
 "cells": [
  {
   "cell_type": "code",
   "execution_count": 2,
   "metadata": {},
   "outputs": [],
   "source": [
    "import os\n",
    "import time\n",
    "import pandas as pd\n",
    "import numpy as np\n",
    "import glob\n",
    "import matplotlib.pyplot as plt\n",
    "import FinNews as fn\n",
    "import re\n",
    "\n",
    "# Dash modules\n",
    "import dash\n",
    "import dash_table\n",
    "import dash_core_components as dcc\n",
    "import dash_bootstrap_components as dbc\n",
    "import dash_html_components as html\n",
    "from jupyter_dash import JupyterDash\n",
    "import plotly.express as px\n",
    "import plotly.graph_objects as go\n",
    "\n",
    "# Set up jupyter proxy\n",
    "JupyterDash.infer_jupyter_proxy_config() \n",
    "\n",
    "%matplotlib inline"
   ]
  },
  {
   "cell_type": "code",
   "execution_count": 3,
   "metadata": {},
   "outputs": [
    {
     "name": "stderr",
     "output_type": "stream",
     "text": [
      "/opt/anaconda3/lib/python3.7/site-packages/ipykernel_launcher.py:14: FutureWarning:\n",
      "\n",
      "Sorting because non-concatenation axis is not aligned. A future version\n",
      "of pandas will change to not sort by default.\n",
      "\n",
      "To accept the future behavior, pass 'sort=False'.\n",
      "\n",
      "To retain the current behavior and silence the warning, pass 'sort=True'.\n",
      "\n",
      "\n"
     ]
    }
   ],
   "source": [
    "# Getting all file paths\n",
    "\n",
    "path = r'assets/historical-symbols' # use your path\n",
    "all_files = glob.glob(path + \"/*.csv\")\n",
    "\n",
    "# Creating list to append all ticker dfs to\n",
    "li = []\n",
    "\n",
    "for filename in all_files:\n",
    "    df = pd.read_csv(filename, index_col=None, header=0)\n",
    "    li.append(df)\n",
    "\n",
    "# Concat all ticker dfs \n",
    "stock_df = pd.concat(li, axis=0, ignore_index=True)\n",
    "\n",
    "stock_df['Date'] = pd.to_datetime(stock_df['Date'])\n",
    "\n",
    "available_indicators1 = list(stock_df['ticker'].unique())"
   ]
  },
  {
   "cell_type": "code",
   "execution_count": 5,
   "metadata": {},
   "outputs": [],
   "source": [
    "title_style = {'display': 'inline-block',\n",
    "               'textAlign':'left',\n",
    "               'verticalAlign':'center',\n",
    "               'lineHeight':2.5,\n",
    "               'height':75,\n",
    "               'border': 'thick black solid',\\\n",
    "               'width':'85%',\n",
    "               'backgroundColor': 'rgb(212, 150, 18)'}\n",
    "\n",
    "title_link_style = {'display': 'inline-block',\n",
    "               'textAlign':'center',\n",
    "               'vertical-align':'center',\n",
    "               'lineHeight':5,\n",
    "               'height':75,\n",
    "               'width':'10%',\n",
    "               'float':'right',\n",
    "               'border': 'thick black solid',\\\n",
    "               'fontSize':12,\n",
    "               'backgroundColor': 'rgb(212, 150, 18)'}\n",
    "\n",
    "\n",
    "tab_style = {'display': 'inline-block',\n",
    "             'textAlign':'center',\n",
    "             'verticalAlign':'top',\n",
    "             'width':'15%',\n",
    "             'border': 'thin lightgrey solid',\n",
    "             'height':20}\n",
    "\n",
    "blank_tab_style = {'display': 'inline-block',\n",
    "                   'width':'15%',\n",
    "                   'textAlign':'center',\n",
    "                   'verticalAlign':'top',\n",
    "                   'float':'right',\n",
    "                   'border': 'thin lightgrey solid',\n",
    "                   'fontSize':10,\n",
    "                   'height':20}\n",
    "\n",
    "ticker_style = {'display': 'inline-block',\n",
    "                'textAlign':'center',\n",
    "                'vertical-align':'top',\n",
    "                'width':'20%',\n",
    "                'float':'right',\n",
    "                'border':'thin lightgrey solid',\n",
    "                'height':300}\n",
    "\n",
    "chart_style = {'display':'inline-block',\n",
    "               'textAlign':'center',\n",
    "               'vertical-align':'top',\n",
    "               'width':'60%',\n",
    "               'float':'middle',\n",
    "               'textAlign':'center',\n",
    "               'border':'thin lightgrey solid',\n",
    "               'height':300}\n",
    "\n",
    "portfolio_style = {'display': 'inline-block',\n",
    "                'textAlign':'center',\n",
    "                'vertical-align':'top',\n",
    "                'width':'20%',\n",
    "                'float':'left',\n",
    "                'border':'thin lightgrey solid',\n",
    "                'height':300}\n",
    "\n",
    "chart_style_b = {'display':'inline-block',\n",
    "               'textAlign':'center',\n",
    "               'vertical-align':'top',\n",
    "               'width':'60%',\n",
    "               'float':'middle',\n",
    "               'textAlign':'center',\n",
    "               'border':'thin lightgrey solid',\n",
    "               'height':200}\n",
    "\n",
    "portfolio_style_b = {'display': 'inline-block',\n",
    "                'textAlign':'left',\n",
    "                'fontSize':12,\n",
    "                'vertical-align':'top',\n",
    "                'width':'20%',\n",
    "                'float':'left',\n",
    "                'border':'thin lightgrey solid',\n",
    "                'height':200}\n",
    "\n",
    "news_style = {'fontSize':11,\n",
    "              'color':'white',\n",
    "              'textAlign':'left',\n",
    "              'height':'auto',\n",
    "#               'height':27,\n",
    "              'margin':3,\n",
    "              \"lineHeight\":1.5,\n",
    "              'float':'middle'}\n",
    "\n",
    "news_style_b = {'display': 'inline-block',\n",
    "                'textAlign':'left',\n",
    "                'vertical-align':'top',\n",
    "                'width':'20%',\n",
    "                'float':'right',\n",
    "                'border':'thin lightgrey solid',\n",
    "                'height':300,'margin':0,'overflowY':'scroll',\n",
    "                'color':'white',\n",
    "                'backgroundColor':'black',\n",
    "                'borderRadius': '.4rem'}\n",
    "\n",
    "#                'vertical-align':'middle',"
   ]
  },
  {
   "cell_type": "code",
   "execution_count": 15,
   "metadata": {},
   "outputs": [
    {
     "name": "stdout",
     "output_type": "stream",
     "text": [
      "Dash app running on http://127.0.0.1:8053/\n"
     ]
    }
   ],
   "source": [
    "app = JupyterDash(__name__,suppress_callback_exceptions=True)\n",
    "\n",
    "server = app.server\n",
    "\n",
    "app.layout = html.Div([\n",
    "\n",
    "    html.Div([\n",
    "        html.H1('Dashboard Title',style=title_style),\n",
    "        html.H3('Dashboard Info Link',style=title_link_style)\n",
    "        ]),\n",
    "\n",
    "    html.Div([dcc.Tabs(id='tabs-example', value='tab-1', children=[\n",
    "        dcc.Tab(label='Portfolio Performance', value='tab-1'),\n",
    "        dcc.Tab(label='Model Performance', value='tab-2'),\n",
    "        dcc.Tab(label='Tab three', value='tab-3')\n",
    "    ],style={'width':'50%','height':50})]),\n",
    "    html.Div(id='tabs-example-content')\n",
    "])\n",
    "\n",
    "@app.callback(dash.dependencies.Output('tabs-example-content', 'children'),\n",
    "              [dash.dependencies.Input('tabs-example', 'value')])\n",
    "def render_content(tab):\n",
    "    if tab == 'tab-1':\n",
    "        return html.Div([\n",
    "            \n",
    "                html.Div([\n",
    "                    dcc.Dropdown(id='ticker',\n",
    "                    options=[{'label': i, 'value': i} for i in available_indicators1],\n",
    "                    value='CSCO') # the default is code_module AAA\n",
    "                    ]),\n",
    "                \n",
    "                html.Div([\n",
    "                    html.H2('Portfolio Performance',style=portfolio_style),\n",
    "                    dcc.Graph(id='price_chart',style=chart_style),\n",
    "                    html.Div(id='news_list',style=news_style_b)\n",
    "                    ]),\n",
    "                    \n",
    "                html.Div([\n",
    "                    html.H2('Other Portfolio Statistics',style=portfolio_style_b),\n",
    "                    html.H2('News Info',style=chart_style_b),\n",
    "                    ],style={'height':200})\n",
    "    \n",
    "                ])\n",
    "                \n",
    "    elif tab == 'tab-2':\n",
    "        return html.Div([\n",
    "            html.H3('Tab content 2')\n",
    "        ])\n",
    "    \n",
    "# Callback to connect input(s) to output(s)\n",
    "@app.callback(dash.dependencies.Output('price_chart','figure'),\n",
    "    [dash.dependencies.Input('ticker','value')])\n",
    "\n",
    "# Step 3: Define the graph with plotly express\n",
    "def update_ticker(ticker):\n",
    "    \n",
    "    fig = go.Figure()\n",
    "    \n",
    "    fig.add_trace(go.Scatter(x=stock_df[stock_df['ticker']==ticker]['Date'],\n",
    "                             y=stock_df[stock_df['ticker']==ticker]['Close'],\n",
    "                            line={\"color\": \"#228B22\"},\n",
    "                            mode=\"lines\"))\n",
    "\n",
    "    fig.update_layout(title_text=f'{ticker} Closing Price',title_x=0.5,\n",
    "                         template=\"plotly_dark\",font=dict(size=10),xaxis_showgrid=False,\n",
    "                         yaxis_title=\"Closing Price\",margin={\"r\": 20, \"t\": 35, \"l\": 20, \"b\": 10})\n",
    "\n",
    "    return fig\n",
    "\n",
    "# Creating callback to get news when ticker changes\n",
    "@app.callback(dash.dependencies.Output('news_list', 'children'),\n",
    "              [dash.dependencies.Input('ticker', 'value')])\n",
    "def update_news(ticker):\n",
    "    \n",
    "    seeking_alpha = fn.SeekingAlpha(topics=['$'+ticker], save_feeds=True)\n",
    "    \n",
    "    news = seeking_alpha.get_news()\n",
    "    \n",
    "#     title_strings = [re.sub('[^A-Za-z0-9,\\s]+', '', item['title']).lower().replace(\" \", \"-\") for item in news[:5]]\n",
    "#     url_ids = [re.sub('MarketCurrent:','news/',item) for item in news[:5]]\n",
    "    \n",
    "    news_info = html.Div(f'News for {ticker}',style={'backgroundColor':'gray'}),\\\n",
    "                    dbc.ListGroup([\n",
    "                        dbc.ListGroupItem([html.Div([\n",
    "                                        html.A(html.P(news[0]['title'],style=news_style),\\\n",
    "                                        href=(news[0]['link'])),\\\n",
    "                                        html.A(html.P(news[0]['published'],style=news_style))\n",
    "                                        ])\n",
    "                                  ],color='gray'),\\\n",
    "                    dbc.ListGroupItem([html.Div([\n",
    "                                        html.A(html.P(news[1]['title'],style=news_style),\\\n",
    "                                        href=(news[1]['link'])),\\\n",
    "                                        html.A(html.P(news[1]['published'],style=news_style))\n",
    "                                        ])\n",
    "                                  ],color='gray'),\\\n",
    "                    dbc.ListGroupItem([html.Div([\n",
    "                                        html.A(html.P(news[2]['title'],style=news_style),\\\n",
    "                                        href=(news[2]['link'])),\\\n",
    "                                        html.A(html.P(news[2]['published'],style=news_style))\n",
    "                                        ])\n",
    "                                  ],color='gray'),\\\n",
    "                    dbc.ListGroupItem([html.Div([\n",
    "                                        html.A(html.P(news[3]['title'],style=news_style),\\\n",
    "                                        href=(news[3]['link'])),\\\n",
    "                                        html.A(html.P(news[3]['published'],style=news_style))\n",
    "                                        ])\n",
    "                                  ],color='gray'),\\\n",
    "                    dbc.ListGroupItem([html.Div([\n",
    "                                        html.A(html.P(news[4]['title'],style=news_style),\\\n",
    "                                        href=(news[4]['link'])),\\\n",
    "                                        html.A(html.P(news[4]['published'],style=news_style))\n",
    "                                        ])\n",
    "                                  ],color='gray'),\\\n",
    "                    ],flush=True)\n",
    "                    \n",
    "    return news_info\n",
    "\n",
    "if __name__ == '__main__':\n",
    "    app.run_server(debug=True,port=8053)"
   ]
  },
  {
   "cell_type": "code",
   "execution_count": 6,
   "metadata": {},
   "outputs": [
    {
     "data": {
      "text/plain": [
       "[{'title': 'Cisco Systems bags $1.18B defense IT contract',\n",
       "  'title_detail': {'type': 'text/plain',\n",
       "   'language': None,\n",
       "   'base': 'https://seekingalpha.com/api/sa/combined/CSCO.xml',\n",
       "   'value': 'Cisco Systems bags $1.18B defense IT contract'},\n",
       "  'links': [{'rel': 'alternate',\n",
       "    'type': 'text/html',\n",
       "    'href': 'https://seekingalpha.com/symbol/CSCO/news?source=feed_symbol_CSCO'}],\n",
       "  'link': 'https://seekingalpha.com/symbol/CSCO/news?source=feed_symbol_CSCO',\n",
       "  'id': 'https://seekingalpha.com/MarketCurrent:3706232',\n",
       "  'guidislink': False,\n",
       "  'published': 'Mon, 14 Jun 2021 17:34:05 -0400',\n",
       "  'published_parsed': time.struct_time(tm_year=2021, tm_mon=6, tm_mday=14, tm_hour=21, tm_min=34, tm_sec=5, tm_wday=0, tm_yday=165, tm_isdst=0),\n",
       "  'sa_author_name': 'Manshi Mamtora, CFA',\n",
       "  'media_thumbnail': [{'url': ''}],\n",
       "  'href': '',\n",
       "  'sa_picture': '',\n",
       "  'sa_symbol': 'CSCO',\n",
       "  'sa_company_name': 'Cisco Systems, Inc.',\n",
       "  'sa_stock': '',\n",
       "  'topic': '$CSCO'},\n",
       " {'title': 'Cisco Systems, Inc. (CSCO) Management Presents at Morgan Stanley 6th Annual Virtual Sustainable Futures Conference (Transcript)',\n",
       "  'title_detail': {'type': 'text/plain',\n",
       "   'language': None,\n",
       "   'base': 'https://seekingalpha.com/api/sa/combined/CSCO.xml',\n",
       "   'value': 'Cisco Systems, Inc. (CSCO) Management Presents at Morgan Stanley 6th Annual Virtual Sustainable Futures Conference (Transcript)'},\n",
       "  'links': [{'rel': 'alternate',\n",
       "    'type': 'text/html',\n",
       "    'href': 'https://seekingalpha.com/article/4433995-cisco-systems-inc-csco-management-presents-morgan-stanley-6th-annual-virtual-sustainable?source=feed_symbol_CSCO'}],\n",
       "  'link': 'https://seekingalpha.com/article/4433995-cisco-systems-inc-csco-management-presents-morgan-stanley-6th-annual-virtual-sustainable?source=feed_symbol_CSCO',\n",
       "  'id': 'https://seekingalpha.com/Article:4433995',\n",
       "  'guidislink': False,\n",
       "  'published': 'Wed, 09 Jun 2021 17:11:06 -0400',\n",
       "  'published_parsed': time.struct_time(tm_year=2021, tm_mon=6, tm_mday=9, tm_hour=21, tm_min=11, tm_sec=6, tm_wday=2, tm_yday=160, tm_isdst=0),\n",
       "  'sa_author_name': 'SA Transcripts',\n",
       "  'media_thumbnail': [{'url': ''}],\n",
       "  'href': '',\n",
       "  'sa_picture': '',\n",
       "  'sa_symbol': 'CSCO',\n",
       "  'sa_company_name': 'Cisco Systems, Inc.',\n",
       "  'sa_stock': '',\n",
       "  'topic': '$CSCO'}]"
      ]
     },
     "execution_count": 6,
     "metadata": {},
     "output_type": "execute_result"
    }
   ],
   "source": [
    "seeking_alpha = fn.SeekingAlpha(topics=['$'+'CSCO'], save_feeds=True)\n",
    "    \n",
    "news = seeking_alpha.get_news()\n",
    "\n",
    "news[1:3]"
   ]
  },
  {
   "cell_type": "code",
   "execution_count": 7,
   "metadata": {},
   "outputs": [
    {
     "data": {
      "text/plain": [
       "['evercore-sees-ciscos-defense-deal-adding-to-tailwinds-of-growth',\n",
       " 'cisco-systems-bags-118b-defense-it-contract',\n",
       " 'cisco-systems,-inc-csco-management-presents-at-morgan-stanley-6th-annual-virtual-sustainable-futures-conference-transcript',\n",
       " 'cisco-systems-rolls-out-reformulated-webex-suite',\n",
       " 'not-in-a-hurry-to-sell-cisco']"
      ]
     },
     "execution_count": 7,
     "metadata": {},
     "output_type": "execute_result"
    }
   ],
   "source": [
    "# [item['title'] for item in news[:5]]\n",
    "\n",
    "[re.sub('[^A-Za-z0-9,\\s]+', '', item['title']).lower().replace(\" \", \"-\") for item in news[:5]]"
   ]
  },
  {
   "cell_type": "code",
   "execution_count": 63,
   "metadata": {},
   "outputs": [
    {
     "data": {
      "text/plain": [
       "'https://seekingalpha.com/MarketCurrent:3706232'"
      ]
     },
     "execution_count": 63,
     "metadata": {},
     "output_type": "execute_result"
    }
   ],
   "source": [
    "news[1]['id']"
   ]
  },
  {
   "cell_type": "code",
   "execution_count": 9,
   "metadata": {},
   "outputs": [
    {
     "data": {
      "text/plain": [
       "'https://seekingalpha.com/news/3706232'"
      ]
     },
     "execution_count": 9,
     "metadata": {},
     "output_type": "execute_result"
    }
   ],
   "source": [
    "re.sub('MarketCurrent:','news/','https://seekingalpha.com/MarketCurrent:3706232')"
   ]
  },
  {
   "cell_type": "code",
   "execution_count": 12,
   "metadata": {},
   "outputs": [
    {
     "data": {
      "text/plain": [
       "[{'title': \"Evercore sees Cisco's defense deal 'adding to tailwinds' of growth\",\n",
       "  'title_detail': {'type': 'text/plain',\n",
       "   'language': None,\n",
       "   'base': 'https://seekingalpha.com/api/sa/combined/CSCO.xml',\n",
       "   'value': \"Evercore sees Cisco's defense deal 'adding to tailwinds' of growth\"},\n",
       "  'links': [{'rel': 'alternate',\n",
       "    'type': 'text/html',\n",
       "    'href': 'https://seekingalpha.com/symbol/CSCO/news?source=feed_symbol_CSCO'}],\n",
       "  'link': 'https://seekingalpha.com/symbol/CSCO/news?source=feed_symbol_CSCO',\n",
       "  'id': 'https://seekingalpha.com/MarketCurrent:3706912',\n",
       "  'guidislink': False,\n",
       "  'published': 'Wed, 16 Jun 2021 09:57:19 -0400',\n",
       "  'published_parsed': time.struct_time(tm_year=2021, tm_mon=6, tm_mday=16, tm_hour=13, tm_min=57, tm_sec=19, tm_wday=2, tm_yday=167, tm_isdst=0),\n",
       "  'sa_author_name': 'Jason Aycock',\n",
       "  'media_thumbnail': [{'url': ''}],\n",
       "  'href': '',\n",
       "  'sa_picture': '',\n",
       "  'sa_symbol': 'CSCO',\n",
       "  'sa_company_name': 'Cisco Systems, Inc.',\n",
       "  'sa_stock': '',\n",
       "  'topic': '$CSCO'}]"
      ]
     },
     "execution_count": 12,
     "metadata": {},
     "output_type": "execute_result"
    }
   ],
   "source": [
    "[item for item in news[:1]]"
   ]
  },
  {
   "cell_type": "code",
   "execution_count": 16,
   "metadata": {},
   "outputs": [
    {
     "data": {
      "text/plain": [
       "{'title': 'Cisco Systems, Inc. (CSCO) Management Presents at Morgan Stanley 6th Annual Virtual Sustainable Futures Conference (Transcript)',\n",
       " 'title_detail': {'type': 'text/plain',\n",
       "  'language': None,\n",
       "  'base': 'https://seekingalpha.com/api/sa/combined/CSCO.xml',\n",
       "  'value': 'Cisco Systems, Inc. (CSCO) Management Presents at Morgan Stanley 6th Annual Virtual Sustainable Futures Conference (Transcript)'},\n",
       " 'links': [{'rel': 'alternate',\n",
       "   'type': 'text/html',\n",
       "   'href': 'https://seekingalpha.com/article/4433995-cisco-systems-inc-csco-management-presents-morgan-stanley-6th-annual-virtual-sustainable?source=feed_symbol_CSCO'}],\n",
       " 'link': 'https://seekingalpha.com/article/4433995-cisco-systems-inc-csco-management-presents-morgan-stanley-6th-annual-virtual-sustainable?source=feed_symbol_CSCO',\n",
       " 'id': 'https://seekingalpha.com/Article:4433995',\n",
       " 'guidislink': False,\n",
       " 'published': 'Wed, 09 Jun 2021 17:11:06 -0400',\n",
       " 'published_parsed': time.struct_time(tm_year=2021, tm_mon=6, tm_mday=9, tm_hour=21, tm_min=11, tm_sec=6, tm_wday=2, tm_yday=160, tm_isdst=0),\n",
       " 'sa_author_name': 'SA Transcripts',\n",
       " 'media_thumbnail': [{'url': ''}],\n",
       " 'href': '',\n",
       " 'sa_picture': '',\n",
       " 'sa_symbol': 'CSCO',\n",
       " 'sa_company_name': 'Cisco Systems, Inc.',\n",
       " 'sa_stock': '',\n",
       " 'topic': '$CSCO'}"
      ]
     },
     "execution_count": 16,
     "metadata": {},
     "output_type": "execute_result"
    }
   ],
   "source": [
    "news[2]"
   ]
  },
  {
   "cell_type": "code",
   "execution_count": 17,
   "metadata": {},
   "outputs": [
    {
     "data": {
      "text/plain": [
       "['https://seekingalpha.com/news/3706912',\n",
       " 'https://seekingalpha.com/news/3706232',\n",
       " 'https://seekingalpha.com/news/4433995',\n",
       " 'https://seekingalpha.com/news/3704281',\n",
       " 'https://seekingalpha.com/news/4433648']"
      ]
     },
     "execution_count": 17,
     "metadata": {},
     "output_type": "execute_result"
    }
   ],
   "source": [
    "# Could create logic to swap regex dependent on if article or Market Current\n",
    "[re.sub('MarketCurrent:|Article:','news/',item['id']) for item in news[:5]]"
   ]
  },
  {
   "cell_type": "code",
   "execution_count": 73,
   "metadata": {},
   "outputs": [
    {
     "data": {
      "text/plain": [
       "'cisco-systems-bags-118b-defense-it-contract'"
      ]
     },
     "execution_count": 73,
     "metadata": {},
     "output_type": "execute_result"
    }
   ],
   "source": [
    "import re\n",
    "re.sub('[^A-Za-z0-9,\\s]+', '', news[1]['title']).lower().replace(\" \", \"-\")"
   ]
  },
  {
   "cell_type": "code",
   "execution_count": null,
   "metadata": {},
   "outputs": [],
   "source": [
    "re.match('[:+]')\n",
    "\n",
    "re.search(r\":\\s(.*)\", subject)"
   ]
  },
  {
   "cell_type": "markdown",
   "metadata": {},
   "source": [
    "### Notes\n",
    "1. How do I set a relative height\n",
    "2. Could add ticker - https://community.plotly.com/t/strip-ticker-label/48348/6\n",
    "3. Fix overlap or overflow of text in boxes for news\n"
   ]
  },
  {
   "cell_type": "code",
   "execution_count": 9,
   "metadata": {},
   "outputs": [],
   "source": [
    "ticker = 'CSCO'"
   ]
  },
  {
   "cell_type": "code",
   "execution_count": 10,
   "metadata": {},
   "outputs": [],
   "source": [
    "news_info = html.Div(f'News for {ticker}',style={'backgroundColor':'gray'}),\\\n",
    "                    dbc.ListGroup([\n",
    "                        dbc.ListGroupItem([html.Div([\n",
    "                                        html.A(html.P(news[0]['title'],style=news_style),\\\n",
    "                                        href=(news[0]['link'])),\\\n",
    "                                        html.A(html.P(news[0]['published'],style=news_style))\n",
    "                                        ])\n",
    "                                  ],color='gray'),\\\n",
    "                    dbc.ListGroupItem([html.Div([\n",
    "                                        html.A(html.P(news[1]['title'],style=news_style),\\\n",
    "                                        href=(news[1]['link'])),\\\n",
    "                                        html.A(html.P(news[1]['published'],style=news_style))\n",
    "                                        ])\n",
    "                                  ],color='gray'),\\\n",
    "                    dbc.ListGroupItem([html.Div([\n",
    "                                        html.A(html.P(news[2]['title'],style=news_style),\\\n",
    "                                        href=(news[2]['link'])),\\\n",
    "                                        html.A(html.P(news[2]['published'],style=news_style))\n",
    "                                        ])\n",
    "                                  ],color='gray'),\\\n",
    "                    dbc.ListGroupItem([html.Div([\n",
    "                                        html.A(html.P(news[3]['title'],style=news_style),\\\n",
    "                                        href=(news[3]['link'])),\\\n",
    "                                        html.A(html.P(news[3]['published'],style=news_style))\n",
    "                                        ])\n",
    "                                  ],color='gray'),\\\n",
    "                    dbc.ListGroupItem([html.Div([\n",
    "                                        html.A(html.P(news[4]['title'],style=news_style),\\\n",
    "                                        href=(news[4]['link'])),\\\n",
    "                                        html.A(html.P(news[4]['published'],style=news_style))\n",
    "                                        ])\n",
    "                                  ],color='gray'),\\\n",
    "                    ],flush=True)"
   ]
  },
  {
   "cell_type": "code",
   "execution_count": 10,
   "metadata": {},
   "outputs": [
    {
     "name": "stdout",
     "output_type": "stream",
     "text": [
      "Hello\n"
     ]
    }
   ],
   "source": [
    "from dashboard_pages import portfolio_performance"
   ]
  },
  {
   "cell_type": "code",
   "execution_count": null,
   "metadata": {},
   "outputs": [],
   "source": []
  }
 ],
 "metadata": {
  "kernelspec": {
   "display_name": "Python 3",
   "language": "python",
   "name": "python3"
  },
  "language_info": {
   "codemirror_mode": {
    "name": "ipython",
    "version": 3
   },
   "file_extension": ".py",
   "mimetype": "text/x-python",
   "name": "python",
   "nbconvert_exporter": "python",
   "pygments_lexer": "ipython3",
   "version": "3.7.4"
  },
  "latex_envs": {
   "LaTeX_envs_menu_present": true,
   "autoclose": false,
   "autocomplete": true,
   "bibliofile": "biblio.bib",
   "cite_by": "apalike",
   "current_citInitial": 1,
   "eqLabelWithNumbers": true,
   "eqNumInitial": 1,
   "hotkeys": {
    "equation": "Ctrl-E",
    "itemize": "Ctrl-I"
   },
   "labels_anchors": false,
   "latex_user_defs": false,
   "report_style_numbering": false,
   "user_envs_cfg": false
  }
 },
 "nbformat": 4,
 "nbformat_minor": 4
}
