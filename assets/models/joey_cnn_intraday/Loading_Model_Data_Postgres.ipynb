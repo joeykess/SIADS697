{
 "cells": [
  {
   "cell_type": "code",
   "execution_count": 1,
   "id": "0420ae40",
   "metadata": {},
   "outputs": [],
   "source": [
    "# Import useful packages\n",
    "import os\n",
    "import time\n",
    "import pandas as pd\n",
    "import glob\n",
    "import numpy as np\n",
    "\n",
    "# For loading/querying postgres\n",
    "from sqlalchemy import create_engine\n",
    "import psycopg2\n",
    "from psycopg2 import connect"
   ]
  },
  {
   "cell_type": "code",
   "execution_count": 2,
   "id": "7834672e",
   "metadata": {},
   "outputs": [],
   "source": [
    "# Create SQL engine to load data to postgres for central usage\n",
    "from sqlalchemy import create_engine\n",
    "dbname = '697_temp'\n",
    "user = 'postgres'\n",
    "password = 'poRter!5067'\n",
    "host = 'databasesec.cvhiyxfodl3e.us-east-2.rds.amazonaws.com'\n",
    "\n",
    "engine = create_engine(f'postgresql://{user}:{password}@{host}/{dbname}')"
   ]
  },
  {
   "cell_type": "markdown",
   "id": "0b8bf4b7",
   "metadata": {},
   "source": [
    "### Loading Open Positions to Postgres"
   ]
  },
  {
   "cell_type": "code",
   "execution_count": 3,
   "id": "8199d9fc",
   "metadata": {},
   "outputs": [
    {
     "data": {
      "text/plain": [
       "['Open_Positions_Data/joey_open_positions.csv']"
      ]
     },
     "execution_count": 3,
     "metadata": {},
     "output_type": "execute_result"
    }
   ],
   "source": [
    "# Collect all CSVs in Open_Positions_Data folder\n",
    "txtfiles = []\n",
    "for file in glob.glob(\"Open_Positions_Data/*.csv\"):\n",
    "    txtfiles.append(file)\n",
    "    \n",
    "txtfiles"
   ]
  },
  {
   "cell_type": "code",
   "execution_count": 4,
   "id": "875b90d7",
   "metadata": {},
   "outputs": [
    {
     "data": {
      "text/html": [
       "<div>\n",
       "<style scoped>\n",
       "    .dataframe tbody tr th:only-of-type {\n",
       "        vertical-align: middle;\n",
       "    }\n",
       "\n",
       "    .dataframe tbody tr th {\n",
       "        vertical-align: top;\n",
       "    }\n",
       "\n",
       "    .dataframe thead th {\n",
       "        text-align: right;\n",
       "    }\n",
       "</style>\n",
       "<table border=\"1\" class=\"dataframe\">\n",
       "  <thead>\n",
       "    <tr style=\"text-align: right;\">\n",
       "      <th></th>\n",
       "      <th>key</th>\n",
       "      <th>Date</th>\n",
       "      <th>Ticker</th>\n",
       "      <th>Quantity</th>\n",
       "      <th>Basis</th>\n",
       "      <th>Purchase Price</th>\n",
       "      <th>Current Value</th>\n",
       "      <th>Last</th>\n",
       "      <th>% Gain</th>\n",
       "      <th>model</th>\n",
       "    </tr>\n",
       "  </thead>\n",
       "  <tbody>\n",
       "    <tr>\n",
       "      <th>0</th>\n",
       "      <td>Positions_2020-07-20</td>\n",
       "      <td>2020-07-20</td>\n",
       "      <td>AMD</td>\n",
       "      <td>5404</td>\n",
       "      <td>305958.257475</td>\n",
       "      <td>1188.950975</td>\n",
       "      <td>306254.862300</td>\n",
       "      <td>1190.483450</td>\n",
       "      <td>-0.096943</td>\n",
       "      <td>75percent_confidence_no_holding_15m_cnn</td>\n",
       "    </tr>\n",
       "    <tr>\n",
       "      <th>1</th>\n",
       "      <td>Positions_2020-07-20</td>\n",
       "      <td>2020-07-20</td>\n",
       "      <td>BABA</td>\n",
       "      <td>1692</td>\n",
       "      <td>433770.791750</td>\n",
       "      <td>6388.849200</td>\n",
       "      <td>433576.962725</td>\n",
       "      <td>6385.678725</td>\n",
       "      <td>0.044685</td>\n",
       "      <td>75percent_confidence_no_holding_15m_cnn</td>\n",
       "    </tr>\n",
       "    <tr>\n",
       "      <th>2</th>\n",
       "      <td>Positions_2020-07-20</td>\n",
       "      <td>2020-07-20</td>\n",
       "      <td>BAC</td>\n",
       "      <td>19174</td>\n",
       "      <td>440440.421098</td>\n",
       "      <td>620.394942</td>\n",
       "      <td>440550.889512</td>\n",
       "      <td>620.478926</td>\n",
       "      <td>-0.025081</td>\n",
       "      <td>75percent_confidence_no_holding_15m_cnn</td>\n",
       "    </tr>\n",
       "    <tr>\n",
       "      <th>3</th>\n",
       "      <td>Positions_2020-07-20</td>\n",
       "      <td>2020-07-20</td>\n",
       "      <td>F</td>\n",
       "      <td>54710</td>\n",
       "      <td>366230.399675</td>\n",
       "      <td>160.750375</td>\n",
       "      <td>366137.472500</td>\n",
       "      <td>160.595100</td>\n",
       "      <td>0.025374</td>\n",
       "      <td>75percent_confidence_no_holding_15m_cnn</td>\n",
       "    </tr>\n",
       "    <tr>\n",
       "      <th>4</th>\n",
       "      <td>Positions_2020-07-20</td>\n",
       "      <td>2020-07-20</td>\n",
       "      <td>JNJ</td>\n",
       "      <td>1229</td>\n",
       "      <td>179156.380999</td>\n",
       "      <td>2477.942746</td>\n",
       "      <td>179041.428959</td>\n",
       "      <td>2476.408723</td>\n",
       "      <td>0.064163</td>\n",
       "      <td>75percent_confidence_no_holding_15m_cnn</td>\n",
       "    </tr>\n",
       "  </tbody>\n",
       "</table>\n",
       "</div>"
      ],
      "text/plain": [
       "                    key        Date Ticker  Quantity          Basis  \\\n",
       "0  Positions_2020-07-20  2020-07-20    AMD      5404  305958.257475   \n",
       "1  Positions_2020-07-20  2020-07-20   BABA      1692  433770.791750   \n",
       "2  Positions_2020-07-20  2020-07-20    BAC     19174  440440.421098   \n",
       "3  Positions_2020-07-20  2020-07-20      F     54710  366230.399675   \n",
       "4  Positions_2020-07-20  2020-07-20    JNJ      1229  179156.380999   \n",
       "\n",
       "   Purchase Price  Current Value         Last    % Gain  \\\n",
       "0     1188.950975  306254.862300  1190.483450 -0.096943   \n",
       "1     6388.849200  433576.962725  6385.678725  0.044685   \n",
       "2      620.394942  440550.889512   620.478926 -0.025081   \n",
       "3      160.750375  366137.472500   160.595100  0.025374   \n",
       "4     2477.942746  179041.428959  2476.408723  0.064163   \n",
       "\n",
       "                                     model  \n",
       "0  75percent_confidence_no_holding_15m_cnn  \n",
       "1  75percent_confidence_no_holding_15m_cnn  \n",
       "2  75percent_confidence_no_holding_15m_cnn  \n",
       "3  75percent_confidence_no_holding_15m_cnn  \n",
       "4  75percent_confidence_no_holding_15m_cnn  "
      ]
     },
     "execution_count": 4,
     "metadata": {},
     "output_type": "execute_result"
    }
   ],
   "source": [
    "# create temp_df to test loading; pick model not already in table\n",
    "temp_df = pd.read_csv(txtfiles[0],index_col=0)\n",
    "temp_df.head()"
   ]
  },
  {
   "cell_type": "code",
   "execution_count": 7,
   "id": "9bfc679e",
   "metadata": {},
   "outputs": [],
   "source": [
    "# Initial dataframe needs to create a new table\n",
    "temp_df.to_sql('open_positions', engine)"
   ]
  },
  {
   "cell_type": "code",
   "execution_count": 8,
   "id": "3001f0e5",
   "metadata": {},
   "outputs": [],
   "source": [
    "# Append data to table\n",
    "temp_df.to_sql('open_positions', engine, if_exists='append')"
   ]
  },
  {
   "cell_type": "code",
   "execution_count": 11,
   "id": "42cb9707",
   "metadata": {},
   "outputs": [
    {
     "data": {
      "text/html": [
       "<div>\n",
       "<style scoped>\n",
       "    .dataframe tbody tr th:only-of-type {\n",
       "        vertical-align: middle;\n",
       "    }\n",
       "\n",
       "    .dataframe tbody tr th {\n",
       "        vertical-align: top;\n",
       "    }\n",
       "\n",
       "    .dataframe thead th {\n",
       "        text-align: right;\n",
       "    }\n",
       "</style>\n",
       "<table border=\"1\" class=\"dataframe\">\n",
       "  <thead>\n",
       "    <tr style=\"text-align: right;\">\n",
       "      <th></th>\n",
       "      <th>key</th>\n",
       "      <th>Date</th>\n",
       "      <th>Ticker</th>\n",
       "      <th>Quantity</th>\n",
       "      <th>Basis</th>\n",
       "      <th>Purchase Price</th>\n",
       "      <th>Current Value</th>\n",
       "      <th>Last</th>\n",
       "      <th>% Gain</th>\n",
       "      <th>model</th>\n",
       "    </tr>\n",
       "  </thead>\n",
       "  <tbody>\n",
       "    <tr>\n",
       "      <th>15262</th>\n",
       "      <td>Positions_2021-07-23</td>\n",
       "      <td>2021-07-23</td>\n",
       "      <td>MSFT</td>\n",
       "      <td>1660</td>\n",
       "      <td>479446.871675</td>\n",
       "      <td>7800.583525</td>\n",
       "      <td>479556.175825</td>\n",
       "      <td>7801.753800</td>\n",
       "      <td>-0.022798</td>\n",
       "      <td>75percent_confidence_no_holding_15m_cnn</td>\n",
       "    </tr>\n",
       "    <tr>\n",
       "      <th>15263</th>\n",
       "      <td>Positions_2021-07-23</td>\n",
       "      <td>2021-07-23</td>\n",
       "      <td>NVDA</td>\n",
       "      <td>3503</td>\n",
       "      <td>685190.240400</td>\n",
       "      <td>5661.758775</td>\n",
       "      <td>684601.710775</td>\n",
       "      <td>5658.773425</td>\n",
       "      <td>0.085893</td>\n",
       "      <td>75percent_confidence_no_holding_15m_cnn</td>\n",
       "    </tr>\n",
       "    <tr>\n",
       "      <th>15264</th>\n",
       "      <td>Positions_2021-07-23</td>\n",
       "      <td>2021-07-23</td>\n",
       "      <td>QQQ</td>\n",
       "      <td>1472</td>\n",
       "      <td>539411.405900</td>\n",
       "      <td>9167.625925</td>\n",
       "      <td>539449.534375</td>\n",
       "      <td>9168.497675</td>\n",
       "      <td>-0.007069</td>\n",
       "      <td>75percent_confidence_no_holding_15m_cnn</td>\n",
       "    </tr>\n",
       "    <tr>\n",
       "      <th>15265</th>\n",
       "      <td>Positions_2021-07-23</td>\n",
       "      <td>2021-07-23</td>\n",
       "      <td>SPY</td>\n",
       "      <td>1155</td>\n",
       "      <td>506127.561600</td>\n",
       "      <td>10965.594350</td>\n",
       "      <td>506116.372000</td>\n",
       "      <td>10965.540200</td>\n",
       "      <td>0.002211</td>\n",
       "      <td>75percent_confidence_no_holding_15m_cnn</td>\n",
       "    </tr>\n",
       "    <tr>\n",
       "      <th>15266</th>\n",
       "      <td>Positions_2021-07-23</td>\n",
       "      <td>2021-07-23</td>\n",
       "      <td>TSLA</td>\n",
       "      <td>470</td>\n",
       "      <td>302600.480325</td>\n",
       "      <td>10940.374600</td>\n",
       "      <td>302589.959650</td>\n",
       "      <td>10942.778600</td>\n",
       "      <td>0.003477</td>\n",
       "      <td>75percent_confidence_no_holding_15m_cnn</td>\n",
       "    </tr>\n",
       "  </tbody>\n",
       "</table>\n",
       "</div>"
      ],
      "text/plain": [
       "                        key        Date Ticker  Quantity          Basis  \\\n",
       "15262  Positions_2021-07-23  2021-07-23   MSFT      1660  479446.871675   \n",
       "15263  Positions_2021-07-23  2021-07-23   NVDA      3503  685190.240400   \n",
       "15264  Positions_2021-07-23  2021-07-23    QQQ      1472  539411.405900   \n",
       "15265  Positions_2021-07-23  2021-07-23    SPY      1155  506127.561600   \n",
       "15266  Positions_2021-07-23  2021-07-23   TSLA       470  302600.480325   \n",
       "\n",
       "       Purchase Price  Current Value          Last    % Gain  \\\n",
       "15262     7800.583525  479556.175825   7801.753800 -0.022798   \n",
       "15263     5661.758775  684601.710775   5658.773425  0.085893   \n",
       "15264     9167.625925  539449.534375   9168.497675 -0.007069   \n",
       "15265    10965.594350  506116.372000  10965.540200  0.002211   \n",
       "15266    10940.374600  302589.959650  10942.778600  0.003477   \n",
       "\n",
       "                                         model  \n",
       "15262  75percent_confidence_no_holding_15m_cnn  \n",
       "15263  75percent_confidence_no_holding_15m_cnn  \n",
       "15264  75percent_confidence_no_holding_15m_cnn  \n",
       "15265  75percent_confidence_no_holding_15m_cnn  \n",
       "15266  75percent_confidence_no_holding_15m_cnn  "
      ]
     },
     "execution_count": 11,
     "metadata": {},
     "output_type": "execute_result"
    }
   ],
   "source": [
    "# Test with a load\n",
    "def import_open_positions():\n",
    "    conn = connect(dbname = '697_temp', user = 'postgres', host = 'databasesec.cvhiyxfodl3e.us-east-2.rds.amazonaws.com', password = 'poRter!5067')\n",
    "    cur = conn.cursor()\n",
    "    query = \"SELECT * FROM open_positions\"\n",
    "    data = pd.read_sql_query(query,conn)\n",
    "    data = data.sort_values(['key', 'model'])\n",
    "    return data\n",
    "open_pos_df = import_open_positions().drop('index',axis=1)\n",
    "\n",
    "open_pos_df.tail()\n"
   ]
  },
  {
   "cell_type": "code",
   "execution_count": 14,
   "id": "435f3ff0",
   "metadata": {},
   "outputs": [
    {
     "data": {
      "text/plain": [
       "'2020-09-04'"
      ]
     },
     "execution_count": 14,
     "metadata": {},
     "output_type": "execute_result"
    }
   ],
   "source": [
    "open_pos_df[open_pos_df['model']=='RF Reg_target_60_rebal_30_2017-01-01'].Date.max()"
   ]
  },
  {
   "cell_type": "markdown",
   "id": "4234d1f3",
   "metadata": {},
   "source": [
    "### Loading track records to postgres"
   ]
  },
  {
   "cell_type": "code",
   "execution_count": 25,
   "id": "de07491b",
   "metadata": {},
   "outputs": [
    {
     "data": {
      "text/plain": [
       "['track_record/RF Reg_target_60_rebal_30_2017-01-01.csv',\n",
       " 'track_record/RF Reg_target_120_rebal_30_2017-01-01.csv',\n",
       " 'track_record/RF Reg_target_120_rebal_60_2017-01-01.csv']"
      ]
     },
     "execution_count": 25,
     "metadata": {},
     "output_type": "execute_result"
    }
   ],
   "source": [
    "# Collect all CSVs in Open_Positions_Data folder\n",
    "txtfiles = []\n",
    "for file in glob.glob(\"track_record/*.csv\"):\n",
    "    txtfiles.append(file)\n",
    "    \n",
    "txtfiles"
   ]
  },
  {
   "cell_type": "code",
   "execution_count": 26,
   "id": "76069455",
   "metadata": {},
   "outputs": [
    {
     "data": {
      "text/html": [
       "<div>\n",
       "<style scoped>\n",
       "    .dataframe tbody tr th:only-of-type {\n",
       "        vertical-align: middle;\n",
       "    }\n",
       "\n",
       "    .dataframe tbody tr th {\n",
       "        vertical-align: top;\n",
       "    }\n",
       "\n",
       "    .dataframe thead th {\n",
       "        text-align: right;\n",
       "    }\n",
       "</style>\n",
       "<table border=\"1\" class=\"dataframe\">\n",
       "  <thead>\n",
       "    <tr style=\"text-align: right;\">\n",
       "      <th></th>\n",
       "      <th>Date</th>\n",
       "      <th>Value</th>\n",
       "      <th>Val_ex_cash</th>\n",
       "      <th>model</th>\n",
       "    </tr>\n",
       "  </thead>\n",
       "  <tbody>\n",
       "    <tr>\n",
       "      <th>0</th>\n",
       "      <td>2020-08-06</td>\n",
       "      <td>100000.000000</td>\n",
       "      <td>99465.751610</td>\n",
       "      <td>RF Reg_target_60_rebal_30_2017-01-01</td>\n",
       "    </tr>\n",
       "    <tr>\n",
       "      <th>1</th>\n",
       "      <td>2020-08-07</td>\n",
       "      <td>101398.918613</td>\n",
       "      <td>100864.670223</td>\n",
       "      <td>RF Reg_target_60_rebal_30_2017-01-01</td>\n",
       "    </tr>\n",
       "    <tr>\n",
       "      <th>2</th>\n",
       "      <td>2020-08-10</td>\n",
       "      <td>103963.916785</td>\n",
       "      <td>103429.668394</td>\n",
       "      <td>RF Reg_target_60_rebal_30_2017-01-01</td>\n",
       "    </tr>\n",
       "    <tr>\n",
       "      <th>3</th>\n",
       "      <td>2020-08-11</td>\n",
       "      <td>105306.857052</td>\n",
       "      <td>104772.608661</td>\n",
       "      <td>RF Reg_target_60_rebal_30_2017-01-01</td>\n",
       "    </tr>\n",
       "    <tr>\n",
       "      <th>4</th>\n",
       "      <td>2020-08-12</td>\n",
       "      <td>104401.500965</td>\n",
       "      <td>103867.252575</td>\n",
       "      <td>RF Reg_target_60_rebal_30_2017-01-01</td>\n",
       "    </tr>\n",
       "  </tbody>\n",
       "</table>\n",
       "</div>"
      ],
      "text/plain": [
       "         Date          Value    Val_ex_cash  \\\n",
       "0  2020-08-06  100000.000000   99465.751610   \n",
       "1  2020-08-07  101398.918613  100864.670223   \n",
       "2  2020-08-10  103963.916785  103429.668394   \n",
       "3  2020-08-11  105306.857052  104772.608661   \n",
       "4  2020-08-12  104401.500965  103867.252575   \n",
       "\n",
       "                                  model  \n",
       "0  RF Reg_target_60_rebal_30_2017-01-01  \n",
       "1  RF Reg_target_60_rebal_30_2017-01-01  \n",
       "2  RF Reg_target_60_rebal_30_2017-01-01  \n",
       "3  RF Reg_target_60_rebal_30_2017-01-01  \n",
       "4  RF Reg_target_60_rebal_30_2017-01-01  "
      ]
     },
     "execution_count": 26,
     "metadata": {},
     "output_type": "execute_result"
    }
   ],
   "source": [
    "# create temp_df to test loading\n",
    "temp_df = pd.read_csv(txtfiles[0],index_col=0)\n",
    "temp_df.head()"
   ]
  },
  {
   "cell_type": "code",
   "execution_count": null,
   "id": "72a92b54",
   "metadata": {},
   "outputs": [],
   "source": [
    "# Initial dataframe needs to create a new table\n",
    "temp_df.to_sql('track_record', engine)"
   ]
  },
  {
   "cell_type": "code",
   "execution_count": 27,
   "id": "3d543c8f",
   "metadata": {},
   "outputs": [],
   "source": [
    "# Append data to table\n",
    "temp_df.to_sql('track_record', engine, if_exists='append')"
   ]
  },
  {
   "cell_type": "code",
   "execution_count": 28,
   "id": "06fca5e9",
   "metadata": {},
   "outputs": [
    {
     "data": {
      "text/html": [
       "<div>\n",
       "<style scoped>\n",
       "    .dataframe tbody tr th:only-of-type {\n",
       "        vertical-align: middle;\n",
       "    }\n",
       "\n",
       "    .dataframe tbody tr th {\n",
       "        vertical-align: top;\n",
       "    }\n",
       "\n",
       "    .dataframe thead th {\n",
       "        text-align: right;\n",
       "    }\n",
       "</style>\n",
       "<table border=\"1\" class=\"dataframe\">\n",
       "  <thead>\n",
       "    <tr style=\"text-align: right;\">\n",
       "      <th></th>\n",
       "      <th>Date</th>\n",
       "      <th>Value</th>\n",
       "      <th>Val_ex_cash</th>\n",
       "      <th>model</th>\n",
       "    </tr>\n",
       "  </thead>\n",
       "  <tbody>\n",
       "    <tr>\n",
       "      <th>144</th>\n",
       "      <td>2020-07-19 00:00:00</td>\n",
       "      <td>100000.0000</td>\n",
       "      <td>100000.0000</td>\n",
       "      <td>75percent_confidence_no_holding_15m_cnn</td>\n",
       "    </tr>\n",
       "    <tr>\n",
       "      <th>145</th>\n",
       "      <td>2020-07-20 00:00:00</td>\n",
       "      <td>102126.2298</td>\n",
       "      <td>102126.2298</td>\n",
       "      <td>75percent_confidence_no_holding_15m_cnn</td>\n",
       "    </tr>\n",
       "    <tr>\n",
       "      <th>146</th>\n",
       "      <td>2020-07-21 00:00:00</td>\n",
       "      <td>101447.4265</td>\n",
       "      <td>101447.4265</td>\n",
       "      <td>75percent_confidence_no_holding_15m_cnn</td>\n",
       "    </tr>\n",
       "    <tr>\n",
       "      <th>147</th>\n",
       "      <td>2020-07-22 00:00:00</td>\n",
       "      <td>102702.7938</td>\n",
       "      <td>102702.7938</td>\n",
       "      <td>75percent_confidence_no_holding_15m_cnn</td>\n",
       "    </tr>\n",
       "    <tr>\n",
       "      <th>148</th>\n",
       "      <td>2020-07-23 00:00:00</td>\n",
       "      <td>102327.8937</td>\n",
       "      <td>102327.8937</td>\n",
       "      <td>75percent_confidence_no_holding_15m_cnn</td>\n",
       "    </tr>\n",
       "  </tbody>\n",
       "</table>\n",
       "</div>"
      ],
      "text/plain": [
       "                    Date        Value  Val_ex_cash  \\\n",
       "144  2020-07-19 00:00:00  100000.0000  100000.0000   \n",
       "145  2020-07-20 00:00:00  102126.2298  102126.2298   \n",
       "146  2020-07-21 00:00:00  101447.4265  101447.4265   \n",
       "147  2020-07-22 00:00:00  102702.7938  102702.7938   \n",
       "148  2020-07-23 00:00:00  102327.8937  102327.8937   \n",
       "\n",
       "                                       model  \n",
       "144  75percent_confidence_no_holding_15m_cnn  \n",
       "145  75percent_confidence_no_holding_15m_cnn  \n",
       "146  75percent_confidence_no_holding_15m_cnn  \n",
       "147  75percent_confidence_no_holding_15m_cnn  \n",
       "148  75percent_confidence_no_holding_15m_cnn  "
      ]
     },
     "execution_count": 28,
     "metadata": {},
     "output_type": "execute_result"
    }
   ],
   "source": [
    "# Test with a load\n",
    "def import_track_record():\n",
    "    conn = connect(dbname = '697_temp', user = 'postgres', host = 'databasesec.cvhiyxfodl3e.us-east-2.rds.amazonaws.com', password = 'poRter!5067')\n",
    "    cur = conn.cursor()\n",
    "    query = \"SELECT * FROM track_record\"\n",
    "    data = pd.read_sql_query(query,conn)\n",
    "    data = data.sort_values(['Date', 'model'])\n",
    "    return data\n",
    "track_df = import_track_record().drop('index',axis=1)\n",
    "\n",
    "track_df.head()\n"
   ]
  },
  {
   "cell_type": "markdown",
   "id": "60259c03",
   "metadata": {},
   "source": [
    "### Loading cash records to postgres"
   ]
  },
  {
   "cell_type": "code",
   "execution_count": 29,
   "id": "e23a64ac",
   "metadata": {},
   "outputs": [
    {
     "data": {
      "text/plain": [
       "['Cash_Positions_Data/RF Reg_target_60_rebal_30_2017-01-01.csv',\n",
       " 'Cash_Positions_Data/RF Reg_target_120_rebal_30_2017-01-01.csv',\n",
       " 'Cash_Positions_Data/RF Reg_target_120_rebal_60_2017-01-01.csv']"
      ]
     },
     "execution_count": 29,
     "metadata": {},
     "output_type": "execute_result"
    }
   ],
   "source": [
    "# Collect all CSVs in Open_Positions_Data folder\n",
    "txtfiles = []\n",
    "for file in glob.glob(\"Cash_Positions_Data/*.csv\"):\n",
    "    txtfiles.append(file)\n",
    "    \n",
    "txtfiles"
   ]
  },
  {
   "cell_type": "code",
   "execution_count": 30,
   "id": "3f626d30",
   "metadata": {},
   "outputs": [
    {
     "data": {
      "text/html": [
       "<div>\n",
       "<style scoped>\n",
       "    .dataframe tbody tr th:only-of-type {\n",
       "        vertical-align: middle;\n",
       "    }\n",
       "\n",
       "    .dataframe tbody tr th {\n",
       "        vertical-align: top;\n",
       "    }\n",
       "\n",
       "    .dataframe thead th {\n",
       "        text-align: right;\n",
       "    }\n",
       "</style>\n",
       "<table border=\"1\" class=\"dataframe\">\n",
       "  <thead>\n",
       "    <tr style=\"text-align: right;\">\n",
       "      <th></th>\n",
       "      <th>key</th>\n",
       "      <th>cash</th>\n",
       "      <th>model</th>\n",
       "    </tr>\n",
       "  </thead>\n",
       "  <tbody>\n",
       "    <tr>\n",
       "      <th>139</th>\n",
       "      <td>cash_2021-02-25</td>\n",
       "      <td>23.770446</td>\n",
       "      <td>RF Reg_target_60_rebal_30_2017-01-01</td>\n",
       "    </tr>\n",
       "    <tr>\n",
       "      <th>140</th>\n",
       "      <td>cash_2021-02-26</td>\n",
       "      <td>23.770446</td>\n",
       "      <td>RF Reg_target_60_rebal_30_2017-01-01</td>\n",
       "    </tr>\n",
       "    <tr>\n",
       "      <th>141</th>\n",
       "      <td>cash_2021-03-01</td>\n",
       "      <td>23.770446</td>\n",
       "      <td>RF Reg_target_60_rebal_30_2017-01-01</td>\n",
       "    </tr>\n",
       "    <tr>\n",
       "      <th>142</th>\n",
       "      <td>cash_2021-03-02</td>\n",
       "      <td>23.770446</td>\n",
       "      <td>RF Reg_target_60_rebal_30_2017-01-01</td>\n",
       "    </tr>\n",
       "    <tr>\n",
       "      <th>143</th>\n",
       "      <td>cash_2021-03-03</td>\n",
       "      <td>23.770446</td>\n",
       "      <td>RF Reg_target_60_rebal_30_2017-01-01</td>\n",
       "    </tr>\n",
       "  </tbody>\n",
       "</table>\n",
       "</div>"
      ],
      "text/plain": [
       "                 key       cash                                 model\n",
       "139  cash_2021-02-25  23.770446  RF Reg_target_60_rebal_30_2017-01-01\n",
       "140  cash_2021-02-26  23.770446  RF Reg_target_60_rebal_30_2017-01-01\n",
       "141  cash_2021-03-01  23.770446  RF Reg_target_60_rebal_30_2017-01-01\n",
       "142  cash_2021-03-02  23.770446  RF Reg_target_60_rebal_30_2017-01-01\n",
       "143  cash_2021-03-03  23.770446  RF Reg_target_60_rebal_30_2017-01-01"
      ]
     },
     "execution_count": 30,
     "metadata": {},
     "output_type": "execute_result"
    }
   ],
   "source": [
    "# create temp_df to test loading\n",
    "temp_df = pd.read_csv(txtfiles[0],index_col=0)\n",
    "temp_df.tail()"
   ]
  },
  {
   "cell_type": "code",
   "execution_count": 31,
   "id": "5583c0c6",
   "metadata": {},
   "outputs": [],
   "source": [
    "# Initial dataframe needs to create a new table\n",
    "temp_df.to_sql('cash_record', engine, if_exists='append')"
   ]
  },
  {
   "cell_type": "code",
   "execution_count": 10,
   "id": "932e2cf1",
   "metadata": {},
   "outputs": [
    {
     "data": {
      "text/html": [
       "<div>\n",
       "<style scoped>\n",
       "    .dataframe tbody tr th:only-of-type {\n",
       "        vertical-align: middle;\n",
       "    }\n",
       "\n",
       "    .dataframe tbody tr th {\n",
       "        vertical-align: top;\n",
       "    }\n",
       "\n",
       "    .dataframe thead th {\n",
       "        text-align: right;\n",
       "    }\n",
       "</style>\n",
       "<table border=\"1\" class=\"dataframe\">\n",
       "  <thead>\n",
       "    <tr style=\"text-align: right;\">\n",
       "      <th></th>\n",
       "      <th>key</th>\n",
       "      <th>cash</th>\n",
       "      <th>model</th>\n",
       "    </tr>\n",
       "  </thead>\n",
       "  <tbody>\n",
       "    <tr>\n",
       "      <th>407</th>\n",
       "      <td>cash_2021-02-25</td>\n",
       "      <td>23.770446</td>\n",
       "      <td>RF Reg_target_60_rebal_30_2017-01-01</td>\n",
       "    </tr>\n",
       "    <tr>\n",
       "      <th>408</th>\n",
       "      <td>cash_2021-02-26</td>\n",
       "      <td>23.770446</td>\n",
       "      <td>RF Reg_target_60_rebal_30_2017-01-01</td>\n",
       "    </tr>\n",
       "    <tr>\n",
       "      <th>409</th>\n",
       "      <td>cash_2021-03-01</td>\n",
       "      <td>23.770446</td>\n",
       "      <td>RF Reg_target_60_rebal_30_2017-01-01</td>\n",
       "    </tr>\n",
       "    <tr>\n",
       "      <th>410</th>\n",
       "      <td>cash_2021-03-02</td>\n",
       "      <td>23.770446</td>\n",
       "      <td>RF Reg_target_60_rebal_30_2017-01-01</td>\n",
       "    </tr>\n",
       "    <tr>\n",
       "      <th>411</th>\n",
       "      <td>cash_2021-03-03</td>\n",
       "      <td>23.770446</td>\n",
       "      <td>RF Reg_target_60_rebal_30_2017-01-01</td>\n",
       "    </tr>\n",
       "  </tbody>\n",
       "</table>\n",
       "</div>"
      ],
      "text/plain": [
       "                 key       cash                                 model\n",
       "407  cash_2021-02-25  23.770446  RF Reg_target_60_rebal_30_2017-01-01\n",
       "408  cash_2021-02-26  23.770446  RF Reg_target_60_rebal_30_2017-01-01\n",
       "409  cash_2021-03-01  23.770446  RF Reg_target_60_rebal_30_2017-01-01\n",
       "410  cash_2021-03-02  23.770446  RF Reg_target_60_rebal_30_2017-01-01\n",
       "411  cash_2021-03-03  23.770446  RF Reg_target_60_rebal_30_2017-01-01"
      ]
     },
     "execution_count": 10,
     "metadata": {},
     "output_type": "execute_result"
    }
   ],
   "source": [
    "# Test with a load\n",
    "def import_cash_record():\n",
    "    conn = connect(dbname = '697_temp', user = 'postgres', host = 'databasesec.cvhiyxfodl3e.us-east-2.rds.amazonaws.com', password = 'poRter!5067')\n",
    "    cur = conn.cursor()\n",
    "    query = \"SELECT * FROM cash_record\"\n",
    "    data = pd.read_sql_query(query,conn)\n",
    "    data = data.sort_values(['model','key'])\n",
    "    return data\n",
    "cash_df = import_cash_record().drop('index',axis=1)\n",
    "\n",
    "cash_df.tail()\n"
   ]
  },
  {
   "cell_type": "code",
   "execution_count": 15,
   "id": "e9fd7195",
   "metadata": {},
   "outputs": [],
   "source": [
    "max_date = open_pos_df[open_pos_df['model']=='RF Reg_target_60_rebal_30_2017-01-01'].Date.max()"
   ]
  },
  {
   "cell_type": "code",
   "execution_count": 20,
   "id": "1811b9bf",
   "metadata": {},
   "outputs": [
    {
     "data": {
      "text/plain": [
       "251.6393478362146"
      ]
     },
     "execution_count": 20,
     "metadata": {},
     "output_type": "execute_result"
    }
   ],
   "source": [
    "cash_df[(cash_df['key']==f'cash_{max_date}')&(cash_df['model']=='RF Reg_target_60_rebal_30_2017-01-01')].cash.values[0]"
   ]
  },
  {
   "cell_type": "markdown",
   "id": "e8d84cb7",
   "metadata": {},
   "source": [
    "### Loading Value Positions to postgres"
   ]
  },
  {
   "cell_type": "code",
   "execution_count": 33,
   "id": "39318d99",
   "metadata": {},
   "outputs": [
    {
     "data": {
      "text/plain": [
       "['Val_Positions_Data/RF Reg_target_60_rebal_30_2017-01-01.csv',\n",
       " 'Val_Positions_Data/RF Reg_target_120_rebal_30_2017-01-01.csv',\n",
       " 'Val_Positions_Data/RF Reg_target_120_rebal_60_2017-01-01.csv']"
      ]
     },
     "execution_count": 33,
     "metadata": {},
     "output_type": "execute_result"
    }
   ],
   "source": [
    "# Collect all CSVs in Open_Positions_Data folder\n",
    "txtfiles = []\n",
    "for file in glob.glob(\"Val_Positions_Data/*.csv\"):\n",
    "    txtfiles.append(file)\n",
    "    \n",
    "txtfiles"
   ]
  },
  {
   "cell_type": "code",
   "execution_count": 34,
   "id": "19ce85ce",
   "metadata": {},
   "outputs": [
    {
     "data": {
      "text/html": [
       "<div>\n",
       "<style scoped>\n",
       "    .dataframe tbody tr th:only-of-type {\n",
       "        vertical-align: middle;\n",
       "    }\n",
       "\n",
       "    .dataframe tbody tr th {\n",
       "        vertical-align: top;\n",
       "    }\n",
       "\n",
       "    .dataframe thead th {\n",
       "        text-align: right;\n",
       "    }\n",
       "</style>\n",
       "<table border=\"1\" class=\"dataframe\">\n",
       "  <thead>\n",
       "    <tr style=\"text-align: right;\">\n",
       "      <th></th>\n",
       "      <th>key</th>\n",
       "      <th>value</th>\n",
       "      <th>model</th>\n",
       "    </tr>\n",
       "  </thead>\n",
       "  <tbody>\n",
       "    <tr>\n",
       "      <th>139</th>\n",
       "      <td>val_2021-02-25</td>\n",
       "      <td>131991.759044</td>\n",
       "      <td>RF Reg_target_60_rebal_30_2017-01-01</td>\n",
       "    </tr>\n",
       "    <tr>\n",
       "      <th>140</th>\n",
       "      <td>val_2021-02-26</td>\n",
       "      <td>128376.205474</td>\n",
       "      <td>RF Reg_target_60_rebal_30_2017-01-01</td>\n",
       "    </tr>\n",
       "    <tr>\n",
       "      <th>141</th>\n",
       "      <td>val_2021-03-01</td>\n",
       "      <td>129952.513408</td>\n",
       "      <td>RF Reg_target_60_rebal_30_2017-01-01</td>\n",
       "    </tr>\n",
       "    <tr>\n",
       "      <th>142</th>\n",
       "      <td>val_2021-03-02</td>\n",
       "      <td>130075.125108</td>\n",
       "      <td>RF Reg_target_60_rebal_30_2017-01-01</td>\n",
       "    </tr>\n",
       "    <tr>\n",
       "      <th>143</th>\n",
       "      <td>val_2021-03-03</td>\n",
       "      <td>130563.511682</td>\n",
       "      <td>RF Reg_target_60_rebal_30_2017-01-01</td>\n",
       "    </tr>\n",
       "  </tbody>\n",
       "</table>\n",
       "</div>"
      ],
      "text/plain": [
       "                key          value                                 model\n",
       "139  val_2021-02-25  131991.759044  RF Reg_target_60_rebal_30_2017-01-01\n",
       "140  val_2021-02-26  128376.205474  RF Reg_target_60_rebal_30_2017-01-01\n",
       "141  val_2021-03-01  129952.513408  RF Reg_target_60_rebal_30_2017-01-01\n",
       "142  val_2021-03-02  130075.125108  RF Reg_target_60_rebal_30_2017-01-01\n",
       "143  val_2021-03-03  130563.511682  RF Reg_target_60_rebal_30_2017-01-01"
      ]
     },
     "execution_count": 34,
     "metadata": {},
     "output_type": "execute_result"
    }
   ],
   "source": [
    "# create temp_df to test loading\n",
    "temp_df = pd.read_csv(txtfiles[0],index_col=0)\n",
    "temp_df.tail()"
   ]
  },
  {
   "cell_type": "code",
   "execution_count": 35,
   "id": "c4ade166",
   "metadata": {},
   "outputs": [],
   "source": [
    "# Initial dataframe needs to create a new table\n",
    "temp_df.to_sql('val_positions', engine,if_exists='append')"
   ]
  },
  {
   "cell_type": "code",
   "execution_count": 36,
   "id": "cb638eee",
   "metadata": {},
   "outputs": [
    {
     "data": {
      "text/html": [
       "<div>\n",
       "<style scoped>\n",
       "    .dataframe tbody tr th:only-of-type {\n",
       "        vertical-align: middle;\n",
       "    }\n",
       "\n",
       "    .dataframe tbody tr th {\n",
       "        vertical-align: top;\n",
       "    }\n",
       "\n",
       "    .dataframe thead th {\n",
       "        text-align: right;\n",
       "    }\n",
       "</style>\n",
       "<table border=\"1\" class=\"dataframe\">\n",
       "  <thead>\n",
       "    <tr style=\"text-align: right;\">\n",
       "      <th></th>\n",
       "      <th>key</th>\n",
       "      <th>value</th>\n",
       "      <th>model</th>\n",
       "    </tr>\n",
       "  </thead>\n",
       "  <tbody>\n",
       "    <tr>\n",
       "      <th>777</th>\n",
       "      <td>val_2021-02-25</td>\n",
       "      <td>131991.759044</td>\n",
       "      <td>RF Reg_target_60_rebal_30_2017-01-01</td>\n",
       "    </tr>\n",
       "    <tr>\n",
       "      <th>778</th>\n",
       "      <td>val_2021-02-26</td>\n",
       "      <td>128376.205474</td>\n",
       "      <td>RF Reg_target_60_rebal_30_2017-01-01</td>\n",
       "    </tr>\n",
       "    <tr>\n",
       "      <th>779</th>\n",
       "      <td>val_2021-03-01</td>\n",
       "      <td>129952.513408</td>\n",
       "      <td>RF Reg_target_60_rebal_30_2017-01-01</td>\n",
       "    </tr>\n",
       "    <tr>\n",
       "      <th>780</th>\n",
       "      <td>val_2021-03-02</td>\n",
       "      <td>130075.125108</td>\n",
       "      <td>RF Reg_target_60_rebal_30_2017-01-01</td>\n",
       "    </tr>\n",
       "    <tr>\n",
       "      <th>781</th>\n",
       "      <td>val_2021-03-03</td>\n",
       "      <td>130563.511682</td>\n",
       "      <td>RF Reg_target_60_rebal_30_2017-01-01</td>\n",
       "    </tr>\n",
       "  </tbody>\n",
       "</table>\n",
       "</div>"
      ],
      "text/plain": [
       "                key          value                                 model\n",
       "777  val_2021-02-25  131991.759044  RF Reg_target_60_rebal_30_2017-01-01\n",
       "778  val_2021-02-26  128376.205474  RF Reg_target_60_rebal_30_2017-01-01\n",
       "779  val_2021-03-01  129952.513408  RF Reg_target_60_rebal_30_2017-01-01\n",
       "780  val_2021-03-02  130075.125108  RF Reg_target_60_rebal_30_2017-01-01\n",
       "781  val_2021-03-03  130563.511682  RF Reg_target_60_rebal_30_2017-01-01"
      ]
     },
     "execution_count": 36,
     "metadata": {},
     "output_type": "execute_result"
    }
   ],
   "source": [
    "# Test with a load\n",
    "def import_val_positions():\n",
    "    conn = connect(dbname = '697_temp', user = 'postgres', host = 'databasesec.cvhiyxfodl3e.us-east-2.rds.amazonaws.com', password = 'poRter!5067')\n",
    "    cur = conn.cursor()\n",
    "    query = \"SELECT * FROM val_positions\"\n",
    "    data = pd.read_sql_query(query,conn)\n",
    "    data = data.sort_values(['model','key'])\n",
    "    return data\n",
    "val_df = import_val_positions().drop('index',axis=1)\n",
    "\n",
    "val_df.tail()"
   ]
  },
  {
   "cell_type": "code",
   "execution_count": null,
   "id": "59487636",
   "metadata": {},
   "outputs": [],
   "source": []
  }
 ],
 "metadata": {
  "kernelspec": {
   "display_name": "venv",
   "language": "python",
   "name": "venv"
  },
  "language_info": {
   "codemirror_mode": {
    "name": "ipython",
    "version": 3
   },
   "file_extension": ".py",
   "mimetype": "text/x-python",
   "name": "python",
   "nbconvert_exporter": "python",
   "pygments_lexer": "ipython3",
   "version": "3.7.4"
  },
  "latex_envs": {
   "LaTeX_envs_menu_present": true,
   "autoclose": false,
   "autocomplete": true,
   "bibliofile": "biblio.bib",
   "cite_by": "apalike",
   "current_citInitial": 1,
   "eqLabelWithNumbers": true,
   "eqNumInitial": 1,
   "hotkeys": {
    "equation": "Ctrl-E",
    "itemize": "Ctrl-I"
   },
   "labels_anchors": false,
   "latex_user_defs": false,
   "report_style_numbering": false,
   "user_envs_cfg": false
  }
 },
 "nbformat": 4,
 "nbformat_minor": 5
}
