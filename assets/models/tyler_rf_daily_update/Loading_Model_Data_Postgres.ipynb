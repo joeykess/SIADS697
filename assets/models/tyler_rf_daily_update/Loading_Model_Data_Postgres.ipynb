{
 "cells": [
  {
   "cell_type": "code",
   "execution_count": 1,
   "id": "0420ae40",
   "metadata": {},
   "outputs": [],
   "source": [
    "# Import useful packages\n",
    "import os\n",
    "import time\n",
    "import pandas as pd\n",
    "import glob\n",
    "import numpy as np\n",
    "\n",
    "# For loading/querying postgres\n",
    "from sqlalchemy import create_engine\n",
    "import psycopg2\n",
    "from psycopg2 import connect"
   ]
  },
  {
   "cell_type": "code",
   "execution_count": 2,
   "id": "7834672e",
   "metadata": {},
   "outputs": [],
   "source": [
    "# Create SQL engine to load data to postgres for central usage\n",
    "from sqlalchemy import create_engine\n",
    "dbname = '697_temp'\n",
    "user = 'postgres'\n",
    "password = 'poRter!5067'\n",
    "host = 'databasesec.cvhiyxfodl3e.us-east-2.rds.amazonaws.com'\n",
    "\n",
    "engine = create_engine(f'postgresql://{user}:{password}@{host}/{dbname}')"
   ]
  },
  {
   "cell_type": "markdown",
   "id": "0b8bf4b7",
   "metadata": {},
   "source": [
    "### Loading Open Positions to Postgres"
   ]
  },
  {
   "cell_type": "code",
   "execution_count": null,
   "id": "8199d9fc",
   "metadata": {},
   "outputs": [],
   "source": [
    "# Collect all CSVs in Open_Positions_Data folder\n",
    "txtfiles = []\n",
    "for file in glob.glob(\"Open_Positions_Data/*.csv\"):\n",
    "    txtfiles.append(file)\n",
    "    \n",
    "txtfiles"
   ]
  },
  {
   "cell_type": "code",
   "execution_count": null,
   "id": "875b90d7",
   "metadata": {},
   "outputs": [],
   "source": [
    "# create temp_df to test loading\n",
    "temp_df = pd.read_csv(txtfiles[0],index_col=0)\n",
    "temp_df.head()"
   ]
  },
  {
   "cell_type": "code",
   "execution_count": null,
   "id": "9bfc679e",
   "metadata": {},
   "outputs": [],
   "source": [
    "# Initial dataframe needs to create a new table\n",
    "temp_df.to_sql('open_positions', engine)"
   ]
  },
  {
   "cell_type": "code",
   "execution_count": null,
   "id": "42cb9707",
   "metadata": {},
   "outputs": [],
   "source": [
    "# Test with a load\n",
    "def import_open_positions():\n",
    "#     conn = connect(dbname = '697_temp', user = 'postgres', host = 'databasesec.cvhiyxfodl3e.us-east-2.rds.amazonaws.com', password = 'poRter!5067')\n",
    "    cur = conn.cursor()\n",
    "    query = \"SELECT * FROM open_positions\"\n",
    "    data = pd.read_sql_query(query,conn)\n",
    "    data = data.sort_values(['key', 'model'])\n",
    "    return data\n",
    "open_pos_df = import_open_positions().drop('index',axis=1)\n",
    "\n",
    "open_pos_df.tail()\n"
   ]
  },
  {
   "cell_type": "markdown",
   "id": "4234d1f3",
   "metadata": {},
   "source": [
    "### Loading track records to postgres"
   ]
  },
  {
   "cell_type": "code",
   "execution_count": null,
   "id": "de07491b",
   "metadata": {},
   "outputs": [],
   "source": [
    "# Collect all CSVs in Open_Positions_Data folder\n",
    "txtfiles = []\n",
    "for file in glob.glob(\"track_record/*.csv\"):\n",
    "    txtfiles.append(file)\n",
    "    \n",
    "txtfiles"
   ]
  },
  {
   "cell_type": "code",
   "execution_count": null,
   "id": "76069455",
   "metadata": {},
   "outputs": [],
   "source": [
    "# create temp_df to test loading\n",
    "temp_df = pd.read_csv(txtfiles[0],index_col=0)\n",
    "temp_df.head()"
   ]
  },
  {
   "cell_type": "code",
   "execution_count": null,
   "id": "72a92b54",
   "metadata": {},
   "outputs": [],
   "source": [
    "# Initial dataframe needs to create a new table\n",
    "temp_df.to_sql('track_record', engine)"
   ]
  },
  {
   "cell_type": "code",
   "execution_count": 16,
   "id": "06fca5e9",
   "metadata": {},
   "outputs": [
    {
     "data": {
      "text/html": [
       "<div>\n",
       "<style scoped>\n",
       "    .dataframe tbody tr th:only-of-type {\n",
       "        vertical-align: middle;\n",
       "    }\n",
       "\n",
       "    .dataframe tbody tr th {\n",
       "        vertical-align: top;\n",
       "    }\n",
       "\n",
       "    .dataframe thead th {\n",
       "        text-align: right;\n",
       "    }\n",
       "</style>\n",
       "<table border=\"1\" class=\"dataframe\">\n",
       "  <thead>\n",
       "    <tr style=\"text-align: right;\">\n",
       "      <th></th>\n",
       "      <th>Date</th>\n",
       "      <th>Value</th>\n",
       "      <th>Val_ex_cash</th>\n",
       "      <th>model</th>\n",
       "    </tr>\n",
       "  </thead>\n",
       "  <tbody>\n",
       "    <tr>\n",
       "      <th>0</th>\n",
       "      <td>2020-08-06</td>\n",
       "      <td>100000.000000</td>\n",
       "      <td>99591.157106</td>\n",
       "      <td>RF Reg_target_120_rebal_30_2017-01-01</td>\n",
       "    </tr>\n",
       "    <tr>\n",
       "      <th>1</th>\n",
       "      <td>2020-08-07</td>\n",
       "      <td>100404.519099</td>\n",
       "      <td>99995.676205</td>\n",
       "      <td>RF Reg_target_120_rebal_30_2017-01-01</td>\n",
       "    </tr>\n",
       "    <tr>\n",
       "      <th>2</th>\n",
       "      <td>2020-08-10</td>\n",
       "      <td>104338.074718</td>\n",
       "      <td>103929.231824</td>\n",
       "      <td>RF Reg_target_120_rebal_30_2017-01-01</td>\n",
       "    </tr>\n",
       "    <tr>\n",
       "      <th>3</th>\n",
       "      <td>2020-08-11</td>\n",
       "      <td>108502.006702</td>\n",
       "      <td>108093.163809</td>\n",
       "      <td>RF Reg_target_120_rebal_30_2017-01-01</td>\n",
       "    </tr>\n",
       "    <tr>\n",
       "      <th>4</th>\n",
       "      <td>2020-08-12</td>\n",
       "      <td>106806.659895</td>\n",
       "      <td>106397.817002</td>\n",
       "      <td>RF Reg_target_120_rebal_30_2017-01-01</td>\n",
       "    </tr>\n",
       "  </tbody>\n",
       "</table>\n",
       "</div>"
      ],
      "text/plain": [
       "         Date          Value    Val_ex_cash  \\\n",
       "0  2020-08-06  100000.000000   99591.157106   \n",
       "1  2020-08-07  100404.519099   99995.676205   \n",
       "2  2020-08-10  104338.074718  103929.231824   \n",
       "3  2020-08-11  108502.006702  108093.163809   \n",
       "4  2020-08-12  106806.659895  106397.817002   \n",
       "\n",
       "                                   model  \n",
       "0  RF Reg_target_120_rebal_30_2017-01-01  \n",
       "1  RF Reg_target_120_rebal_30_2017-01-01  \n",
       "2  RF Reg_target_120_rebal_30_2017-01-01  \n",
       "3  RF Reg_target_120_rebal_30_2017-01-01  \n",
       "4  RF Reg_target_120_rebal_30_2017-01-01  "
      ]
     },
     "execution_count": 16,
     "metadata": {},
     "output_type": "execute_result"
    }
   ],
   "source": [
    "# Test with a load\n",
    "def import_track_record():\n",
    "    conn = connect(dbname = '697_temp', user = 'postgres', host = 'databasesec.cvhiyxfodl3e.us-east-2.rds.amazonaws.com', password = 'poRter!5067')\n",
    "    cur = conn.cursor()\n",
    "    query = \"SELECT * FROM track_record\"\n",
    "    data = pd.read_sql_query(query,conn)\n",
    "    data = data.sort_values(['Date', 'model'])\n",
    "    return data\n",
    "track_df = import_track_record().drop('index',axis=1)\n",
    "\n",
    "track_df.head()\n"
   ]
  },
  {
   "cell_type": "markdown",
   "id": "60259c03",
   "metadata": {},
   "source": [
    "### Loading cash records to postgres"
   ]
  },
  {
   "cell_type": "code",
   "execution_count": 4,
   "id": "e23a64ac",
   "metadata": {},
   "outputs": [
    {
     "data": {
      "text/plain": [
       "['Cash_Positions_Data/RF Reg_target_120_rebal_30_2017-01-01.csv']"
      ]
     },
     "execution_count": 4,
     "metadata": {},
     "output_type": "execute_result"
    }
   ],
   "source": [
    "# Collect all CSVs in Open_Positions_Data folder\n",
    "txtfiles = []\n",
    "for file in glob.glob(\"Cash_Positions_Data/*.csv\"):\n",
    "    txtfiles.append(file)\n",
    "    \n",
    "txtfiles"
   ]
  },
  {
   "cell_type": "code",
   "execution_count": 5,
   "id": "3f626d30",
   "metadata": {},
   "outputs": [
    {
     "data": {
      "text/html": [
       "<div>\n",
       "<style scoped>\n",
       "    .dataframe tbody tr th:only-of-type {\n",
       "        vertical-align: middle;\n",
       "    }\n",
       "\n",
       "    .dataframe tbody tr th {\n",
       "        vertical-align: top;\n",
       "    }\n",
       "\n",
       "    .dataframe thead th {\n",
       "        text-align: right;\n",
       "    }\n",
       "</style>\n",
       "<table border=\"1\" class=\"dataframe\">\n",
       "  <thead>\n",
       "    <tr style=\"text-align: right;\">\n",
       "      <th></th>\n",
       "      <th>key</th>\n",
       "      <th>cash</th>\n",
       "      <th>model</th>\n",
       "    </tr>\n",
       "  </thead>\n",
       "  <tbody>\n",
       "    <tr>\n",
       "      <th>139</th>\n",
       "      <td>cash_2021-02-25</td>\n",
       "      <td>22.961293</td>\n",
       "      <td>RF Reg_target_120_rebal_30_2017-01-01</td>\n",
       "    </tr>\n",
       "    <tr>\n",
       "      <th>140</th>\n",
       "      <td>cash_2021-02-26</td>\n",
       "      <td>22.961293</td>\n",
       "      <td>RF Reg_target_120_rebal_30_2017-01-01</td>\n",
       "    </tr>\n",
       "    <tr>\n",
       "      <th>141</th>\n",
       "      <td>cash_2021-03-01</td>\n",
       "      <td>22.961293</td>\n",
       "      <td>RF Reg_target_120_rebal_30_2017-01-01</td>\n",
       "    </tr>\n",
       "    <tr>\n",
       "      <th>142</th>\n",
       "      <td>cash_2021-03-02</td>\n",
       "      <td>22.961293</td>\n",
       "      <td>RF Reg_target_120_rebal_30_2017-01-01</td>\n",
       "    </tr>\n",
       "    <tr>\n",
       "      <th>143</th>\n",
       "      <td>cash_2021-03-03</td>\n",
       "      <td>22.961293</td>\n",
       "      <td>RF Reg_target_120_rebal_30_2017-01-01</td>\n",
       "    </tr>\n",
       "  </tbody>\n",
       "</table>\n",
       "</div>"
      ],
      "text/plain": [
       "                 key       cash                                  model\n",
       "139  cash_2021-02-25  22.961293  RF Reg_target_120_rebal_30_2017-01-01\n",
       "140  cash_2021-02-26  22.961293  RF Reg_target_120_rebal_30_2017-01-01\n",
       "141  cash_2021-03-01  22.961293  RF Reg_target_120_rebal_30_2017-01-01\n",
       "142  cash_2021-03-02  22.961293  RF Reg_target_120_rebal_30_2017-01-01\n",
       "143  cash_2021-03-03  22.961293  RF Reg_target_120_rebal_30_2017-01-01"
      ]
     },
     "execution_count": 5,
     "metadata": {},
     "output_type": "execute_result"
    }
   ],
   "source": [
    "# create temp_df to test loading\n",
    "temp_df = pd.read_csv(txtfiles[0],index_col=0)\n",
    "temp_df.tail()"
   ]
  },
  {
   "cell_type": "code",
   "execution_count": 13,
   "id": "5583c0c6",
   "metadata": {},
   "outputs": [],
   "source": [
    "# Initial dataframe needs to create a new table\n",
    "temp_df.to_sql('cash_record', engine,if_exists='append')"
   ]
  },
  {
   "cell_type": "code",
   "execution_count": 14,
   "id": "932e2cf1",
   "metadata": {},
   "outputs": [
    {
     "data": {
      "text/html": [
       "<div>\n",
       "<style scoped>\n",
       "    .dataframe tbody tr th:only-of-type {\n",
       "        vertical-align: middle;\n",
       "    }\n",
       "\n",
       "    .dataframe tbody tr th {\n",
       "        vertical-align: top;\n",
       "    }\n",
       "\n",
       "    .dataframe thead th {\n",
       "        text-align: right;\n",
       "    }\n",
       "</style>\n",
       "<table border=\"1\" class=\"dataframe\">\n",
       "  <thead>\n",
       "    <tr style=\"text-align: right;\">\n",
       "      <th></th>\n",
       "      <th>key</th>\n",
       "      <th>cash</th>\n",
       "      <th>model</th>\n",
       "    </tr>\n",
       "  </thead>\n",
       "  <tbody>\n",
       "    <tr>\n",
       "      <th>139</th>\n",
       "      <td>cash_2021-02-25</td>\n",
       "      <td>22.961293</td>\n",
       "      <td>RF Reg_target_120_rebal_30_2017-01-01</td>\n",
       "    </tr>\n",
       "    <tr>\n",
       "      <th>140</th>\n",
       "      <td>cash_2021-02-26</td>\n",
       "      <td>22.961293</td>\n",
       "      <td>RF Reg_target_120_rebal_30_2017-01-01</td>\n",
       "    </tr>\n",
       "    <tr>\n",
       "      <th>141</th>\n",
       "      <td>cash_2021-03-01</td>\n",
       "      <td>22.961293</td>\n",
       "      <td>RF Reg_target_120_rebal_30_2017-01-01</td>\n",
       "    </tr>\n",
       "    <tr>\n",
       "      <th>142</th>\n",
       "      <td>cash_2021-03-02</td>\n",
       "      <td>22.961293</td>\n",
       "      <td>RF Reg_target_120_rebal_30_2017-01-01</td>\n",
       "    </tr>\n",
       "    <tr>\n",
       "      <th>143</th>\n",
       "      <td>cash_2021-03-03</td>\n",
       "      <td>22.961293</td>\n",
       "      <td>RF Reg_target_120_rebal_30_2017-01-01</td>\n",
       "    </tr>\n",
       "  </tbody>\n",
       "</table>\n",
       "</div>"
      ],
      "text/plain": [
       "                 key       cash                                  model\n",
       "139  cash_2021-02-25  22.961293  RF Reg_target_120_rebal_30_2017-01-01\n",
       "140  cash_2021-02-26  22.961293  RF Reg_target_120_rebal_30_2017-01-01\n",
       "141  cash_2021-03-01  22.961293  RF Reg_target_120_rebal_30_2017-01-01\n",
       "142  cash_2021-03-02  22.961293  RF Reg_target_120_rebal_30_2017-01-01\n",
       "143  cash_2021-03-03  22.961293  RF Reg_target_120_rebal_30_2017-01-01"
      ]
     },
     "execution_count": 14,
     "metadata": {},
     "output_type": "execute_result"
    }
   ],
   "source": [
    "# Test with a load\n",
    "def import_cash_record():\n",
    "    conn = connect(dbname = '697_temp', user = 'postgres', host = 'databasesec.cvhiyxfodl3e.us-east-2.rds.amazonaws.com', password = 'poRter!5067')\n",
    "    cur = conn.cursor()\n",
    "    query = \"SELECT * FROM cash_record\"\n",
    "    data = pd.read_sql_query(query,conn)\n",
    "    data = data.sort_values(['model','key'])\n",
    "    return data\n",
    "cash_df = import_cash_record().drop('index',axis=1)\n",
    "\n",
    "cash_df.tail()\n"
   ]
  },
  {
   "cell_type": "code",
   "execution_count": 15,
   "id": "1811b9bf",
   "metadata": {},
   "outputs": [
    {
     "data": {
      "text/plain": [
       "key      144\n",
       "cash     144\n",
       "model    144\n",
       "dtype: int64"
      ]
     },
     "execution_count": 15,
     "metadata": {},
     "output_type": "execute_result"
    }
   ],
   "source": [
    "cash_df.count()"
   ]
  },
  {
   "cell_type": "markdown",
   "id": "e8d84cb7",
   "metadata": {},
   "source": [
    "### Loading Value Positions to postgres"
   ]
  },
  {
   "cell_type": "code",
   "execution_count": 17,
   "id": "39318d99",
   "metadata": {},
   "outputs": [
    {
     "data": {
      "text/plain": [
       "['Val_Positions_Data/RF Reg_target_120_rebal_30_2017-01-01.csv']"
      ]
     },
     "execution_count": 17,
     "metadata": {},
     "output_type": "execute_result"
    }
   ],
   "source": [
    "# Collect all CSVs in Open_Positions_Data folder\n",
    "txtfiles = []\n",
    "for file in glob.glob(\"Val_Positions_Data/*.csv\"):\n",
    "    txtfiles.append(file)\n",
    "    \n",
    "txtfiles"
   ]
  },
  {
   "cell_type": "code",
   "execution_count": 18,
   "id": "19ce85ce",
   "metadata": {},
   "outputs": [
    {
     "data": {
      "text/html": [
       "<div>\n",
       "<style scoped>\n",
       "    .dataframe tbody tr th:only-of-type {\n",
       "        vertical-align: middle;\n",
       "    }\n",
       "\n",
       "    .dataframe tbody tr th {\n",
       "        vertical-align: top;\n",
       "    }\n",
       "\n",
       "    .dataframe thead th {\n",
       "        text-align: right;\n",
       "    }\n",
       "</style>\n",
       "<table border=\"1\" class=\"dataframe\">\n",
       "  <thead>\n",
       "    <tr style=\"text-align: right;\">\n",
       "      <th></th>\n",
       "      <th>key</th>\n",
       "      <th>value</th>\n",
       "      <th>model</th>\n",
       "    </tr>\n",
       "  </thead>\n",
       "  <tbody>\n",
       "    <tr>\n",
       "      <th>139</th>\n",
       "      <td>val_2021-02-25</td>\n",
       "      <td>169358.899298</td>\n",
       "      <td>RF Reg_target_120_rebal_30_2017-01-01</td>\n",
       "    </tr>\n",
       "    <tr>\n",
       "      <th>140</th>\n",
       "      <td>val_2021-02-26</td>\n",
       "      <td>163775.908318</td>\n",
       "      <td>RF Reg_target_120_rebal_30_2017-01-01</td>\n",
       "    </tr>\n",
       "    <tr>\n",
       "      <th>141</th>\n",
       "      <td>val_2021-03-01</td>\n",
       "      <td>167727.639779</td>\n",
       "      <td>RF Reg_target_120_rebal_30_2017-01-01</td>\n",
       "    </tr>\n",
       "    <tr>\n",
       "      <th>142</th>\n",
       "      <td>val_2021-03-02</td>\n",
       "      <td>167756.624743</td>\n",
       "      <td>RF Reg_target_120_rebal_30_2017-01-01</td>\n",
       "    </tr>\n",
       "    <tr>\n",
       "      <th>143</th>\n",
       "      <td>val_2021-03-03</td>\n",
       "      <td>171210.687314</td>\n",
       "      <td>RF Reg_target_120_rebal_30_2017-01-01</td>\n",
       "    </tr>\n",
       "  </tbody>\n",
       "</table>\n",
       "</div>"
      ],
      "text/plain": [
       "                key          value                                  model\n",
       "139  val_2021-02-25  169358.899298  RF Reg_target_120_rebal_30_2017-01-01\n",
       "140  val_2021-02-26  163775.908318  RF Reg_target_120_rebal_30_2017-01-01\n",
       "141  val_2021-03-01  167727.639779  RF Reg_target_120_rebal_30_2017-01-01\n",
       "142  val_2021-03-02  167756.624743  RF Reg_target_120_rebal_30_2017-01-01\n",
       "143  val_2021-03-03  171210.687314  RF Reg_target_120_rebal_30_2017-01-01"
      ]
     },
     "execution_count": 18,
     "metadata": {},
     "output_type": "execute_result"
    }
   ],
   "source": [
    "# create temp_df to test loading\n",
    "temp_df = pd.read_csv(txtfiles[0],index_col=0)\n",
    "temp_df.tail()"
   ]
  },
  {
   "cell_type": "code",
   "execution_count": 19,
   "id": "c4ade166",
   "metadata": {},
   "outputs": [],
   "source": [
    "# Initial dataframe needs to create a new table\n",
    "temp_df.to_sql('val_positions', engine,if_exists='append')"
   ]
  },
  {
   "cell_type": "code",
   "execution_count": 21,
   "id": "cb638eee",
   "metadata": {},
   "outputs": [
    {
     "data": {
      "text/html": [
       "<div>\n",
       "<style scoped>\n",
       "    .dataframe tbody tr th:only-of-type {\n",
       "        vertical-align: middle;\n",
       "    }\n",
       "\n",
       "    .dataframe tbody tr th {\n",
       "        vertical-align: top;\n",
       "    }\n",
       "\n",
       "    .dataframe thead th {\n",
       "        text-align: right;\n",
       "    }\n",
       "</style>\n",
       "<table border=\"1\" class=\"dataframe\">\n",
       "  <thead>\n",
       "    <tr style=\"text-align: right;\">\n",
       "      <th></th>\n",
       "      <th>key</th>\n",
       "      <th>value</th>\n",
       "      <th>model</th>\n",
       "    </tr>\n",
       "  </thead>\n",
       "  <tbody>\n",
       "    <tr>\n",
       "      <th>139</th>\n",
       "      <td>val_2021-02-25</td>\n",
       "      <td>169358.899298</td>\n",
       "      <td>RF Reg_target_120_rebal_30_2017-01-01</td>\n",
       "    </tr>\n",
       "    <tr>\n",
       "      <th>140</th>\n",
       "      <td>val_2021-02-26</td>\n",
       "      <td>163775.908318</td>\n",
       "      <td>RF Reg_target_120_rebal_30_2017-01-01</td>\n",
       "    </tr>\n",
       "    <tr>\n",
       "      <th>141</th>\n",
       "      <td>val_2021-03-01</td>\n",
       "      <td>167727.639779</td>\n",
       "      <td>RF Reg_target_120_rebal_30_2017-01-01</td>\n",
       "    </tr>\n",
       "    <tr>\n",
       "      <th>142</th>\n",
       "      <td>val_2021-03-02</td>\n",
       "      <td>167756.624743</td>\n",
       "      <td>RF Reg_target_120_rebal_30_2017-01-01</td>\n",
       "    </tr>\n",
       "    <tr>\n",
       "      <th>143</th>\n",
       "      <td>val_2021-03-03</td>\n",
       "      <td>171210.687314</td>\n",
       "      <td>RF Reg_target_120_rebal_30_2017-01-01</td>\n",
       "    </tr>\n",
       "  </tbody>\n",
       "</table>\n",
       "</div>"
      ],
      "text/plain": [
       "                key          value                                  model\n",
       "139  val_2021-02-25  169358.899298  RF Reg_target_120_rebal_30_2017-01-01\n",
       "140  val_2021-02-26  163775.908318  RF Reg_target_120_rebal_30_2017-01-01\n",
       "141  val_2021-03-01  167727.639779  RF Reg_target_120_rebal_30_2017-01-01\n",
       "142  val_2021-03-02  167756.624743  RF Reg_target_120_rebal_30_2017-01-01\n",
       "143  val_2021-03-03  171210.687314  RF Reg_target_120_rebal_30_2017-01-01"
      ]
     },
     "execution_count": 21,
     "metadata": {},
     "output_type": "execute_result"
    }
   ],
   "source": [
    "# Test with a load\n",
    "def import_val_positions():\n",
    "    conn = connect(dbname = '697_temp', user = 'postgres', host = 'databasesec.cvhiyxfodl3e.us-east-2.rds.amazonaws.com', password = 'poRter!5067')\n",
    "    cur = conn.cursor()\n",
    "    query = \"SELECT * FROM val_positions\"\n",
    "    data = pd.read_sql_query(query,conn)\n",
    "    data = data.sort_values(['model','key'])\n",
    "    return data\n",
    "val_df = import_val_positions().drop('index',axis=1)\n",
    "\n",
    "val_df.tail()"
   ]
  },
  {
   "cell_type": "code",
   "execution_count": null,
   "id": "59487636",
   "metadata": {},
   "outputs": [],
   "source": []
  }
 ],
 "metadata": {
  "kernelspec": {
   "display_name": "venv",
   "language": "python",
   "name": "venv"
  },
  "language_info": {
   "codemirror_mode": {
    "name": "ipython",
    "version": 3
   },
   "file_extension": ".py",
   "mimetype": "text/x-python",
   "name": "python",
   "nbconvert_exporter": "python",
   "pygments_lexer": "ipython3",
   "version": "3.7.4"
  },
  "latex_envs": {
   "LaTeX_envs_menu_present": true,
   "autoclose": false,
   "autocomplete": true,
   "bibliofile": "biblio.bib",
   "cite_by": "apalike",
   "current_citInitial": 1,
   "eqLabelWithNumbers": true,
   "eqNumInitial": 1,
   "hotkeys": {
    "equation": "Ctrl-E",
    "itemize": "Ctrl-I"
   },
   "labels_anchors": false,
   "latex_user_defs": false,
   "report_style_numbering": false,
   "user_envs_cfg": false
  }
 },
 "nbformat": 4,
 "nbformat_minor": 5
}
