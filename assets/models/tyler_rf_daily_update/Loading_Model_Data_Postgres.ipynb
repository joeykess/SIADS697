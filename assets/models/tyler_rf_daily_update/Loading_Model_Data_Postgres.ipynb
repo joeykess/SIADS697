{
 "cells": [
  {
   "cell_type": "code",
   "execution_count": 1,
   "id": "0420ae40",
   "metadata": {},
   "outputs": [],
   "source": [
    "# Import useful packages\n",
    "import os\n",
    "import time\n",
    "import pandas as pd\n",
    "import glob\n",
    "import numpy as np\n",
    "\n",
    "# For loading/querying postgres\n",
    "from sqlalchemy import create_engine\n",
    "import psycopg2\n",
    "from psycopg2 import connect"
   ]
  },
  {
   "cell_type": "code",
   "execution_count": 2,
   "id": "7834672e",
   "metadata": {},
   "outputs": [],
   "source": [
    "# Create SQL engine to load data to postgres for central usage\n",
    "from sqlalchemy import create_engine\n",
    "dbname = '697_temp'\n",
    "user = 'postgres'\n",
    "password = 'poRter!5067'\n",
    "host = 'databasesec.cvhiyxfodl3e.us-east-2.rds.amazonaws.com'\n",
    "\n",
    "engine = create_engine(f'postgresql://{user}:{password}@{host}/{dbname}')"
   ]
  },
  {
   "cell_type": "markdown",
   "id": "0b8bf4b7",
   "metadata": {},
   "source": [
    "### Loading Open Positions to Postgres"
   ]
  },
  {
   "cell_type": "code",
   "execution_count": 37,
   "id": "8199d9fc",
   "metadata": {},
   "outputs": [
    {
     "data": {
      "text/plain": [
       "['Open_Positions_Data/RF Reg_target_60_rebal_30_2017-01-01.csv',\n",
       " 'Open_Positions_Data/RF Reg_target_120_rebal_30_2017-01-01.csv',\n",
       " 'Open_Positions_Data/RF Reg_target_120_rebal_60_2017-01-01.csv']"
      ]
     },
     "execution_count": 37,
     "metadata": {},
     "output_type": "execute_result"
    }
   ],
   "source": [
    "# Collect all CSVs in Open_Positions_Data folder\n",
    "txtfiles = []\n",
    "for file in glob.glob(\"Open_Positions_Data/*.csv\"):\n",
    "    txtfiles.append(file)\n",
    "    \n",
    "txtfiles"
   ]
  },
  {
   "cell_type": "code",
   "execution_count": 38,
   "id": "875b90d7",
   "metadata": {},
   "outputs": [
    {
     "data": {
      "text/html": [
       "<div>\n",
       "<style scoped>\n",
       "    .dataframe tbody tr th:only-of-type {\n",
       "        vertical-align: middle;\n",
       "    }\n",
       "\n",
       "    .dataframe tbody tr th {\n",
       "        vertical-align: top;\n",
       "    }\n",
       "\n",
       "    .dataframe thead th {\n",
       "        text-align: right;\n",
       "    }\n",
       "</style>\n",
       "<table border=\"1\" class=\"dataframe\">\n",
       "  <thead>\n",
       "    <tr style=\"text-align: right;\">\n",
       "      <th></th>\n",
       "      <th>key</th>\n",
       "      <th>Date</th>\n",
       "      <th>Ticker</th>\n",
       "      <th>Quantity</th>\n",
       "      <th>Basis</th>\n",
       "      <th>Purchase Price</th>\n",
       "      <th>Current Value</th>\n",
       "      <th>Last</th>\n",
       "      <th>% Gain</th>\n",
       "      <th>model</th>\n",
       "    </tr>\n",
       "  </thead>\n",
       "  <tbody>\n",
       "    <tr>\n",
       "      <th>0</th>\n",
       "      <td>Positions_2020-08-06</td>\n",
       "      <td>2020-08-06</td>\n",
       "      <td>PEAK</td>\n",
       "      <td>1407</td>\n",
       "      <td>37110.152424</td>\n",
       "      <td>26.375375</td>\n",
       "      <td>37110.152424</td>\n",
       "      <td>26.375375</td>\n",
       "      <td>0.0</td>\n",
       "      <td>RF Reg_target_60_rebal_30_2017-01-01</td>\n",
       "    </tr>\n",
       "    <tr>\n",
       "      <th>1</th>\n",
       "      <td>Positions_2020-08-06</td>\n",
       "      <td>2020-08-06</td>\n",
       "      <td>DOW</td>\n",
       "      <td>132</td>\n",
       "      <td>5251.401484</td>\n",
       "      <td>39.783345</td>\n",
       "      <td>5251.401484</td>\n",
       "      <td>39.783345</td>\n",
       "      <td>0.0</td>\n",
       "      <td>RF Reg_target_60_rebal_30_2017-01-01</td>\n",
       "    </tr>\n",
       "    <tr>\n",
       "      <th>2</th>\n",
       "      <td>Positions_2020-08-06</td>\n",
       "      <td>2020-08-06</td>\n",
       "      <td>MO</td>\n",
       "      <td>116</td>\n",
       "      <td>4476.208144</td>\n",
       "      <td>38.588001</td>\n",
       "      <td>4476.208144</td>\n",
       "      <td>38.588001</td>\n",
       "      <td>0.0</td>\n",
       "      <td>RF Reg_target_60_rebal_30_2017-01-01</td>\n",
       "    </tr>\n",
       "    <tr>\n",
       "      <th>3</th>\n",
       "      <td>Positions_2020-08-06</td>\n",
       "      <td>2020-08-06</td>\n",
       "      <td>KIM</td>\n",
       "      <td>395</td>\n",
       "      <td>4340.217862</td>\n",
       "      <td>10.987893</td>\n",
       "      <td>4340.217862</td>\n",
       "      <td>10.987893</td>\n",
       "      <td>0.0</td>\n",
       "      <td>RF Reg_target_60_rebal_30_2017-01-01</td>\n",
       "    </tr>\n",
       "    <tr>\n",
       "      <th>4</th>\n",
       "      <td>Positions_2020-08-06</td>\n",
       "      <td>2020-08-06</td>\n",
       "      <td>C</td>\n",
       "      <td>80</td>\n",
       "      <td>3958.858682</td>\n",
       "      <td>49.485734</td>\n",
       "      <td>3958.858682</td>\n",
       "      <td>49.485734</td>\n",
       "      <td>0.0</td>\n",
       "      <td>RF Reg_target_60_rebal_30_2017-01-01</td>\n",
       "    </tr>\n",
       "  </tbody>\n",
       "</table>\n",
       "</div>"
      ],
      "text/plain": [
       "                    key        Date Ticker  Quantity         Basis  \\\n",
       "0  Positions_2020-08-06  2020-08-06   PEAK      1407  37110.152424   \n",
       "1  Positions_2020-08-06  2020-08-06    DOW       132   5251.401484   \n",
       "2  Positions_2020-08-06  2020-08-06     MO       116   4476.208144   \n",
       "3  Positions_2020-08-06  2020-08-06    KIM       395   4340.217862   \n",
       "4  Positions_2020-08-06  2020-08-06      C        80   3958.858682   \n",
       "\n",
       "   Purchase Price  Current Value       Last  % Gain  \\\n",
       "0       26.375375   37110.152424  26.375375     0.0   \n",
       "1       39.783345    5251.401484  39.783345     0.0   \n",
       "2       38.588001    4476.208144  38.588001     0.0   \n",
       "3       10.987893    4340.217862  10.987893     0.0   \n",
       "4       49.485734    3958.858682  49.485734     0.0   \n",
       "\n",
       "                                  model  \n",
       "0  RF Reg_target_60_rebal_30_2017-01-01  \n",
       "1  RF Reg_target_60_rebal_30_2017-01-01  \n",
       "2  RF Reg_target_60_rebal_30_2017-01-01  \n",
       "3  RF Reg_target_60_rebal_30_2017-01-01  \n",
       "4  RF Reg_target_60_rebal_30_2017-01-01  "
      ]
     },
     "execution_count": 38,
     "metadata": {},
     "output_type": "execute_result"
    }
   ],
   "source": [
    "# create temp_df to test loading; pick model not already in table\n",
    "temp_df = pd.read_csv(txtfiles[0],index_col=0)\n",
    "temp_df.head()"
   ]
  },
  {
   "cell_type": "code",
   "execution_count": 40,
   "id": "8fc4c9a2",
   "metadata": {},
   "outputs": [
    {
     "data": {
      "text/plain": [
       "Index(['key', 'Date', 'Ticker', 'Quantity', 'Basis', 'Purchase Price',\n",
       "       'Current Value', 'Last', '% Gain', 'model'],\n",
       "      dtype='object')"
      ]
     },
     "execution_count": 40,
     "metadata": {},
     "output_type": "execute_result"
    }
   ],
   "source": [
    "temp_df.columns"
   ]
  },
  {
   "cell_type": "code",
   "execution_count": 21,
   "id": "9bfc679e",
   "metadata": {},
   "outputs": [],
   "source": [
    "# Initial dataframe needs to create a new table\n",
    "temp_df.to_sql('open_positions', engine)"
   ]
  },
  {
   "cell_type": "code",
   "execution_count": 22,
   "id": "3001f0e5",
   "metadata": {},
   "outputs": [],
   "source": [
    "# Append data to table\n",
    "temp_df.to_sql('open_positions', engine, if_exists='append')"
   ]
  },
  {
   "cell_type": "code",
   "execution_count": 24,
   "id": "42cb9707",
   "metadata": {},
   "outputs": [
    {
     "data": {
      "text/html": [
       "<div>\n",
       "<style scoped>\n",
       "    .dataframe tbody tr th:only-of-type {\n",
       "        vertical-align: middle;\n",
       "    }\n",
       "\n",
       "    .dataframe tbody tr th {\n",
       "        vertical-align: top;\n",
       "    }\n",
       "\n",
       "    .dataframe thead th {\n",
       "        text-align: right;\n",
       "    }\n",
       "</style>\n",
       "<table border=\"1\" class=\"dataframe\">\n",
       "  <thead>\n",
       "    <tr style=\"text-align: right;\">\n",
       "      <th></th>\n",
       "      <th>key</th>\n",
       "      <th>Date</th>\n",
       "      <th>Ticker</th>\n",
       "      <th>Quantity</th>\n",
       "      <th>Basis</th>\n",
       "      <th>Purchase Price</th>\n",
       "      <th>Current Value</th>\n",
       "      <th>Last</th>\n",
       "      <th>% Gain</th>\n",
       "      <th>model</th>\n",
       "    </tr>\n",
       "  </thead>\n",
       "  <tbody>\n",
       "    <tr>\n",
       "      <th>12190</th>\n",
       "      <td>Positions_2021-03-03</td>\n",
       "      <td>2020-08-06</td>\n",
       "      <td>OXY</td>\n",
       "      <td>76</td>\n",
       "      <td>1166.702928</td>\n",
       "      <td>15.351354</td>\n",
       "      <td>2166.619136</td>\n",
       "      <td>28.508147</td>\n",
       "      <td>85.70</td>\n",
       "      <td>RF Reg_target_60_rebal_30_2017-01-01</td>\n",
       "    </tr>\n",
       "    <tr>\n",
       "      <th>12191</th>\n",
       "      <td>Positions_2021-03-03</td>\n",
       "      <td>2020-08-06</td>\n",
       "      <td>TWTR</td>\n",
       "      <td>26</td>\n",
       "      <td>967.460001</td>\n",
       "      <td>37.210000</td>\n",
       "      <td>1885.195042</td>\n",
       "      <td>72.507502</td>\n",
       "      <td>94.86</td>\n",
       "      <td>RF Reg_target_60_rebal_30_2017-01-01</td>\n",
       "    </tr>\n",
       "    <tr>\n",
       "      <th>12192</th>\n",
       "      <td>Positions_2021-03-03</td>\n",
       "      <td>2020-08-06</td>\n",
       "      <td>MRK</td>\n",
       "      <td>11</td>\n",
       "      <td>826.829912</td>\n",
       "      <td>75.166356</td>\n",
       "      <td>753.771087</td>\n",
       "      <td>68.524644</td>\n",
       "      <td>-8.84</td>\n",
       "      <td>RF Reg_target_60_rebal_30_2017-01-01</td>\n",
       "    </tr>\n",
       "    <tr>\n",
       "      <th>12193</th>\n",
       "      <td>Positions_2021-03-03</td>\n",
       "      <td>2020-08-06</td>\n",
       "      <td>CMCSA</td>\n",
       "      <td>19</td>\n",
       "      <td>795.295593</td>\n",
       "      <td>41.857663</td>\n",
       "      <td>1021.744903</td>\n",
       "      <td>53.776048</td>\n",
       "      <td>28.47</td>\n",
       "      <td>RF Reg_target_60_rebal_30_2017-01-01</td>\n",
       "    </tr>\n",
       "    <tr>\n",
       "      <th>12194</th>\n",
       "      <td>Positions_2021-03-03</td>\n",
       "      <td>2020-09-04</td>\n",
       "      <td>MRO</td>\n",
       "      <td>7</td>\n",
       "      <td>31.318420</td>\n",
       "      <td>4.474060</td>\n",
       "      <td>80.987188</td>\n",
       "      <td>11.569598</td>\n",
       "      <td>158.59</td>\n",
       "      <td>RF Reg_target_60_rebal_30_2017-01-01</td>\n",
       "    </tr>\n",
       "  </tbody>\n",
       "</table>\n",
       "</div>"
      ],
      "text/plain": [
       "                        key        Date Ticker  Quantity        Basis  \\\n",
       "12190  Positions_2021-03-03  2020-08-06    OXY        76  1166.702928   \n",
       "12191  Positions_2021-03-03  2020-08-06   TWTR        26   967.460001   \n",
       "12192  Positions_2021-03-03  2020-08-06    MRK        11   826.829912   \n",
       "12193  Positions_2021-03-03  2020-08-06  CMCSA        19   795.295593   \n",
       "12194  Positions_2021-03-03  2020-09-04    MRO         7    31.318420   \n",
       "\n",
       "       Purchase Price  Current Value       Last  % Gain  \\\n",
       "12190       15.351354    2166.619136  28.508147   85.70   \n",
       "12191       37.210000    1885.195042  72.507502   94.86   \n",
       "12192       75.166356     753.771087  68.524644   -8.84   \n",
       "12193       41.857663    1021.744903  53.776048   28.47   \n",
       "12194        4.474060      80.987188  11.569598  158.59   \n",
       "\n",
       "                                      model  \n",
       "12190  RF Reg_target_60_rebal_30_2017-01-01  \n",
       "12191  RF Reg_target_60_rebal_30_2017-01-01  \n",
       "12192  RF Reg_target_60_rebal_30_2017-01-01  \n",
       "12193  RF Reg_target_60_rebal_30_2017-01-01  \n",
       "12194  RF Reg_target_60_rebal_30_2017-01-01  "
      ]
     },
     "execution_count": 24,
     "metadata": {},
     "output_type": "execute_result"
    }
   ],
   "source": [
    "# Test with a load\n",
    "def import_open_positions():\n",
    "    conn = connect(dbname = '697_temp', user = 'postgres', host = 'databasesec.cvhiyxfodl3e.us-east-2.rds.amazonaws.com', password = 'poRter!5067')\n",
    "    cur = conn.cursor()\n",
    "    query = \"SELECT * FROM open_positions\"\n",
    "    data = pd.read_sql_query(query,conn)\n",
    "    data = data.sort_values(['key', 'model'])\n",
    "    return data\n",
    "open_pos_df = import_open_positions().drop('index',axis=1)\n",
    "\n",
    "open_pos_df.tail()\n"
   ]
  },
  {
   "cell_type": "markdown",
   "id": "4234d1f3",
   "metadata": {},
   "source": [
    "### Loading track records to postgres"
   ]
  },
  {
   "cell_type": "code",
   "execution_count": 25,
   "id": "de07491b",
   "metadata": {},
   "outputs": [
    {
     "data": {
      "text/plain": [
       "['track_record/RF Reg_target_60_rebal_30_2017-01-01.csv',\n",
       " 'track_record/RF Reg_target_120_rebal_30_2017-01-01.csv',\n",
       " 'track_record/RF Reg_target_120_rebal_60_2017-01-01.csv']"
      ]
     },
     "execution_count": 25,
     "metadata": {},
     "output_type": "execute_result"
    }
   ],
   "source": [
    "# Collect all CSVs in Open_Positions_Data folder\n",
    "txtfiles = []\n",
    "for file in glob.glob(\"track_record/*.csv\"):\n",
    "    txtfiles.append(file)\n",
    "    \n",
    "txtfiles"
   ]
  },
  {
   "cell_type": "code",
   "execution_count": 26,
   "id": "76069455",
   "metadata": {},
   "outputs": [
    {
     "data": {
      "text/html": [
       "<div>\n",
       "<style scoped>\n",
       "    .dataframe tbody tr th:only-of-type {\n",
       "        vertical-align: middle;\n",
       "    }\n",
       "\n",
       "    .dataframe tbody tr th {\n",
       "        vertical-align: top;\n",
       "    }\n",
       "\n",
       "    .dataframe thead th {\n",
       "        text-align: right;\n",
       "    }\n",
       "</style>\n",
       "<table border=\"1\" class=\"dataframe\">\n",
       "  <thead>\n",
       "    <tr style=\"text-align: right;\">\n",
       "      <th></th>\n",
       "      <th>Date</th>\n",
       "      <th>Value</th>\n",
       "      <th>Val_ex_cash</th>\n",
       "      <th>model</th>\n",
       "    </tr>\n",
       "  </thead>\n",
       "  <tbody>\n",
       "    <tr>\n",
       "      <th>0</th>\n",
       "      <td>2020-08-06</td>\n",
       "      <td>100000.000000</td>\n",
       "      <td>99465.751610</td>\n",
       "      <td>RF Reg_target_60_rebal_30_2017-01-01</td>\n",
       "    </tr>\n",
       "    <tr>\n",
       "      <th>1</th>\n",
       "      <td>2020-08-07</td>\n",
       "      <td>101398.918613</td>\n",
       "      <td>100864.670223</td>\n",
       "      <td>RF Reg_target_60_rebal_30_2017-01-01</td>\n",
       "    </tr>\n",
       "    <tr>\n",
       "      <th>2</th>\n",
       "      <td>2020-08-10</td>\n",
       "      <td>103963.916785</td>\n",
       "      <td>103429.668394</td>\n",
       "      <td>RF Reg_target_60_rebal_30_2017-01-01</td>\n",
       "    </tr>\n",
       "    <tr>\n",
       "      <th>3</th>\n",
       "      <td>2020-08-11</td>\n",
       "      <td>105306.857052</td>\n",
       "      <td>104772.608661</td>\n",
       "      <td>RF Reg_target_60_rebal_30_2017-01-01</td>\n",
       "    </tr>\n",
       "    <tr>\n",
       "      <th>4</th>\n",
       "      <td>2020-08-12</td>\n",
       "      <td>104401.500965</td>\n",
       "      <td>103867.252575</td>\n",
       "      <td>RF Reg_target_60_rebal_30_2017-01-01</td>\n",
       "    </tr>\n",
       "  </tbody>\n",
       "</table>\n",
       "</div>"
      ],
      "text/plain": [
       "         Date          Value    Val_ex_cash  \\\n",
       "0  2020-08-06  100000.000000   99465.751610   \n",
       "1  2020-08-07  101398.918613  100864.670223   \n",
       "2  2020-08-10  103963.916785  103429.668394   \n",
       "3  2020-08-11  105306.857052  104772.608661   \n",
       "4  2020-08-12  104401.500965  103867.252575   \n",
       "\n",
       "                                  model  \n",
       "0  RF Reg_target_60_rebal_30_2017-01-01  \n",
       "1  RF Reg_target_60_rebal_30_2017-01-01  \n",
       "2  RF Reg_target_60_rebal_30_2017-01-01  \n",
       "3  RF Reg_target_60_rebal_30_2017-01-01  \n",
       "4  RF Reg_target_60_rebal_30_2017-01-01  "
      ]
     },
     "execution_count": 26,
     "metadata": {},
     "output_type": "execute_result"
    }
   ],
   "source": [
    "# create temp_df to test loading\n",
    "temp_df = pd.read_csv(txtfiles[0],index_col=0)\n",
    "temp_df.head()"
   ]
  },
  {
   "cell_type": "code",
   "execution_count": null,
   "id": "72a92b54",
   "metadata": {},
   "outputs": [],
   "source": [
    "# Initial dataframe needs to create a new table\n",
    "temp_df.to_sql('track_record', engine)"
   ]
  },
  {
   "cell_type": "code",
   "execution_count": 27,
   "id": "3d543c8f",
   "metadata": {},
   "outputs": [],
   "source": [
    "# Append data to table\n",
    "temp_df.to_sql('track_record', engine, if_exists='append')"
   ]
  },
  {
   "cell_type": "code",
   "execution_count": 28,
   "id": "06fca5e9",
   "metadata": {},
   "outputs": [
    {
     "data": {
      "text/html": [
       "<div>\n",
       "<style scoped>\n",
       "    .dataframe tbody tr th:only-of-type {\n",
       "        vertical-align: middle;\n",
       "    }\n",
       "\n",
       "    .dataframe tbody tr th {\n",
       "        vertical-align: top;\n",
       "    }\n",
       "\n",
       "    .dataframe thead th {\n",
       "        text-align: right;\n",
       "    }\n",
       "</style>\n",
       "<table border=\"1\" class=\"dataframe\">\n",
       "  <thead>\n",
       "    <tr style=\"text-align: right;\">\n",
       "      <th></th>\n",
       "      <th>Date</th>\n",
       "      <th>Value</th>\n",
       "      <th>Val_ex_cash</th>\n",
       "      <th>model</th>\n",
       "    </tr>\n",
       "  </thead>\n",
       "  <tbody>\n",
       "    <tr>\n",
       "      <th>144</th>\n",
       "      <td>2020-07-19 00:00:00</td>\n",
       "      <td>100000.0000</td>\n",
       "      <td>100000.0000</td>\n",
       "      <td>75percent_confidence_no_holding_15m_cnn</td>\n",
       "    </tr>\n",
       "    <tr>\n",
       "      <th>145</th>\n",
       "      <td>2020-07-20 00:00:00</td>\n",
       "      <td>102126.2298</td>\n",
       "      <td>102126.2298</td>\n",
       "      <td>75percent_confidence_no_holding_15m_cnn</td>\n",
       "    </tr>\n",
       "    <tr>\n",
       "      <th>146</th>\n",
       "      <td>2020-07-21 00:00:00</td>\n",
       "      <td>101447.4265</td>\n",
       "      <td>101447.4265</td>\n",
       "      <td>75percent_confidence_no_holding_15m_cnn</td>\n",
       "    </tr>\n",
       "    <tr>\n",
       "      <th>147</th>\n",
       "      <td>2020-07-22 00:00:00</td>\n",
       "      <td>102702.7938</td>\n",
       "      <td>102702.7938</td>\n",
       "      <td>75percent_confidence_no_holding_15m_cnn</td>\n",
       "    </tr>\n",
       "    <tr>\n",
       "      <th>148</th>\n",
       "      <td>2020-07-23 00:00:00</td>\n",
       "      <td>102327.8937</td>\n",
       "      <td>102327.8937</td>\n",
       "      <td>75percent_confidence_no_holding_15m_cnn</td>\n",
       "    </tr>\n",
       "  </tbody>\n",
       "</table>\n",
       "</div>"
      ],
      "text/plain": [
       "                    Date        Value  Val_ex_cash  \\\n",
       "144  2020-07-19 00:00:00  100000.0000  100000.0000   \n",
       "145  2020-07-20 00:00:00  102126.2298  102126.2298   \n",
       "146  2020-07-21 00:00:00  101447.4265  101447.4265   \n",
       "147  2020-07-22 00:00:00  102702.7938  102702.7938   \n",
       "148  2020-07-23 00:00:00  102327.8937  102327.8937   \n",
       "\n",
       "                                       model  \n",
       "144  75percent_confidence_no_holding_15m_cnn  \n",
       "145  75percent_confidence_no_holding_15m_cnn  \n",
       "146  75percent_confidence_no_holding_15m_cnn  \n",
       "147  75percent_confidence_no_holding_15m_cnn  \n",
       "148  75percent_confidence_no_holding_15m_cnn  "
      ]
     },
     "execution_count": 28,
     "metadata": {},
     "output_type": "execute_result"
    }
   ],
   "source": [
    "# Test with a load\n",
    "def import_track_record():\n",
    "    conn = connect(dbname = '697_temp', user = 'postgres', host = 'databasesec.cvhiyxfodl3e.us-east-2.rds.amazonaws.com', password = 'poRter!5067')\n",
    "    cur = conn.cursor()\n",
    "    query = \"SELECT * FROM track_record\"\n",
    "    data = pd.read_sql_query(query,conn)\n",
    "    data = data.sort_values(['Date', 'model'])\n",
    "    return data\n",
    "track_df = import_track_record().drop('index',axis=1)\n",
    "\n",
    "track_df.head()\n"
   ]
  },
  {
   "cell_type": "markdown",
   "id": "60259c03",
   "metadata": {},
   "source": [
    "### Loading cash records to postgres"
   ]
  },
  {
   "cell_type": "code",
   "execution_count": 29,
   "id": "e23a64ac",
   "metadata": {},
   "outputs": [
    {
     "data": {
      "text/plain": [
       "['Cash_Positions_Data/RF Reg_target_60_rebal_30_2017-01-01.csv',\n",
       " 'Cash_Positions_Data/RF Reg_target_120_rebal_30_2017-01-01.csv',\n",
       " 'Cash_Positions_Data/RF Reg_target_120_rebal_60_2017-01-01.csv']"
      ]
     },
     "execution_count": 29,
     "metadata": {},
     "output_type": "execute_result"
    }
   ],
   "source": [
    "# Collect all CSVs in Open_Positions_Data folder\n",
    "txtfiles = []\n",
    "for file in glob.glob(\"Cash_Positions_Data/*.csv\"):\n",
    "    txtfiles.append(file)\n",
    "    \n",
    "txtfiles"
   ]
  },
  {
   "cell_type": "code",
   "execution_count": 30,
   "id": "3f626d30",
   "metadata": {},
   "outputs": [
    {
     "data": {
      "text/html": [
       "<div>\n",
       "<style scoped>\n",
       "    .dataframe tbody tr th:only-of-type {\n",
       "        vertical-align: middle;\n",
       "    }\n",
       "\n",
       "    .dataframe tbody tr th {\n",
       "        vertical-align: top;\n",
       "    }\n",
       "\n",
       "    .dataframe thead th {\n",
       "        text-align: right;\n",
       "    }\n",
       "</style>\n",
       "<table border=\"1\" class=\"dataframe\">\n",
       "  <thead>\n",
       "    <tr style=\"text-align: right;\">\n",
       "      <th></th>\n",
       "      <th>key</th>\n",
       "      <th>cash</th>\n",
       "      <th>model</th>\n",
       "    </tr>\n",
       "  </thead>\n",
       "  <tbody>\n",
       "    <tr>\n",
       "      <th>139</th>\n",
       "      <td>cash_2021-02-25</td>\n",
       "      <td>23.770446</td>\n",
       "      <td>RF Reg_target_60_rebal_30_2017-01-01</td>\n",
       "    </tr>\n",
       "    <tr>\n",
       "      <th>140</th>\n",
       "      <td>cash_2021-02-26</td>\n",
       "      <td>23.770446</td>\n",
       "      <td>RF Reg_target_60_rebal_30_2017-01-01</td>\n",
       "    </tr>\n",
       "    <tr>\n",
       "      <th>141</th>\n",
       "      <td>cash_2021-03-01</td>\n",
       "      <td>23.770446</td>\n",
       "      <td>RF Reg_target_60_rebal_30_2017-01-01</td>\n",
       "    </tr>\n",
       "    <tr>\n",
       "      <th>142</th>\n",
       "      <td>cash_2021-03-02</td>\n",
       "      <td>23.770446</td>\n",
       "      <td>RF Reg_target_60_rebal_30_2017-01-01</td>\n",
       "    </tr>\n",
       "    <tr>\n",
       "      <th>143</th>\n",
       "      <td>cash_2021-03-03</td>\n",
       "      <td>23.770446</td>\n",
       "      <td>RF Reg_target_60_rebal_30_2017-01-01</td>\n",
       "    </tr>\n",
       "  </tbody>\n",
       "</table>\n",
       "</div>"
      ],
      "text/plain": [
       "                 key       cash                                 model\n",
       "139  cash_2021-02-25  23.770446  RF Reg_target_60_rebal_30_2017-01-01\n",
       "140  cash_2021-02-26  23.770446  RF Reg_target_60_rebal_30_2017-01-01\n",
       "141  cash_2021-03-01  23.770446  RF Reg_target_60_rebal_30_2017-01-01\n",
       "142  cash_2021-03-02  23.770446  RF Reg_target_60_rebal_30_2017-01-01\n",
       "143  cash_2021-03-03  23.770446  RF Reg_target_60_rebal_30_2017-01-01"
      ]
     },
     "execution_count": 30,
     "metadata": {},
     "output_type": "execute_result"
    }
   ],
   "source": [
    "# create temp_df to test loading\n",
    "temp_df = pd.read_csv(txtfiles[0],index_col=0)\n",
    "temp_df.tail()"
   ]
  },
  {
   "cell_type": "code",
   "execution_count": 31,
   "id": "5583c0c6",
   "metadata": {},
   "outputs": [],
   "source": [
    "# Initial dataframe needs to create a new table\n",
    "temp_df.to_sql('cash_record', engine, if_exists='append')"
   ]
  },
  {
   "cell_type": "code",
   "execution_count": 32,
   "id": "932e2cf1",
   "metadata": {},
   "outputs": [
    {
     "data": {
      "text/html": [
       "<div>\n",
       "<style scoped>\n",
       "    .dataframe tbody tr th:only-of-type {\n",
       "        vertical-align: middle;\n",
       "    }\n",
       "\n",
       "    .dataframe tbody tr th {\n",
       "        vertical-align: top;\n",
       "    }\n",
       "\n",
       "    .dataframe thead th {\n",
       "        text-align: right;\n",
       "    }\n",
       "</style>\n",
       "<table border=\"1\" class=\"dataframe\">\n",
       "  <thead>\n",
       "    <tr style=\"text-align: right;\">\n",
       "      <th></th>\n",
       "      <th>key</th>\n",
       "      <th>cash</th>\n",
       "      <th>model</th>\n",
       "    </tr>\n",
       "  </thead>\n",
       "  <tbody>\n",
       "    <tr>\n",
       "      <th>777</th>\n",
       "      <td>cash_2021-02-25</td>\n",
       "      <td>23.770446</td>\n",
       "      <td>RF Reg_target_60_rebal_30_2017-01-01</td>\n",
       "    </tr>\n",
       "    <tr>\n",
       "      <th>778</th>\n",
       "      <td>cash_2021-02-26</td>\n",
       "      <td>23.770446</td>\n",
       "      <td>RF Reg_target_60_rebal_30_2017-01-01</td>\n",
       "    </tr>\n",
       "    <tr>\n",
       "      <th>779</th>\n",
       "      <td>cash_2021-03-01</td>\n",
       "      <td>23.770446</td>\n",
       "      <td>RF Reg_target_60_rebal_30_2017-01-01</td>\n",
       "    </tr>\n",
       "    <tr>\n",
       "      <th>780</th>\n",
       "      <td>cash_2021-03-02</td>\n",
       "      <td>23.770446</td>\n",
       "      <td>RF Reg_target_60_rebal_30_2017-01-01</td>\n",
       "    </tr>\n",
       "    <tr>\n",
       "      <th>781</th>\n",
       "      <td>cash_2021-03-03</td>\n",
       "      <td>23.770446</td>\n",
       "      <td>RF Reg_target_60_rebal_30_2017-01-01</td>\n",
       "    </tr>\n",
       "  </tbody>\n",
       "</table>\n",
       "</div>"
      ],
      "text/plain": [
       "                 key       cash                                 model\n",
       "777  cash_2021-02-25  23.770446  RF Reg_target_60_rebal_30_2017-01-01\n",
       "778  cash_2021-02-26  23.770446  RF Reg_target_60_rebal_30_2017-01-01\n",
       "779  cash_2021-03-01  23.770446  RF Reg_target_60_rebal_30_2017-01-01\n",
       "780  cash_2021-03-02  23.770446  RF Reg_target_60_rebal_30_2017-01-01\n",
       "781  cash_2021-03-03  23.770446  RF Reg_target_60_rebal_30_2017-01-01"
      ]
     },
     "execution_count": 32,
     "metadata": {},
     "output_type": "execute_result"
    }
   ],
   "source": [
    "# Test with a load\n",
    "def import_cash_record():\n",
    "    conn = connect(dbname = '697_temp', user = 'postgres', host = 'databasesec.cvhiyxfodl3e.us-east-2.rds.amazonaws.com', password = 'poRter!5067')\n",
    "    cur = conn.cursor()\n",
    "    query = \"SELECT * FROM cash_record\"\n",
    "    data = pd.read_sql_query(query,conn)\n",
    "    data = data.sort_values(['model','key'])\n",
    "    return data\n",
    "cash_df = import_cash_record().drop('index',axis=1)\n",
    "\n",
    "cash_df.tail()\n"
   ]
  },
  {
   "cell_type": "code",
   "execution_count": 13,
   "id": "1811b9bf",
   "metadata": {},
   "outputs": [
    {
     "data": {
      "text/plain": [
       "key      268\n",
       "cash     268\n",
       "model    268\n",
       "dtype: int64"
      ]
     },
     "execution_count": 13,
     "metadata": {},
     "output_type": "execute_result"
    }
   ],
   "source": [
    "cash_df.count()"
   ]
  },
  {
   "cell_type": "markdown",
   "id": "e8d84cb7",
   "metadata": {},
   "source": [
    "### Loading Value Positions to postgres"
   ]
  },
  {
   "cell_type": "code",
   "execution_count": 33,
   "id": "39318d99",
   "metadata": {},
   "outputs": [
    {
     "data": {
      "text/plain": [
       "['Val_Positions_Data/RF Reg_target_60_rebal_30_2017-01-01.csv',\n",
       " 'Val_Positions_Data/RF Reg_target_120_rebal_30_2017-01-01.csv',\n",
       " 'Val_Positions_Data/RF Reg_target_120_rebal_60_2017-01-01.csv']"
      ]
     },
     "execution_count": 33,
     "metadata": {},
     "output_type": "execute_result"
    }
   ],
   "source": [
    "# Collect all CSVs in Open_Positions_Data folder\n",
    "txtfiles = []\n",
    "for file in glob.glob(\"Val_Positions_Data/*.csv\"):\n",
    "    txtfiles.append(file)\n",
    "    \n",
    "txtfiles"
   ]
  },
  {
   "cell_type": "code",
   "execution_count": 34,
   "id": "19ce85ce",
   "metadata": {},
   "outputs": [
    {
     "data": {
      "text/html": [
       "<div>\n",
       "<style scoped>\n",
       "    .dataframe tbody tr th:only-of-type {\n",
       "        vertical-align: middle;\n",
       "    }\n",
       "\n",
       "    .dataframe tbody tr th {\n",
       "        vertical-align: top;\n",
       "    }\n",
       "\n",
       "    .dataframe thead th {\n",
       "        text-align: right;\n",
       "    }\n",
       "</style>\n",
       "<table border=\"1\" class=\"dataframe\">\n",
       "  <thead>\n",
       "    <tr style=\"text-align: right;\">\n",
       "      <th></th>\n",
       "      <th>key</th>\n",
       "      <th>value</th>\n",
       "      <th>model</th>\n",
       "    </tr>\n",
       "  </thead>\n",
       "  <tbody>\n",
       "    <tr>\n",
       "      <th>139</th>\n",
       "      <td>val_2021-02-25</td>\n",
       "      <td>131991.759044</td>\n",
       "      <td>RF Reg_target_60_rebal_30_2017-01-01</td>\n",
       "    </tr>\n",
       "    <tr>\n",
       "      <th>140</th>\n",
       "      <td>val_2021-02-26</td>\n",
       "      <td>128376.205474</td>\n",
       "      <td>RF Reg_target_60_rebal_30_2017-01-01</td>\n",
       "    </tr>\n",
       "    <tr>\n",
       "      <th>141</th>\n",
       "      <td>val_2021-03-01</td>\n",
       "      <td>129952.513408</td>\n",
       "      <td>RF Reg_target_60_rebal_30_2017-01-01</td>\n",
       "    </tr>\n",
       "    <tr>\n",
       "      <th>142</th>\n",
       "      <td>val_2021-03-02</td>\n",
       "      <td>130075.125108</td>\n",
       "      <td>RF Reg_target_60_rebal_30_2017-01-01</td>\n",
       "    </tr>\n",
       "    <tr>\n",
       "      <th>143</th>\n",
       "      <td>val_2021-03-03</td>\n",
       "      <td>130563.511682</td>\n",
       "      <td>RF Reg_target_60_rebal_30_2017-01-01</td>\n",
       "    </tr>\n",
       "  </tbody>\n",
       "</table>\n",
       "</div>"
      ],
      "text/plain": [
       "                key          value                                 model\n",
       "139  val_2021-02-25  131991.759044  RF Reg_target_60_rebal_30_2017-01-01\n",
       "140  val_2021-02-26  128376.205474  RF Reg_target_60_rebal_30_2017-01-01\n",
       "141  val_2021-03-01  129952.513408  RF Reg_target_60_rebal_30_2017-01-01\n",
       "142  val_2021-03-02  130075.125108  RF Reg_target_60_rebal_30_2017-01-01\n",
       "143  val_2021-03-03  130563.511682  RF Reg_target_60_rebal_30_2017-01-01"
      ]
     },
     "execution_count": 34,
     "metadata": {},
     "output_type": "execute_result"
    }
   ],
   "source": [
    "# create temp_df to test loading\n",
    "temp_df = pd.read_csv(txtfiles[0],index_col=0)\n",
    "temp_df.tail()"
   ]
  },
  {
   "cell_type": "code",
   "execution_count": 35,
   "id": "c4ade166",
   "metadata": {},
   "outputs": [],
   "source": [
    "# Initial dataframe needs to create a new table\n",
    "temp_df.to_sql('val_positions', engine,if_exists='append')"
   ]
  },
  {
   "cell_type": "code",
   "execution_count": 36,
   "id": "cb638eee",
   "metadata": {},
   "outputs": [
    {
     "data": {
      "text/html": [
       "<div>\n",
       "<style scoped>\n",
       "    .dataframe tbody tr th:only-of-type {\n",
       "        vertical-align: middle;\n",
       "    }\n",
       "\n",
       "    .dataframe tbody tr th {\n",
       "        vertical-align: top;\n",
       "    }\n",
       "\n",
       "    .dataframe thead th {\n",
       "        text-align: right;\n",
       "    }\n",
       "</style>\n",
       "<table border=\"1\" class=\"dataframe\">\n",
       "  <thead>\n",
       "    <tr style=\"text-align: right;\">\n",
       "      <th></th>\n",
       "      <th>key</th>\n",
       "      <th>value</th>\n",
       "      <th>model</th>\n",
       "    </tr>\n",
       "  </thead>\n",
       "  <tbody>\n",
       "    <tr>\n",
       "      <th>777</th>\n",
       "      <td>val_2021-02-25</td>\n",
       "      <td>131991.759044</td>\n",
       "      <td>RF Reg_target_60_rebal_30_2017-01-01</td>\n",
       "    </tr>\n",
       "    <tr>\n",
       "      <th>778</th>\n",
       "      <td>val_2021-02-26</td>\n",
       "      <td>128376.205474</td>\n",
       "      <td>RF Reg_target_60_rebal_30_2017-01-01</td>\n",
       "    </tr>\n",
       "    <tr>\n",
       "      <th>779</th>\n",
       "      <td>val_2021-03-01</td>\n",
       "      <td>129952.513408</td>\n",
       "      <td>RF Reg_target_60_rebal_30_2017-01-01</td>\n",
       "    </tr>\n",
       "    <tr>\n",
       "      <th>780</th>\n",
       "      <td>val_2021-03-02</td>\n",
       "      <td>130075.125108</td>\n",
       "      <td>RF Reg_target_60_rebal_30_2017-01-01</td>\n",
       "    </tr>\n",
       "    <tr>\n",
       "      <th>781</th>\n",
       "      <td>val_2021-03-03</td>\n",
       "      <td>130563.511682</td>\n",
       "      <td>RF Reg_target_60_rebal_30_2017-01-01</td>\n",
       "    </tr>\n",
       "  </tbody>\n",
       "</table>\n",
       "</div>"
      ],
      "text/plain": [
       "                key          value                                 model\n",
       "777  val_2021-02-25  131991.759044  RF Reg_target_60_rebal_30_2017-01-01\n",
       "778  val_2021-02-26  128376.205474  RF Reg_target_60_rebal_30_2017-01-01\n",
       "779  val_2021-03-01  129952.513408  RF Reg_target_60_rebal_30_2017-01-01\n",
       "780  val_2021-03-02  130075.125108  RF Reg_target_60_rebal_30_2017-01-01\n",
       "781  val_2021-03-03  130563.511682  RF Reg_target_60_rebal_30_2017-01-01"
      ]
     },
     "execution_count": 36,
     "metadata": {},
     "output_type": "execute_result"
    }
   ],
   "source": [
    "# Test with a load\n",
    "def import_val_positions():\n",
    "    conn = connect(dbname = '697_temp', user = 'postgres', host = 'databasesec.cvhiyxfodl3e.us-east-2.rds.amazonaws.com', password = 'poRter!5067')\n",
    "    cur = conn.cursor()\n",
    "    query = \"SELECT * FROM val_positions\"\n",
    "    data = pd.read_sql_query(query,conn)\n",
    "    data = data.sort_values(['model','key'])\n",
    "    return data\n",
    "val_df = import_val_positions().drop('index',axis=1)\n",
    "\n",
    "val_df.tail()"
   ]
  },
  {
   "cell_type": "code",
   "execution_count": null,
   "id": "59487636",
   "metadata": {},
   "outputs": [],
   "source": []
  }
 ],
 "metadata": {
  "kernelspec": {
   "display_name": "Python 3",
   "language": "python",
   "name": "python3"
  },
  "language_info": {
   "codemirror_mode": {
    "name": "ipython",
    "version": 3
   },
   "file_extension": ".py",
   "mimetype": "text/x-python",
   "name": "python",
   "nbconvert_exporter": "python",
   "pygments_lexer": "ipython3",
   "version": "3.8.10"
  },
  "latex_envs": {
   "LaTeX_envs_menu_present": true,
   "autoclose": false,
   "autocomplete": true,
   "bibliofile": "biblio.bib",
   "cite_by": "apalike",
   "current_citInitial": 1,
   "eqLabelWithNumbers": true,
   "eqNumInitial": 1,
   "hotkeys": {
    "equation": "Ctrl-E",
    "itemize": "Ctrl-I"
   },
   "labels_anchors": false,
   "latex_user_defs": false,
   "report_style_numbering": false,
   "user_envs_cfg": false
  }
 },
 "nbformat": 4,
 "nbformat_minor": 5
}
