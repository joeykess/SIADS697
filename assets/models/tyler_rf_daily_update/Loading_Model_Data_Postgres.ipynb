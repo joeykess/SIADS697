{
 "cells": [
  {
   "cell_type": "code",
   "execution_count": 1,
   "id": "0420ae40",
   "metadata": {},
   "outputs": [],
   "source": [
    "# Import useful packages\n",
    "import os\n",
    "import time\n",
    "import pandas as pd\n",
    "import glob\n",
    "import numpy as np\n",
    "\n",
    "# For loading/querying postgres\n",
    "from sqlalchemy import create_engine\n",
    "import psycopg2\n",
    "from psycopg2 import connect"
   ]
  },
  {
   "cell_type": "code",
   "execution_count": 2,
   "id": "7834672e",
   "metadata": {},
   "outputs": [],
   "source": [
    "# Create SQL engine to load data to postgres for central usage\n",
    "from sqlalchemy import create_engine\n",
    "dbname = '697_temp'\n",
    "user = 'postgres'\n",
    "password = 'poRter!5067'\n",
    "host = 'databasesec.cvhiyxfodl3e.us-east-2.rds.amazonaws.com'\n",
    "\n",
    "engine = create_engine(f'postgresql://{user}:{password}@{host}/{dbname}')"
   ]
  },
  {
   "cell_type": "markdown",
   "id": "0b8bf4b7",
   "metadata": {},
   "source": [
    "### Loading Open Positions to Postgres"
   ]
  },
  {
   "cell_type": "code",
   "execution_count": 3,
   "id": "8199d9fc",
   "metadata": {},
   "outputs": [
    {
     "data": {
      "text/plain": [
       "['Open_Positions_Data/RF Reg_target_60_rebal_30_2017-01-01.csv',\n",
       " 'Open_Positions_Data/RF Reg_target_120_rebal_30_2017-01-01.csv',\n",
       " 'Open_Positions_Data/RF Reg_target_7_rebal_7_2017-01-01.csv',\n",
       " 'Open_Positions_Data/RF Reg_target_120_rebal_60_2017-01-01.csv']"
      ]
     },
     "execution_count": 3,
     "metadata": {},
     "output_type": "execute_result"
    }
   ],
   "source": [
    "# Collect all CSVs in Open_Positions_Data folder\n",
    "txtfiles = []\n",
    "for file in glob.glob(\"Open_Positions_Data/*.csv\"):\n",
    "    txtfiles.append(file)\n",
    "    \n",
    "txtfiles"
   ]
  },
  {
   "cell_type": "code",
   "execution_count": 4,
   "id": "875b90d7",
   "metadata": {},
   "outputs": [
    {
     "data": {
      "text/html": [
       "<div>\n",
       "<style scoped>\n",
       "    .dataframe tbody tr th:only-of-type {\n",
       "        vertical-align: middle;\n",
       "    }\n",
       "\n",
       "    .dataframe tbody tr th {\n",
       "        vertical-align: top;\n",
       "    }\n",
       "\n",
       "    .dataframe thead th {\n",
       "        text-align: right;\n",
       "    }\n",
       "</style>\n",
       "<table border=\"1\" class=\"dataframe\">\n",
       "  <thead>\n",
       "    <tr style=\"text-align: right;\">\n",
       "      <th></th>\n",
       "      <th>key</th>\n",
       "      <th>Date</th>\n",
       "      <th>Ticker</th>\n",
       "      <th>Quantity</th>\n",
       "      <th>Basis</th>\n",
       "      <th>Purchase Price</th>\n",
       "      <th>Current Value</th>\n",
       "      <th>Last</th>\n",
       "      <th>% Gain</th>\n",
       "      <th>model</th>\n",
       "    </tr>\n",
       "  </thead>\n",
       "  <tbody>\n",
       "    <tr>\n",
       "      <th>0</th>\n",
       "      <td>Positions_2020-08-06</td>\n",
       "      <td>2020-08-06</td>\n",
       "      <td>PEAK</td>\n",
       "      <td>2256</td>\n",
       "      <td>59502.845678</td>\n",
       "      <td>26.375375</td>\n",
       "      <td>59502.845678</td>\n",
       "      <td>26.375375</td>\n",
       "      <td>0.0</td>\n",
       "      <td>RF Reg_target_7_rebal_7_2017-01-01</td>\n",
       "    </tr>\n",
       "    <tr>\n",
       "      <th>1</th>\n",
       "      <td>Positions_2020-08-06</td>\n",
       "      <td>2020-08-06</td>\n",
       "      <td>SPG</td>\n",
       "      <td>55</td>\n",
       "      <td>3221.555953</td>\n",
       "      <td>58.573745</td>\n",
       "      <td>3221.555953</td>\n",
       "      <td>58.573745</td>\n",
       "      <td>0.0</td>\n",
       "      <td>RF Reg_target_7_rebal_7_2017-01-01</td>\n",
       "    </tr>\n",
       "    <tr>\n",
       "      <th>2</th>\n",
       "      <td>Positions_2020-08-06</td>\n",
       "      <td>2020-08-06</td>\n",
       "      <td>KIM</td>\n",
       "      <td>273</td>\n",
       "      <td>2999.694877</td>\n",
       "      <td>10.987893</td>\n",
       "      <td>2999.694877</td>\n",
       "      <td>10.987893</td>\n",
       "      <td>0.0</td>\n",
       "      <td>RF Reg_target_7_rebal_7_2017-01-01</td>\n",
       "    </tr>\n",
       "    <tr>\n",
       "      <th>3</th>\n",
       "      <td>Positions_2020-08-06</td>\n",
       "      <td>2020-08-06</td>\n",
       "      <td>GILD</td>\n",
       "      <td>44</td>\n",
       "      <td>2907.976258</td>\n",
       "      <td>66.090369</td>\n",
       "      <td>2907.976258</td>\n",
       "      <td>66.090369</td>\n",
       "      <td>0.0</td>\n",
       "      <td>RF Reg_target_7_rebal_7_2017-01-01</td>\n",
       "    </tr>\n",
       "    <tr>\n",
       "      <th>4</th>\n",
       "      <td>Positions_2020-08-06</td>\n",
       "      <td>2020-08-06</td>\n",
       "      <td>KMI</td>\n",
       "      <td>215</td>\n",
       "      <td>2924.150363</td>\n",
       "      <td>13.600699</td>\n",
       "      <td>2924.150363</td>\n",
       "      <td>13.600699</td>\n",
       "      <td>0.0</td>\n",
       "      <td>RF Reg_target_7_rebal_7_2017-01-01</td>\n",
       "    </tr>\n",
       "  </tbody>\n",
       "</table>\n",
       "</div>"
      ],
      "text/plain": [
       "                    key        Date Ticker  Quantity         Basis  \\\n",
       "0  Positions_2020-08-06  2020-08-06   PEAK      2256  59502.845678   \n",
       "1  Positions_2020-08-06  2020-08-06    SPG        55   3221.555953   \n",
       "2  Positions_2020-08-06  2020-08-06    KIM       273   2999.694877   \n",
       "3  Positions_2020-08-06  2020-08-06   GILD        44   2907.976258   \n",
       "4  Positions_2020-08-06  2020-08-06    KMI       215   2924.150363   \n",
       "\n",
       "   Purchase Price  Current Value       Last  % Gain  \\\n",
       "0       26.375375   59502.845678  26.375375     0.0   \n",
       "1       58.573745    3221.555953  58.573745     0.0   \n",
       "2       10.987893    2999.694877  10.987893     0.0   \n",
       "3       66.090369    2907.976258  66.090369     0.0   \n",
       "4       13.600699    2924.150363  13.600699     0.0   \n",
       "\n",
       "                                model  \n",
       "0  RF Reg_target_7_rebal_7_2017-01-01  \n",
       "1  RF Reg_target_7_rebal_7_2017-01-01  \n",
       "2  RF Reg_target_7_rebal_7_2017-01-01  \n",
       "3  RF Reg_target_7_rebal_7_2017-01-01  \n",
       "4  RF Reg_target_7_rebal_7_2017-01-01  "
      ]
     },
     "execution_count": 4,
     "metadata": {},
     "output_type": "execute_result"
    }
   ],
   "source": [
    "# create temp_df to test loading; pick model not already in table\n",
    "temp_df = pd.read_csv(txtfiles[2],index_col=0)\n",
    "temp_df.head()"
   ]
  },
  {
   "cell_type": "code",
   "execution_count": 21,
   "id": "9bfc679e",
   "metadata": {},
   "outputs": [],
   "source": [
    "# Initial dataframe needs to create a new table\n",
    "temp_df.to_sql('open_positions', engine)"
   ]
  },
  {
   "cell_type": "code",
   "execution_count": 5,
   "id": "3001f0e5",
   "metadata": {},
   "outputs": [],
   "source": [
    "# Append data to table\n",
    "temp_df.to_sql('open_positions', engine, if_exists='append')"
   ]
  },
  {
   "cell_type": "code",
   "execution_count": 6,
   "id": "42cb9707",
   "metadata": {},
   "outputs": [
    {
     "data": {
      "text/html": [
       "<div>\n",
       "<style scoped>\n",
       "    .dataframe tbody tr th:only-of-type {\n",
       "        vertical-align: middle;\n",
       "    }\n",
       "\n",
       "    .dataframe tbody tr th {\n",
       "        vertical-align: top;\n",
       "    }\n",
       "\n",
       "    .dataframe thead th {\n",
       "        text-align: right;\n",
       "    }\n",
       "</style>\n",
       "<table border=\"1\" class=\"dataframe\">\n",
       "  <thead>\n",
       "    <tr style=\"text-align: right;\">\n",
       "      <th></th>\n",
       "      <th>key</th>\n",
       "      <th>Date</th>\n",
       "      <th>Ticker</th>\n",
       "      <th>Quantity</th>\n",
       "      <th>Basis</th>\n",
       "      <th>Purchase Price</th>\n",
       "      <th>Current Value</th>\n",
       "      <th>Last</th>\n",
       "      <th>% Gain</th>\n",
       "      <th>model</th>\n",
       "    </tr>\n",
       "  </thead>\n",
       "  <tbody>\n",
       "    <tr>\n",
       "      <th>15262</th>\n",
       "      <td>Positions_2021-07-23</td>\n",
       "      <td>2021-07-23</td>\n",
       "      <td>MSFT</td>\n",
       "      <td>1660</td>\n",
       "      <td>479446.871675</td>\n",
       "      <td>7800.583525</td>\n",
       "      <td>479556.175825</td>\n",
       "      <td>7801.753800</td>\n",
       "      <td>-0.022798</td>\n",
       "      <td>75percent_confidence_no_holding_15m_cnn</td>\n",
       "    </tr>\n",
       "    <tr>\n",
       "      <th>15263</th>\n",
       "      <td>Positions_2021-07-23</td>\n",
       "      <td>2021-07-23</td>\n",
       "      <td>NVDA</td>\n",
       "      <td>3503</td>\n",
       "      <td>685190.240400</td>\n",
       "      <td>5661.758775</td>\n",
       "      <td>684601.710775</td>\n",
       "      <td>5658.773425</td>\n",
       "      <td>0.085893</td>\n",
       "      <td>75percent_confidence_no_holding_15m_cnn</td>\n",
       "    </tr>\n",
       "    <tr>\n",
       "      <th>15264</th>\n",
       "      <td>Positions_2021-07-23</td>\n",
       "      <td>2021-07-23</td>\n",
       "      <td>QQQ</td>\n",
       "      <td>1472</td>\n",
       "      <td>539411.405900</td>\n",
       "      <td>9167.625925</td>\n",
       "      <td>539449.534375</td>\n",
       "      <td>9168.497675</td>\n",
       "      <td>-0.007069</td>\n",
       "      <td>75percent_confidence_no_holding_15m_cnn</td>\n",
       "    </tr>\n",
       "    <tr>\n",
       "      <th>15265</th>\n",
       "      <td>Positions_2021-07-23</td>\n",
       "      <td>2021-07-23</td>\n",
       "      <td>SPY</td>\n",
       "      <td>1155</td>\n",
       "      <td>506127.561600</td>\n",
       "      <td>10965.594350</td>\n",
       "      <td>506116.372000</td>\n",
       "      <td>10965.540200</td>\n",
       "      <td>0.002211</td>\n",
       "      <td>75percent_confidence_no_holding_15m_cnn</td>\n",
       "    </tr>\n",
       "    <tr>\n",
       "      <th>15266</th>\n",
       "      <td>Positions_2021-07-23</td>\n",
       "      <td>2021-07-23</td>\n",
       "      <td>TSLA</td>\n",
       "      <td>470</td>\n",
       "      <td>302600.480325</td>\n",
       "      <td>10940.374600</td>\n",
       "      <td>302589.959650</td>\n",
       "      <td>10942.778600</td>\n",
       "      <td>0.003477</td>\n",
       "      <td>75percent_confidence_no_holding_15m_cnn</td>\n",
       "    </tr>\n",
       "  </tbody>\n",
       "</table>\n",
       "</div>"
      ],
      "text/plain": [
       "                        key        Date Ticker  Quantity          Basis  \\\n",
       "15262  Positions_2021-07-23  2021-07-23   MSFT      1660  479446.871675   \n",
       "15263  Positions_2021-07-23  2021-07-23   NVDA      3503  685190.240400   \n",
       "15264  Positions_2021-07-23  2021-07-23    QQQ      1472  539411.405900   \n",
       "15265  Positions_2021-07-23  2021-07-23    SPY      1155  506127.561600   \n",
       "15266  Positions_2021-07-23  2021-07-23   TSLA       470  302600.480325   \n",
       "\n",
       "       Purchase Price  Current Value          Last    % Gain  \\\n",
       "15262     7800.583525  479556.175825   7801.753800 -0.022798   \n",
       "15263     5661.758775  684601.710775   5658.773425  0.085893   \n",
       "15264     9167.625925  539449.534375   9168.497675 -0.007069   \n",
       "15265    10965.594350  506116.372000  10965.540200  0.002211   \n",
       "15266    10940.374600  302589.959650  10942.778600  0.003477   \n",
       "\n",
       "                                         model  \n",
       "15262  75percent_confidence_no_holding_15m_cnn  \n",
       "15263  75percent_confidence_no_holding_15m_cnn  \n",
       "15264  75percent_confidence_no_holding_15m_cnn  \n",
       "15265  75percent_confidence_no_holding_15m_cnn  \n",
       "15266  75percent_confidence_no_holding_15m_cnn  "
      ]
     },
     "execution_count": 6,
     "metadata": {},
     "output_type": "execute_result"
    }
   ],
   "source": [
    "# Test with a load\n",
    "def import_open_positions():\n",
    "    conn = connect(dbname = '697_temp', user = 'postgres', host = 'databasesec.cvhiyxfodl3e.us-east-2.rds.amazonaws.com', password = 'poRter!5067')\n",
    "    cur = conn.cursor()\n",
    "    query = \"SELECT * FROM open_positions\"\n",
    "    data = pd.read_sql_query(query,conn)\n",
    "    data = data.sort_values(['key', 'model'])\n",
    "    return data\n",
    "open_pos_df = import_open_positions().drop('index',axis=1)\n",
    "\n",
    "open_pos_df.tail()\n"
   ]
  },
  {
   "cell_type": "markdown",
   "id": "4234d1f3",
   "metadata": {},
   "source": [
    "### Loading track records to postgres"
   ]
  },
  {
   "cell_type": "code",
   "execution_count": 7,
   "id": "de07491b",
   "metadata": {},
   "outputs": [
    {
     "data": {
      "text/plain": [
       "['track_record/RF Reg_target_60_rebal_30_2017-01-01.csv',\n",
       " 'track_record/RF Reg_target_120_rebal_30_2017-01-01.csv',\n",
       " 'track_record/RF Reg_target_7_rebal_7_2017-01-01.csv',\n",
       " 'track_record/RF Reg_target_120_rebal_60_2017-01-01.csv']"
      ]
     },
     "execution_count": 7,
     "metadata": {},
     "output_type": "execute_result"
    }
   ],
   "source": [
    "# Collect all CSVs in Open_Positions_Data folder\n",
    "txtfiles = []\n",
    "for file in glob.glob(\"track_record/*.csv\"):\n",
    "    txtfiles.append(file)\n",
    "    \n",
    "txtfiles"
   ]
  },
  {
   "cell_type": "code",
   "execution_count": 8,
   "id": "76069455",
   "metadata": {},
   "outputs": [
    {
     "data": {
      "text/html": [
       "<div>\n",
       "<style scoped>\n",
       "    .dataframe tbody tr th:only-of-type {\n",
       "        vertical-align: middle;\n",
       "    }\n",
       "\n",
       "    .dataframe tbody tr th {\n",
       "        vertical-align: top;\n",
       "    }\n",
       "\n",
       "    .dataframe thead th {\n",
       "        text-align: right;\n",
       "    }\n",
       "</style>\n",
       "<table border=\"1\" class=\"dataframe\">\n",
       "  <thead>\n",
       "    <tr style=\"text-align: right;\">\n",
       "      <th></th>\n",
       "      <th>Date</th>\n",
       "      <th>Value</th>\n",
       "      <th>Val_ex_cash</th>\n",
       "      <th>model</th>\n",
       "    </tr>\n",
       "  </thead>\n",
       "  <tbody>\n",
       "    <tr>\n",
       "      <th>0</th>\n",
       "      <td>2020-08-06</td>\n",
       "      <td>100000.000000</td>\n",
       "      <td>99642.645275</td>\n",
       "      <td>RF Reg_target_7_rebal_7_2017-01-01</td>\n",
       "    </tr>\n",
       "    <tr>\n",
       "      <th>1</th>\n",
       "      <td>2020-08-07</td>\n",
       "      <td>101772.553411</td>\n",
       "      <td>101415.198685</td>\n",
       "      <td>RF Reg_target_7_rebal_7_2017-01-01</td>\n",
       "    </tr>\n",
       "    <tr>\n",
       "      <th>2</th>\n",
       "      <td>2020-08-10</td>\n",
       "      <td>104324.474630</td>\n",
       "      <td>103967.119905</td>\n",
       "      <td>RF Reg_target_7_rebal_7_2017-01-01</td>\n",
       "    </tr>\n",
       "    <tr>\n",
       "      <th>3</th>\n",
       "      <td>2020-08-11</td>\n",
       "      <td>105298.566802</td>\n",
       "      <td>104941.212077</td>\n",
       "      <td>RF Reg_target_7_rebal_7_2017-01-01</td>\n",
       "    </tr>\n",
       "    <tr>\n",
       "      <th>4</th>\n",
       "      <td>2020-08-12</td>\n",
       "      <td>104173.180481</td>\n",
       "      <td>103815.825756</td>\n",
       "      <td>RF Reg_target_7_rebal_7_2017-01-01</td>\n",
       "    </tr>\n",
       "  </tbody>\n",
       "</table>\n",
       "</div>"
      ],
      "text/plain": [
       "         Date          Value    Val_ex_cash  \\\n",
       "0  2020-08-06  100000.000000   99642.645275   \n",
       "1  2020-08-07  101772.553411  101415.198685   \n",
       "2  2020-08-10  104324.474630  103967.119905   \n",
       "3  2020-08-11  105298.566802  104941.212077   \n",
       "4  2020-08-12  104173.180481  103815.825756   \n",
       "\n",
       "                                model  \n",
       "0  RF Reg_target_7_rebal_7_2017-01-01  \n",
       "1  RF Reg_target_7_rebal_7_2017-01-01  \n",
       "2  RF Reg_target_7_rebal_7_2017-01-01  \n",
       "3  RF Reg_target_7_rebal_7_2017-01-01  \n",
       "4  RF Reg_target_7_rebal_7_2017-01-01  "
      ]
     },
     "execution_count": 8,
     "metadata": {},
     "output_type": "execute_result"
    }
   ],
   "source": [
    "# create temp_df to test loading\n",
    "temp_df = pd.read_csv(txtfiles[2],index_col=0)\n",
    "temp_df.head()"
   ]
  },
  {
   "cell_type": "code",
   "execution_count": null,
   "id": "72a92b54",
   "metadata": {},
   "outputs": [],
   "source": [
    "# Initial dataframe needs to create a new table\n",
    "temp_df.to_sql('track_record', engine)"
   ]
  },
  {
   "cell_type": "code",
   "execution_count": 9,
   "id": "3d543c8f",
   "metadata": {},
   "outputs": [],
   "source": [
    "# Append data to table\n",
    "temp_df.to_sql('track_record', engine, if_exists='append')"
   ]
  },
  {
   "cell_type": "code",
   "execution_count": 10,
   "id": "06fca5e9",
   "metadata": {},
   "outputs": [
    {
     "data": {
      "text/html": [
       "<div>\n",
       "<style scoped>\n",
       "    .dataframe tbody tr th:only-of-type {\n",
       "        vertical-align: middle;\n",
       "    }\n",
       "\n",
       "    .dataframe tbody tr th {\n",
       "        vertical-align: top;\n",
       "    }\n",
       "\n",
       "    .dataframe thead th {\n",
       "        text-align: right;\n",
       "    }\n",
       "</style>\n",
       "<table border=\"1\" class=\"dataframe\">\n",
       "  <thead>\n",
       "    <tr style=\"text-align: right;\">\n",
       "      <th></th>\n",
       "      <th>Date</th>\n",
       "      <th>Value</th>\n",
       "      <th>Val_ex_cash</th>\n",
       "      <th>model</th>\n",
       "    </tr>\n",
       "  </thead>\n",
       "  <tbody>\n",
       "    <tr>\n",
       "      <th>144</th>\n",
       "      <td>2020-07-19 00:00:00</td>\n",
       "      <td>100000.0000</td>\n",
       "      <td>100000.0000</td>\n",
       "      <td>75percent_confidence_no_holding_15m_cnn</td>\n",
       "    </tr>\n",
       "    <tr>\n",
       "      <th>145</th>\n",
       "      <td>2020-07-20 00:00:00</td>\n",
       "      <td>102126.2298</td>\n",
       "      <td>102126.2298</td>\n",
       "      <td>75percent_confidence_no_holding_15m_cnn</td>\n",
       "    </tr>\n",
       "    <tr>\n",
       "      <th>146</th>\n",
       "      <td>2020-07-21 00:00:00</td>\n",
       "      <td>101447.4265</td>\n",
       "      <td>101447.4265</td>\n",
       "      <td>75percent_confidence_no_holding_15m_cnn</td>\n",
       "    </tr>\n",
       "    <tr>\n",
       "      <th>147</th>\n",
       "      <td>2020-07-22 00:00:00</td>\n",
       "      <td>102702.7938</td>\n",
       "      <td>102702.7938</td>\n",
       "      <td>75percent_confidence_no_holding_15m_cnn</td>\n",
       "    </tr>\n",
       "    <tr>\n",
       "      <th>148</th>\n",
       "      <td>2020-07-23 00:00:00</td>\n",
       "      <td>102327.8937</td>\n",
       "      <td>102327.8937</td>\n",
       "      <td>75percent_confidence_no_holding_15m_cnn</td>\n",
       "    </tr>\n",
       "  </tbody>\n",
       "</table>\n",
       "</div>"
      ],
      "text/plain": [
       "                    Date        Value  Val_ex_cash  \\\n",
       "144  2020-07-19 00:00:00  100000.0000  100000.0000   \n",
       "145  2020-07-20 00:00:00  102126.2298  102126.2298   \n",
       "146  2020-07-21 00:00:00  101447.4265  101447.4265   \n",
       "147  2020-07-22 00:00:00  102702.7938  102702.7938   \n",
       "148  2020-07-23 00:00:00  102327.8937  102327.8937   \n",
       "\n",
       "                                       model  \n",
       "144  75percent_confidence_no_holding_15m_cnn  \n",
       "145  75percent_confidence_no_holding_15m_cnn  \n",
       "146  75percent_confidence_no_holding_15m_cnn  \n",
       "147  75percent_confidence_no_holding_15m_cnn  \n",
       "148  75percent_confidence_no_holding_15m_cnn  "
      ]
     },
     "execution_count": 10,
     "metadata": {},
     "output_type": "execute_result"
    }
   ],
   "source": [
    "# Test with a load\n",
    "def import_track_record():\n",
    "    conn = connect(dbname = '697_temp', user = 'postgres', host = 'databasesec.cvhiyxfodl3e.us-east-2.rds.amazonaws.com', password = 'poRter!5067')\n",
    "    cur = conn.cursor()\n",
    "    query = \"SELECT * FROM track_record\"\n",
    "    data = pd.read_sql_query(query,conn)\n",
    "    data = data.sort_values(['Date', 'model'])\n",
    "    return data\n",
    "track_df = import_track_record().drop('index',axis=1)\n",
    "\n",
    "track_df.head()\n"
   ]
  },
  {
   "cell_type": "markdown",
   "id": "60259c03",
   "metadata": {},
   "source": [
    "### Loading cash records to postgres"
   ]
  },
  {
   "cell_type": "code",
   "execution_count": 11,
   "id": "e23a64ac",
   "metadata": {},
   "outputs": [
    {
     "data": {
      "text/plain": [
       "['Cash_Positions_Data/RF Reg_target_60_rebal_30_2017-01-01.csv',\n",
       " 'Cash_Positions_Data/RF Reg_target_120_rebal_30_2017-01-01.csv',\n",
       " 'Cash_Positions_Data/RF Reg_target_7_rebal_7_2017-01-01.csv',\n",
       " 'Cash_Positions_Data/RF Reg_target_120_rebal_60_2017-01-01.csv']"
      ]
     },
     "execution_count": 11,
     "metadata": {},
     "output_type": "execute_result"
    }
   ],
   "source": [
    "# Collect all CSVs in Open_Positions_Data folder\n",
    "txtfiles = []\n",
    "for file in glob.glob(\"Cash_Positions_Data/*.csv\"):\n",
    "    txtfiles.append(file)\n",
    "    \n",
    "txtfiles"
   ]
  },
  {
   "cell_type": "code",
   "execution_count": 12,
   "id": "3f626d30",
   "metadata": {},
   "outputs": [
    {
     "data": {
      "text/html": [
       "<div>\n",
       "<style scoped>\n",
       "    .dataframe tbody tr th:only-of-type {\n",
       "        vertical-align: middle;\n",
       "    }\n",
       "\n",
       "    .dataframe tbody tr th {\n",
       "        vertical-align: top;\n",
       "    }\n",
       "\n",
       "    .dataframe thead th {\n",
       "        text-align: right;\n",
       "    }\n",
       "</style>\n",
       "<table border=\"1\" class=\"dataframe\">\n",
       "  <thead>\n",
       "    <tr style=\"text-align: right;\">\n",
       "      <th></th>\n",
       "      <th>key</th>\n",
       "      <th>cash</th>\n",
       "      <th>model</th>\n",
       "    </tr>\n",
       "  </thead>\n",
       "  <tbody>\n",
       "    <tr>\n",
       "      <th>149</th>\n",
       "      <td>cash_2021-03-11</td>\n",
       "      <td>5.490783</td>\n",
       "      <td>RF Reg_target_7_rebal_7_2017-01-01</td>\n",
       "    </tr>\n",
       "    <tr>\n",
       "      <th>150</th>\n",
       "      <td>cash_2021-03-12</td>\n",
       "      <td>5.490783</td>\n",
       "      <td>RF Reg_target_7_rebal_7_2017-01-01</td>\n",
       "    </tr>\n",
       "    <tr>\n",
       "      <th>151</th>\n",
       "      <td>cash_2021-03-15</td>\n",
       "      <td>5.490783</td>\n",
       "      <td>RF Reg_target_7_rebal_7_2017-01-01</td>\n",
       "    </tr>\n",
       "    <tr>\n",
       "      <th>152</th>\n",
       "      <td>cash_2021-03-16</td>\n",
       "      <td>5.490783</td>\n",
       "      <td>RF Reg_target_7_rebal_7_2017-01-01</td>\n",
       "    </tr>\n",
       "    <tr>\n",
       "      <th>153</th>\n",
       "      <td>cash_2021-03-17</td>\n",
       "      <td>5.490783</td>\n",
       "      <td>RF Reg_target_7_rebal_7_2017-01-01</td>\n",
       "    </tr>\n",
       "  </tbody>\n",
       "</table>\n",
       "</div>"
      ],
      "text/plain": [
       "                 key      cash                               model\n",
       "149  cash_2021-03-11  5.490783  RF Reg_target_7_rebal_7_2017-01-01\n",
       "150  cash_2021-03-12  5.490783  RF Reg_target_7_rebal_7_2017-01-01\n",
       "151  cash_2021-03-15  5.490783  RF Reg_target_7_rebal_7_2017-01-01\n",
       "152  cash_2021-03-16  5.490783  RF Reg_target_7_rebal_7_2017-01-01\n",
       "153  cash_2021-03-17  5.490783  RF Reg_target_7_rebal_7_2017-01-01"
      ]
     },
     "execution_count": 12,
     "metadata": {},
     "output_type": "execute_result"
    }
   ],
   "source": [
    "# create temp_df to test loading\n",
    "temp_df = pd.read_csv(txtfiles[2],index_col=0)\n",
    "temp_df.tail()"
   ]
  },
  {
   "cell_type": "code",
   "execution_count": 13,
   "id": "5583c0c6",
   "metadata": {},
   "outputs": [],
   "source": [
    "# Initial dataframe needs to create a new table\n",
    "temp_df.to_sql('cash_record', engine, if_exists='append')"
   ]
  },
  {
   "cell_type": "code",
   "execution_count": 14,
   "id": "932e2cf1",
   "metadata": {},
   "outputs": [
    {
     "data": {
      "text/html": [
       "<div>\n",
       "<style scoped>\n",
       "    .dataframe tbody tr th:only-of-type {\n",
       "        vertical-align: middle;\n",
       "    }\n",
       "\n",
       "    .dataframe tbody tr th {\n",
       "        vertical-align: top;\n",
       "    }\n",
       "\n",
       "    .dataframe thead th {\n",
       "        text-align: right;\n",
       "    }\n",
       "</style>\n",
       "<table border=\"1\" class=\"dataframe\">\n",
       "  <thead>\n",
       "    <tr style=\"text-align: right;\">\n",
       "      <th></th>\n",
       "      <th>key</th>\n",
       "      <th>cash</th>\n",
       "      <th>model</th>\n",
       "    </tr>\n",
       "  </thead>\n",
       "  <tbody>\n",
       "    <tr>\n",
       "      <th>418</th>\n",
       "      <td>cash_2021-03-11</td>\n",
       "      <td>5.490783</td>\n",
       "      <td>RF Reg_target_7_rebal_7_2017-01-01</td>\n",
       "    </tr>\n",
       "    <tr>\n",
       "      <th>419</th>\n",
       "      <td>cash_2021-03-12</td>\n",
       "      <td>5.490783</td>\n",
       "      <td>RF Reg_target_7_rebal_7_2017-01-01</td>\n",
       "    </tr>\n",
       "    <tr>\n",
       "      <th>420</th>\n",
       "      <td>cash_2021-03-15</td>\n",
       "      <td>5.490783</td>\n",
       "      <td>RF Reg_target_7_rebal_7_2017-01-01</td>\n",
       "    </tr>\n",
       "    <tr>\n",
       "      <th>421</th>\n",
       "      <td>cash_2021-03-16</td>\n",
       "      <td>5.490783</td>\n",
       "      <td>RF Reg_target_7_rebal_7_2017-01-01</td>\n",
       "    </tr>\n",
       "    <tr>\n",
       "      <th>422</th>\n",
       "      <td>cash_2021-03-17</td>\n",
       "      <td>5.490783</td>\n",
       "      <td>RF Reg_target_7_rebal_7_2017-01-01</td>\n",
       "    </tr>\n",
       "  </tbody>\n",
       "</table>\n",
       "</div>"
      ],
      "text/plain": [
       "                 key      cash                               model\n",
       "418  cash_2021-03-11  5.490783  RF Reg_target_7_rebal_7_2017-01-01\n",
       "419  cash_2021-03-12  5.490783  RF Reg_target_7_rebal_7_2017-01-01\n",
       "420  cash_2021-03-15  5.490783  RF Reg_target_7_rebal_7_2017-01-01\n",
       "421  cash_2021-03-16  5.490783  RF Reg_target_7_rebal_7_2017-01-01\n",
       "422  cash_2021-03-17  5.490783  RF Reg_target_7_rebal_7_2017-01-01"
      ]
     },
     "execution_count": 14,
     "metadata": {},
     "output_type": "execute_result"
    }
   ],
   "source": [
    "# Test with a load\n",
    "def import_cash_record():\n",
    "    conn = connect(dbname = '697_temp', user = 'postgres', host = 'databasesec.cvhiyxfodl3e.us-east-2.rds.amazonaws.com', password = 'poRter!5067')\n",
    "    cur = conn.cursor()\n",
    "    query = \"SELECT * FROM cash_record\"\n",
    "    data = pd.read_sql_query(query,conn)\n",
    "    data = data.sort_values(['model','key'])\n",
    "    return data\n",
    "cash_df = import_cash_record().drop('index',axis=1)\n",
    "\n",
    "cash_df.tail()\n"
   ]
  },
  {
   "cell_type": "code",
   "execution_count": 15,
   "id": "1811b9bf",
   "metadata": {},
   "outputs": [
    {
     "data": {
      "text/plain": [
       "key      566\n",
       "cash     566\n",
       "model    566\n",
       "dtype: int64"
      ]
     },
     "execution_count": 15,
     "metadata": {},
     "output_type": "execute_result"
    }
   ],
   "source": [
    "cash_df.count()"
   ]
  },
  {
   "cell_type": "markdown",
   "id": "e8d84cb7",
   "metadata": {},
   "source": [
    "### Loading Value Positions to postgres"
   ]
  },
  {
   "cell_type": "code",
   "execution_count": 16,
   "id": "39318d99",
   "metadata": {},
   "outputs": [
    {
     "data": {
      "text/plain": [
       "['Val_Positions_Data/RF Reg_target_60_rebal_30_2017-01-01.csv',\n",
       " 'Val_Positions_Data/RF Reg_target_120_rebal_30_2017-01-01.csv',\n",
       " 'Val_Positions_Data/RF Reg_target_7_rebal_7_2017-01-01.csv',\n",
       " 'Val_Positions_Data/RF Reg_target_120_rebal_60_2017-01-01.csv']"
      ]
     },
     "execution_count": 16,
     "metadata": {},
     "output_type": "execute_result"
    }
   ],
   "source": [
    "# Collect all CSVs in Open_Positions_Data folder\n",
    "txtfiles = []\n",
    "for file in glob.glob(\"Val_Positions_Data/*.csv\"):\n",
    "    txtfiles.append(file)\n",
    "    \n",
    "txtfiles"
   ]
  },
  {
   "cell_type": "code",
   "execution_count": 17,
   "id": "19ce85ce",
   "metadata": {},
   "outputs": [
    {
     "data": {
      "text/html": [
       "<div>\n",
       "<style scoped>\n",
       "    .dataframe tbody tr th:only-of-type {\n",
       "        vertical-align: middle;\n",
       "    }\n",
       "\n",
       "    .dataframe tbody tr th {\n",
       "        vertical-align: top;\n",
       "    }\n",
       "\n",
       "    .dataframe thead th {\n",
       "        text-align: right;\n",
       "    }\n",
       "</style>\n",
       "<table border=\"1\" class=\"dataframe\">\n",
       "  <thead>\n",
       "    <tr style=\"text-align: right;\">\n",
       "      <th></th>\n",
       "      <th>key</th>\n",
       "      <th>value</th>\n",
       "      <th>model</th>\n",
       "    </tr>\n",
       "  </thead>\n",
       "  <tbody>\n",
       "    <tr>\n",
       "      <th>149</th>\n",
       "      <td>val_2021-03-11</td>\n",
       "      <td>129090.678412</td>\n",
       "      <td>RF Reg_target_7_rebal_7_2017-01-01</td>\n",
       "    </tr>\n",
       "    <tr>\n",
       "      <th>150</th>\n",
       "      <td>val_2021-03-12</td>\n",
       "      <td>130598.742099</td>\n",
       "      <td>RF Reg_target_7_rebal_7_2017-01-01</td>\n",
       "    </tr>\n",
       "    <tr>\n",
       "      <th>151</th>\n",
       "      <td>val_2021-03-15</td>\n",
       "      <td>132633.335128</td>\n",
       "      <td>RF Reg_target_7_rebal_7_2017-01-01</td>\n",
       "    </tr>\n",
       "    <tr>\n",
       "      <th>152</th>\n",
       "      <td>val_2021-03-16</td>\n",
       "      <td>132407.606240</td>\n",
       "      <td>RF Reg_target_7_rebal_7_2017-01-01</td>\n",
       "    </tr>\n",
       "    <tr>\n",
       "      <th>153</th>\n",
       "      <td>val_2021-03-17</td>\n",
       "      <td>132356.878907</td>\n",
       "      <td>RF Reg_target_7_rebal_7_2017-01-01</td>\n",
       "    </tr>\n",
       "  </tbody>\n",
       "</table>\n",
       "</div>"
      ],
      "text/plain": [
       "                key          value                               model\n",
       "149  val_2021-03-11  129090.678412  RF Reg_target_7_rebal_7_2017-01-01\n",
       "150  val_2021-03-12  130598.742099  RF Reg_target_7_rebal_7_2017-01-01\n",
       "151  val_2021-03-15  132633.335128  RF Reg_target_7_rebal_7_2017-01-01\n",
       "152  val_2021-03-16  132407.606240  RF Reg_target_7_rebal_7_2017-01-01\n",
       "153  val_2021-03-17  132356.878907  RF Reg_target_7_rebal_7_2017-01-01"
      ]
     },
     "execution_count": 17,
     "metadata": {},
     "output_type": "execute_result"
    }
   ],
   "source": [
    "# create temp_df to test loading\n",
    "temp_df = pd.read_csv(txtfiles[2],index_col=0)\n",
    "temp_df.tail()"
   ]
  },
  {
   "cell_type": "code",
   "execution_count": 18,
   "id": "c4ade166",
   "metadata": {},
   "outputs": [],
   "source": [
    "# Initial dataframe needs to create a new table\n",
    "temp_df.to_sql('val_positions', engine,if_exists='append')"
   ]
  },
  {
   "cell_type": "code",
   "execution_count": 19,
   "id": "cb638eee",
   "metadata": {},
   "outputs": [
    {
     "data": {
      "text/html": [
       "<div>\n",
       "<style scoped>\n",
       "    .dataframe tbody tr th:only-of-type {\n",
       "        vertical-align: middle;\n",
       "    }\n",
       "\n",
       "    .dataframe tbody tr th {\n",
       "        vertical-align: top;\n",
       "    }\n",
       "\n",
       "    .dataframe thead th {\n",
       "        text-align: right;\n",
       "    }\n",
       "</style>\n",
       "<table border=\"1\" class=\"dataframe\">\n",
       "  <thead>\n",
       "    <tr style=\"text-align: right;\">\n",
       "      <th></th>\n",
       "      <th>key</th>\n",
       "      <th>value</th>\n",
       "      <th>model</th>\n",
       "    </tr>\n",
       "  </thead>\n",
       "  <tbody>\n",
       "    <tr>\n",
       "      <th>417</th>\n",
       "      <td>val_2021-03-11</td>\n",
       "      <td>129090.678412</td>\n",
       "      <td>RF Reg_target_7_rebal_7_2017-01-01</td>\n",
       "    </tr>\n",
       "    <tr>\n",
       "      <th>418</th>\n",
       "      <td>val_2021-03-12</td>\n",
       "      <td>130598.742099</td>\n",
       "      <td>RF Reg_target_7_rebal_7_2017-01-01</td>\n",
       "    </tr>\n",
       "    <tr>\n",
       "      <th>419</th>\n",
       "      <td>val_2021-03-15</td>\n",
       "      <td>132633.335128</td>\n",
       "      <td>RF Reg_target_7_rebal_7_2017-01-01</td>\n",
       "    </tr>\n",
       "    <tr>\n",
       "      <th>420</th>\n",
       "      <td>val_2021-03-16</td>\n",
       "      <td>132407.606240</td>\n",
       "      <td>RF Reg_target_7_rebal_7_2017-01-01</td>\n",
       "    </tr>\n",
       "    <tr>\n",
       "      <th>421</th>\n",
       "      <td>val_2021-03-17</td>\n",
       "      <td>132356.878907</td>\n",
       "      <td>RF Reg_target_7_rebal_7_2017-01-01</td>\n",
       "    </tr>\n",
       "  </tbody>\n",
       "</table>\n",
       "</div>"
      ],
      "text/plain": [
       "                key          value                               model\n",
       "417  val_2021-03-11  129090.678412  RF Reg_target_7_rebal_7_2017-01-01\n",
       "418  val_2021-03-12  130598.742099  RF Reg_target_7_rebal_7_2017-01-01\n",
       "419  val_2021-03-15  132633.335128  RF Reg_target_7_rebal_7_2017-01-01\n",
       "420  val_2021-03-16  132407.606240  RF Reg_target_7_rebal_7_2017-01-01\n",
       "421  val_2021-03-17  132356.878907  RF Reg_target_7_rebal_7_2017-01-01"
      ]
     },
     "execution_count": 19,
     "metadata": {},
     "output_type": "execute_result"
    }
   ],
   "source": [
    "# Test with a load\n",
    "def import_val_positions():\n",
    "    conn = connect(dbname = '697_temp', user = 'postgres', host = 'databasesec.cvhiyxfodl3e.us-east-2.rds.amazonaws.com', password = 'poRter!5067')\n",
    "    cur = conn.cursor()\n",
    "    query = \"SELECT * FROM val_positions\"\n",
    "    data = pd.read_sql_query(query,conn)\n",
    "    data = data.sort_values(['model','key'])\n",
    "    return data\n",
    "val_df = import_val_positions().drop('index',axis=1)\n",
    "\n",
    "val_df.tail()"
   ]
  },
  {
   "cell_type": "code",
   "execution_count": null,
   "id": "59487636",
   "metadata": {},
   "outputs": [],
   "source": []
  }
 ],
 "metadata": {
  "kernelspec": {
   "display_name": "venv",
   "language": "python",
   "name": "venv"
  },
  "language_info": {
   "codemirror_mode": {
    "name": "ipython",
    "version": 3
   },
   "file_extension": ".py",
   "mimetype": "text/x-python",
   "name": "python",
   "nbconvert_exporter": "python",
   "pygments_lexer": "ipython3",
   "version": "3.7.4"
  },
  "latex_envs": {
   "LaTeX_envs_menu_present": true,
   "autoclose": false,
   "autocomplete": true,
   "bibliofile": "biblio.bib",
   "cite_by": "apalike",
   "current_citInitial": 1,
   "eqLabelWithNumbers": true,
   "eqNumInitial": 1,
   "hotkeys": {
    "equation": "Ctrl-E",
    "itemize": "Ctrl-I"
   },
   "labels_anchors": false,
   "latex_user_defs": false,
   "report_style_numbering": false,
   "user_envs_cfg": false
  }
 },
 "nbformat": 4,
 "nbformat_minor": 5
}
