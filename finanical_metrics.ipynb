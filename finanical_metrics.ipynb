{
 "cells": [
  {
   "cell_type": "code",
   "execution_count": 1,
   "id": "3305d06c-7b10-47e5-9c98-9bde9ab779b5",
   "metadata": {},
   "outputs": [],
   "source": [
    "import pandas as pd\n",
    "import numpy as np\n",
    "\n",
    "def sharpe_ratio(dailys, rf=0.0015):\n",
    "    \"\"\"\n",
    "    :param dailys: a list or array of daily returns\n",
    "    :param rf: a float the risk free rate assumes 0.15% based on current conditions\n",
    "    \"\"\"\n",
    "    ex = np.mean(dailys)*365\n",
    "    sig = np.std(dailys, dtype=np.float64)*np.sqrt(365)\n",
    "    sharpe = (ex - rf)/sig\n",
    "    return sharpe\n",
    "\n",
    "def sortino_ratio(dailys, mar=0.00):\n",
    "    \"\"\"\n",
    "    :param dailys: a list or array of daily returns\n",
    "    :param mar: minimum accepted return\n",
    "    \"\"\"\n",
    "    mar_adj = [i for i in dailys if i<mar]\n",
    "    sem_sig = np.std(mar_adj, dtype=np.float64)*np.sqrt(365)\n",
    "    ex = np.mean(dailys)*365\n",
    "    sort = (ex - mar)/sem_sig\n",
    "    return sort\n",
    "\n",
    "def treynor(dailys, BM, rf=0.0015):\n",
    "    \"\"\"\n",
    "    :param dailys: a list or array of daily returns\n",
    "    :param BM: a list or array of daily returns of a benchmark\n",
    "    :param rf: a float the risk free rate assumes 0.15% based on current conditions\n",
    "    \"\"\"\n",
    "    ex = np.mean(dailys)*365\n",
    "    b = np.array(dailys)\n",
    "    a = np.array(BM)\n",
    "    reg = np.polyfit(a, b,1)\n",
    "    beta = reg[0]\n",
    "    trey = (ex - rf)/beta\n",
    "    \n",
    "    return trey\n",
    "\n",
    "def max_drawdow(dailys):\n",
    "    \"\"\"\n",
    "    :param dailys: a list or array of daily returns\n",
    "    \"\"\"\n",
    "    cum_ret = np.cumprod([1+i for i in dailys])\n",
    "    local = pd.Series(cum_ret).expanding(min_periods=1).max()\n",
    "    max_dd = ((cum_ret/local)-1).min()\n",
    "    \n",
    "    return max_dd\n",
    "\n",
    "def calmer(dailys):\n",
    "    \"\"\"\n",
    "    :param dailys: a list or array of daily returns\n",
    "    \"\"\"\n",
    "    ex = np.mean(dailys)*365\n",
    "    dd = max_drawdow(dailys)\n",
    "    calm = ex/dd\n",
    "    return calm"
   ]
  },
  {
   "cell_type": "code",
   "execution_count": null,
   "id": "25d892b0-8b9d-4dfb-93d5-146d0f32af14",
   "metadata": {},
   "outputs": [],
   "source": []
  }
 ],
 "metadata": {
  "kernelspec": {
   "display_name": "Python 3",
   "language": "python",
   "name": "python3"
  },
  "language_info": {
   "codemirror_mode": {
    "name": "ipython",
    "version": 3
   },
   "file_extension": ".py",
   "mimetype": "text/x-python",
   "name": "python",
   "nbconvert_exporter": "python",
   "pygments_lexer": "ipython3",
   "version": "3.8.10"
  }
 },
 "nbformat": 4,
 "nbformat_minor": 5
}
