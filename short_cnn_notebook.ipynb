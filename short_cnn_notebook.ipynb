{
 "cells": [
  {
   "cell_type": "markdown",
   "id": "b17c4068",
   "metadata": {},
   "source": [
    "<h2>CNN Image Pattern Recognition</h2>\n",
    "<h3>Background</h3>\n",
    "This model relies on technical features which would be utilized by day traders - candlestick charts with moving averages and Bollinger bands. There were 10 stocks, and 2 ETFs that were selected to trade due to their high intraday volume, however the choices were limited due to Alpha Vantage . These stocks and ETFs were NVDA, AMD, JPM, JNJ, MRNA, F, TSLA, MSFT, BAC, BABA, SPY, and QQQ. \n",
    "\n",
    "The historical intraday stock values of open, high, low, close were all used to train the model by creating candlesticks every 5 or 15 minute intervals. These larger intervals were chosen, compared to 1 minute or 2 minute intervals, because at the small intervals there were a lot of timestamps which had no volume, meaning no trades and no volatility. The CNN is used as an image pattern recognition model to recognize when the stock will go up or go down given the candlestick charts.\n",
    "\n",
    "<img alt=\"https://learnopencv.com/image-classification-using-convolutional-neural-networks-in-keras/\" height=\"500\" src=\"assets/cnn.jpg\" title=\"Title\" width=\"500\"/>\n",
    "Above is a CNN model schema example seen <a href=\"https://learnopencv.com/image-classification-using-convolutional-neural-networks-in-keras/\">here</a>. The first part consists of Convolutional and max-pooling layers, while the second part consists of the fully connected layer, which performs non-linear transformations of the extracted features and, in this case, acts as the classifier. Two types of outputs here can be either a softmax or a sigmoid layer, which will tell whether the image is of a cat or not, or probabilty of the image being a cat.\n",
    "<h3>Why a CNN model?</h3>\n",
    "CNNs are fully connected feed forward neural networks, and are very effective in reducing number of parameters without losing the quality of the model. Since images have a lot of features, with each pixel considered its own feature, they have very high dimensionality. Thus, since CNNs are good at dimension reduction without loss of quality in the model, CNNs are good with images."
   ]
  },
  {
   "cell_type": "code",
   "execution_count": 12,
   "id": "8b7b0494",
   "metadata": {},
   "outputs": [],
   "source": [
    "import splitfolders\n",
    "import time\n",
    "import os\n",
    "import pickle\n",
    "import pandas as pd\n",
    "import requests\n",
    "import csv\n",
    "from tqdm import tqdm\n",
    "import pandas as pd\n",
    "import mplfinance as mpf\n",
    "import matplotlib\n",
    "matplotlib.use('agg')\n",
    "import matplotlib.pyplot as plt\n",
    "from tqdm import tqdm\n",
    "\n",
    "os.environ['TF_CPP_MIN_LOG_LEVEL'] = '3'\n",
    "import tensorflow\n",
    "from keras.preprocessing.image import ImageDataGenerator\n",
    "from keras.layers import Dropout, Flatten, Dense, Activation\n",
    "from keras.layers.convolutional import Convolution2D, MaxPooling2D\n",
    "from keras.models import Sequential\n",
    "from keras import metrics\n",
    "from keras import callbacks\n",
    "from IPython.display import Image\n",
    "import plotly.express as px"
   ]
  },
  {
   "cell_type": "code",
   "execution_count": 13,
   "id": "ea0f9cbe",
   "metadata": {},
   "outputs": [],
   "source": [
    "def get_short_stock_info():\n",
    "    \"\"\"\n",
    "    This function outputs all csv files to /assets/historical-symbols/ directory as individual CSV files per stocks\n",
    "    Will be choosing 10 stocks that make up the top of the S&P500\n",
    "    \"\"\"\n",
    "    symbol_list = ['NVDA', 'AMD', 'JPM', 'JNJ', 'MRNA', 'F', 'TSLA', 'MSFT', 'BAC', 'BABA', 'SPY', 'QQQ']\n",
    "    # ones that work with alpha vantage (no nasdaq)\n",
    "    # chosen for high volume and availability on alpha vantage\n",
    "    av_api_key = os.getenv('ALPHAVANTAGE_API_KEY')\n",
    "    slices = ['year{}month{}'.format(a, b) for a in range(1, 3) for b in range(1, 13)]\n",
    "    for ticker in tqdm(symbol_list):\n",
    "        ticker_df = pd.DataFrame()\n",
    "        for slice in slices:\n",
    "            # each request takes approximately 3 seconds\n",
    "            csv_url = 'https://www.alphavantage.co/query?function=TIME_SERIES_INTRADAY_EXTENDED&symbol=' \\\n",
    "                      '{}&interval=5min&slice={}&apikey={}'.format(ticker, slice, av_api_key)\n",
    "            new_df = pd.read_csv(csv_url, header=0)\n",
    "            ticker_df = ticker_df.append(new_df)\n",
    "        ticker_df.to_csv('assets/short_term_symbols/{}.csv'.format(ticker))\n",
    "        # sleeps 15 seconds just to make sure no timeout is incurred\n",
    "        time.sleep(15)\n",
    "    print(\"Done!\")"
   ]
  },
  {
   "cell_type": "code",
   "execution_count": 14,
   "id": "91165056",
   "metadata": {},
   "outputs": [],
   "source": [
    "# cwd = os.getcwd()\n",
    "# path = os.path.join(cwd, 'assets/short_term_symbols')\n",
    "# if not os.path.exists(path):\n",
    "#     os.mkdir(path)\n",
    "# get_short_stock_info()"
   ]
  },
  {
   "cell_type": "code",
   "execution_count": 15,
   "id": "62bbafdd",
   "metadata": {},
   "outputs": [],
   "source": [
    "def bollinger_bands(data, sma, window):\n",
    "    std = data.rolling(window=window).std()\n",
    "    upper_bb = sma + std * 2\n",
    "    lower_bb = sma - std * 2\n",
    "    return upper_bb, lower_bb"
   ]
  },
  {
   "cell_type": "code",
   "execution_count": 16,
   "id": "9ad8ac21",
   "metadata": {},
   "outputs": [],
   "source": [
    "def create_candles(plot_df, folder, file):\n",
    "    fig, ax = plt.subplots(figsize=(5, 5))\n",
    "    mpf.plot(plot_df, type='candlestick', style='charles', ax=ax)\n",
    "    plot_df.reset_index().plot(kind='line', y='upper_bb', color='blue', lw=3, alpha=0.75, ax=ax, legend=None)\n",
    "    plot_df.reset_index().plot(kind='line', y='lower_bb', color='orange', lw=3, alpha=0.75, ax=ax, legend=None)\n",
    "    plot_df.reset_index().plot(kind='line', y='ema12', color='black', lw=3, alpha=0.75, ax=ax, legend=None)\n",
    "    ax.set_facecolor('white')\n",
    "    ax.set_xticks([])\n",
    "    ax.set_yticks([])\n",
    "    ax.set_ylabel(\"\")\n",
    "    ax.axis('off')\n",
    "    save_spot = f'assets/cnn_images_5m/{folder}/'\n",
    "    if not os.path.exists(save_spot):\n",
    "        os.makedirs(save_spot)\n",
    "    plt.savefig(f'{save_spot}/{file}.png', dpi=50, bbox_inches='tight')\n",
    "    try:\n",
    "        plt.close()\n",
    "    except Exception as e:\n",
    "        print(e)"
   ]
  },
  {
   "cell_type": "code",
   "execution_count": 17,
   "id": "2a110c95",
   "metadata": {},
   "outputs": [],
   "source": [
    "def candle_creator(ticker, num_index):\n",
    "    df = pd.read_csv(f'assets/short_term_symbols/{ticker}.csv').drop(columns=['Unnamed: 0'])\n",
    "    df = df.reindex(index=df.index[::-1])\n",
    "    df['time'] = pd.to_datetime(df['time'])\n",
    "    df = df.set_index(df['time']).drop(columns=['time'])\n",
    "    df = df.resample('5min').first()\n",
    "    df[['open', 'high', 'low', 'close']] = df[['open', 'high', 'low', 'close']].ffill()\n",
    "    df['volume'] = df['volume'].fillna(0)\n",
    "    df['MA12'] = df['close'].rolling(window=12).mean()\n",
    "    df['upper_bb'], df['lower_bb'] = bollinger_bands(df['close'], df['MA12'], 12)\n",
    "    df['ema12'] = df['close'].ewm(span=12).mean()\n",
    "    df = df[(df.index < '2020-07-19')]\n",
    "    df = df.iloc[11:]\n",
    "    # doing every 30m intervals\n",
    "    for start in range(0, df.shape[0], 6):\n",
    "        data = df.iloc[start:start + num_index].copy()\n",
    "        # when a quarter the data is filled in skip for training purpose\n",
    "        last_point = data[['open', 'high', 'low', 'close']].iloc[0].mean()\n",
    "        next_points = [last_point]\n",
    "        # checks if next point has volume then creates chart\n",
    "        next_row = df.iloc[start+1]\n",
    "        same_day = next_row.name.hour > 4\n",
    "        if next_row['volume'] > 0.0 and same_day:\n",
    "            next_points.append(next_row[['open', 'high', 'low', 'close']].mean())\n",
    "            if next_points[1] > next_points[0]:\n",
    "                folder = 'buy'\n",
    "            else:\n",
    "                folder = 'hold'\n",
    "\n",
    "            file = ticker + '_' + str(start)\n",
    "            if 0.0 in data['volume'].value_counts():\n",
    "                if data['volume'].value_counts()[0.0] <= 4:\n",
    "                    create_candles(data, folder, file)\n",
    "            else:\n",
    "                create_candles(data, folder, file)"
   ]
  },
  {
   "cell_type": "code",
   "execution_count": 18,
   "id": "79215846",
   "metadata": {},
   "outputs": [],
   "source": [
    "# symbol_list = ['NVDA', 'AMD', 'JPM', 'JNJ', 'MRNA', 'F', 'TSLA', 'MSFT', 'BAC', 'BABA', 'SPY', 'QQQ']\n",
    "# if not os.path.exists('assets/cnn_images_5m'):\n",
    "#     os.makedirs('assets/cnn_images_5m')\n",
    "# for symbol in tqdm(symbol_list):\n",
    "#     try:\n",
    "#         candle_creator(ticker=symbol, num_index=12)\n",
    "#     except Exception as e:\n",
    "#         print(e)"
   ]
  },
  {
   "cell_type": "markdown",
   "id": "cbe1a548",
   "metadata": {},
   "source": [
    "Two classes are used here, buy and don't buy. In this situation, the image below is a 'buy' signal.\n",
    "After creating these images comes training the CNN, which is seen below in the `train_cnn_model` function. This is a sample model with modified parameters in order to run quickly, as this was ran using `short_cnn.py` file instead."
   ]
  },
  {
   "cell_type": "code",
   "execution_count": 19,
   "id": "32343652",
   "metadata": {},
   "outputs": [
    {
     "data": {
      "image/png": "[encoded data removed]",
      "text/plain": [
       "<IPython.core.display.Image object>"
      ]
     },
     "execution_count": 19,
     "metadata": {},
     "output_type": "execute_result"
    }
   ],
   "source": [
    "Image(filename='assets/cnn_images_5m/buy/AMD_342.png')"
   ]
  },
  {
   "cell_type": "code",
   "execution_count": 20,
   "id": "75dc3154",
   "metadata": {},
   "outputs": [],
   "source": [
    "def train_cnn_model(width, height, num_samples, needs_split=False):\n",
    "    \"\"\"\n",
    "    This trains a cnn model and outputs the model to the specified location below\n",
    "    :param width: width of image\n",
    "    :param height: height of image\n",
    "    :param num_samples: total number of samples that are being split\n",
    "    :param needs_split: if the samples are split into the output folder or not\n",
    "    \"\"\"\n",
    "    start = time.time()\n",
    "    if needs_split:\n",
    "        splitfolders.ratio(\"assets/cnn_images_5m/\", output=\"assets/cnn_images_5m/output\",\n",
    "                           seed=0, ratio=(0.8, 0.1, 0.1), group_prefix=None)\n",
    "\n",
    "    model_metrics = ['accuracy', metrics.BinaryCrossentropy(), metrics.Precision(),\n",
    "                     metrics.Recall(), metrics.BinaryAccuracy()]\n",
    "    img_width, img_height = width, height\n",
    "    train_data_dir = 'assets/cnn_images_5m/output/train'\n",
    "    val_data_dir = 'assets/cnn_images_5m/output/val'\n",
    "    test_data_dir = 'assets/cnn_images_5m/output/test'\n",
    "    epochs = 10\n",
    "    batch_size = 32\n",
    "    validation_steps = 6494 // batch_size # number of validation samples available\n",
    "    classes_num = 2\n",
    "    nb_filters1 = 16\n",
    "    nb_filters2 = 32\n",
    "    conv1_size = 4\n",
    "    conv2_size = 2\n",
    "    pool_size = 2\n",
    "\n",
    "    model = Sequential()\n",
    "    model.add(Convolution2D(nb_filters1, conv1_size, conv1_size, input_shape=(img_width, img_height, 3)))\n",
    "    model.add(Activation(\"relu\"))\n",
    "    model.add(MaxPooling2D(pool_size=(pool_size, pool_size)))\n",
    "\n",
    "    model.add(Convolution2D(nb_filters2, conv2_size, conv2_size))\n",
    "    model.add(Activation(\"relu\"))\n",
    "    model.add(MaxPooling2D(pool_size=(pool_size, pool_size)))\n",
    "\n",
    "    model.add(Flatten())\n",
    "    model.add(Dense(256))\n",
    "    model.add(Activation(\"relu\"))\n",
    "    model.add(Dropout(0.5))\n",
    "    model.add(Dense(classes_num, activation='softmax'))\n",
    "\n",
    "    model.summary()\n",
    "    model.compile(loss='binary_crossentropy',\n",
    "                  optimizer='adam',\n",
    "                  metrics=model_metrics)\n",
    "\n",
    "    train_datagen = ImageDataGenerator()\n",
    "    test_datagen = ImageDataGenerator()\n",
    "    \n",
    "    # buy is 0, hold is 1\n",
    "    train_generator = train_datagen.flow_from_directory(\n",
    "        train_data_dir,\n",
    "        target_size=(img_height, img_width),\n",
    "        batch_size=batch_size,\n",
    "        class_mode='categorical')\n",
    "\n",
    "    validation_generator = test_datagen.flow_from_directory(\n",
    "        val_data_dir,\n",
    "        target_size=(img_height, img_width),\n",
    "        batch_size=batch_size,\n",
    "        class_mode='categorical')\n",
    "\n",
    "    log_dir = './tf-log/'\n",
    "    tb_cb = callbacks.TensorBoard(log_dir=log_dir, histogram_freq=0)\n",
    "    cbks = [tb_cb]\n",
    "\n",
    "    history = model.fit(\n",
    "        train_generator,\n",
    "        batch_size=batch_size,\n",
    "        steps_per_epoch=num_samples // batch_size,\n",
    "        epochs=epochs,\n",
    "        validation_data=validation_generator,\n",
    "        callbacks=cbks,\n",
    "        validation_steps=validation_steps)\n",
    "\n",
    "    target_dir = './models/'\n",
    "    if not os.path.exists(target_dir):\n",
    "        os.mkdir(target_dir)\n",
    "    model.save(f'assets/models/joey_cnn_intraday/cnn_model_5m_{epochs}epochs_{classes_num}classes.h5')\n",
    "    model.save_weights(f'assets/models/joey_cnn_intraday/cnn_weights_5m_{epochs}epochs_{classes_num}classes.h5')\n",
    "\n",
    "    with open(f'assets/models/joey_cnn_intraday/history_5m_{epochs}epochs_{classes_num}classes.pkl', 'wb') as f:\n",
    "        pickle.dump(history.history, f)\n",
    "\n",
    "    # Calculate execution time\n",
    "    end = time.time()\n",
    "    dur = end - start\n",
    "\n",
    "    if dur < 60:\n",
    "        print(\"Execution Time:\", dur, \"seconds\")\n",
    "    elif 60 < dur < 3600:\n",
    "        dur = dur / 60\n",
    "        print(\"Execution Time:\", dur, \"minutes\")\n",
    "    else:\n",
    "        dur = dur / (60 * 60)\n",
    "        print(\"Execution Time:\", dur, \"hours\")"
   ]
  },
  {
   "cell_type": "code",
   "execution_count": 21,
   "id": "b8789d0c",
   "metadata": {},
   "outputs": [
    {
     "name": "stdout",
     "output_type": "stream",
     "text": [
      "Model: \"sequential_1\"\n",
      "_________________________________________________________________\n",
      "Layer (type)                 Output Shape              Param #   \n",
      "=================================================================\n",
      "conv2d_2 (Conv2D)            (None, 50, 50, 16)        784       \n",
      "_________________________________________________________________\n",
      "activation_3 (Activation)    (None, 50, 50, 16)        0         \n",
      "_________________________________________________________________\n",
      "max_pooling2d_2 (MaxPooling2 (None, 25, 25, 16)        0         \n",
      "_________________________________________________________________\n",
      "conv2d_3 (Conv2D)            (None, 12, 12, 32)        2080      \n",
      "_________________________________________________________________\n",
      "activation_4 (Activation)    (None, 12, 12, 32)        0         \n",
      "_________________________________________________________________\n",
      "max_pooling2d_3 (MaxPooling2 (None, 6, 6, 32)          0         \n",
      "_________________________________________________________________\n",
      "flatten_1 (Flatten)          (None, 1152)              0         \n",
      "_________________________________________________________________\n",
      "dense_2 (Dense)              (None, 256)               295168    \n",
      "_________________________________________________________________\n",
      "activation_5 (Activation)    (None, 256)               0         \n",
      "_________________________________________________________________\n",
      "dropout_1 (Dropout)          (None, 256)               0         \n",
      "_________________________________________________________________\n",
      "dense_3 (Dense)              (None, 2)                 514       \n",
      "=================================================================\n",
      "Total params: 298,546\n",
      "Trainable params: 298,546\n",
      "Non-trainable params: 0\n",
      "_________________________________________________________________\n",
      "Found 51957 images belonging to 2 classes.\n",
      "Found 6494 images belonging to 2 classes.\n",
      "Epoch 1/10\n",
      "1623/1623 [==============================] - 39s 24ms/step - loss: 1.8227 - accuracy: 0.6639 - binary_crossentropy: 1.8227 - precision_1: 0.6639 - recall_1: 0.6639 - binary_accuracy: 0.6639 - val_loss: 0.3798 - val_accuracy: 0.8215 - val_binary_crossentropy: 0.3798 - val_precision_1: 0.8215 - val_recall_1: 0.8215 - val_binary_accuracy: 0.8215\n",
      "Epoch 2/10\n",
      "1623/1623 [==============================] - 38s 24ms/step - loss: 0.4321 - accuracy: 0.7985 - binary_crossentropy: 0.4321 - precision_1: 0.7985 - recall_1: 0.7985 - binary_accuracy: 0.7985 - val_loss: 0.3305 - val_accuracy: 0.8521 - val_binary_crossentropy: 0.3305 - val_precision_1: 0.8521 - val_recall_1: 0.8521 - val_binary_accuracy: 0.8521\n",
      "Epoch 3/10\n",
      "1623/1623 [==============================] - 38s 23ms/step - loss: 0.3643 - accuracy: 0.8351 - binary_crossentropy: 0.3643 - precision_1: 0.8351 - recall_1: 0.8351 - binary_accuracy: 0.8351 - val_loss: 0.2880 - val_accuracy: 0.8767 - val_binary_crossentropy: 0.2880 - val_precision_1: 0.8767 - val_recall_1: 0.8767 - val_binary_accuracy: 0.8767\n",
      "Epoch 4/10\n",
      "1623/1623 [==============================] - 38s 23ms/step - loss: 0.3253 - accuracy: 0.8546 - binary_crossentropy: 0.3253 - precision_1: 0.8546 - recall_1: 0.8546 - binary_accuracy: 0.8546 - val_loss: 0.2551 - val_accuracy: 0.8818 - val_binary_crossentropy: 0.2551 - val_precision_1: 0.8818 - val_recall_1: 0.8818 - val_binary_accuracy: 0.8818\n",
      "Epoch 5/10\n",
      "1623/1623 [==============================] - 38s 23ms/step - loss: 0.3034 - accuracy: 0.8666 - binary_crossentropy: 0.3034 - precision_1: 0.8666 - recall_1: 0.8666 - binary_accuracy: 0.8666 - val_loss: 0.2490 - val_accuracy: 0.8878 - val_binary_crossentropy: 0.2490 - val_precision_1: 0.8878 - val_recall_1: 0.8878 - val_binary_accuracy: 0.8878\n",
      "Epoch 6/10\n",
      "1623/1623 [==============================] - 38s 23ms/step - loss: 0.2858 - accuracy: 0.8744 - binary_crossentropy: 0.2858 - precision_1: 0.8744 - recall_1: 0.8744 - binary_accuracy: 0.8744 - val_loss: 0.2385 - val_accuracy: 0.8942 - val_binary_crossentropy: 0.2385 - val_precision_1: 0.8942 - val_recall_1: 0.8942 - val_binary_accuracy: 0.8942\n",
      "Epoch 7/10\n",
      "1623/1623 [==============================] - 38s 23ms/step - loss: 0.2746 - accuracy: 0.8791 - binary_crossentropy: 0.2746 - precision_1: 0.8791 - recall_1: 0.8791 - binary_accuracy: 0.8791 - val_loss: 0.2387 - val_accuracy: 0.8937 - val_binary_crossentropy: 0.2387 - val_precision_1: 0.8937 - val_recall_1: 0.8937 - val_binary_accuracy: 0.8937\n",
      "Epoch 8/10\n",
      "1623/1623 [==============================] - 38s 23ms/step - loss: 0.2667 - accuracy: 0.8837 - binary_crossentropy: 0.2667 - precision_1: 0.8837 - recall_1: 0.8837 - binary_accuracy: 0.8837 - val_loss: 0.2388 - val_accuracy: 0.8934 - val_binary_crossentropy: 0.2388 - val_precision_1: 0.8934 - val_recall_1: 0.8934 - val_binary_accuracy: 0.8934\n",
      "Epoch 9/10\n",
      "1623/1623 [==============================] - 38s 24ms/step - loss: 0.2582 - accuracy: 0.8893 - binary_crossentropy: 0.2582 - precision_1: 0.8893 - recall_1: 0.8893 - binary_accuracy: 0.8893 - val_loss: 0.2362 - val_accuracy: 0.8929 - val_binary_crossentropy: 0.2362 - val_precision_1: 0.8929 - val_recall_1: 0.8929 - val_binary_accuracy: 0.8929\n",
      "Epoch 10/10\n",
      "1623/1623 [==============================] - 38s 23ms/step - loss: 0.2502 - accuracy: 0.8925 - binary_crossentropy: 0.2502 - precision_1: 0.8925 - recall_1: 0.8925 - binary_accuracy: 0.8925 - val_loss: 0.2329 - val_accuracy: 0.8965 - val_binary_crossentropy: 0.2329 - val_precision_1: 0.8965 - val_recall_1: 0.8965 - val_binary_accuracy: 0.8965\n",
      "Execution Time: 6.380841116110484 minutes\n"
     ]
    }
   ],
   "source": [
    "needs_split = True\n",
    "if os.path.exists('assets/cnn_images_5m/output'):\n",
    "    needs_split = False\n",
    "train_cnn_model(width=203, height=202, num_samples=51957, needs_split=needs_split)"
   ]
  },
  {
   "cell_type": "code",
   "execution_count": 22,
   "id": "cf7d402a",
   "metadata": {},
   "outputs": [
    {
     "data": {
      "application/vnd.plotly.v1+json": {
       "config": {
        "plotlyServerURL": "https://plot.ly"
       },
       "data": [
        {
         "hovertemplate": "variable=0<br>index=%{x}<br>value=%{y}<extra></extra>",
         "legendgroup": "0",
         "marker": {
          "color": "#636efa",
          "symbol": "circle"
         },
         "mode": "markers",
         "name": "0",
         "orientation": "v",
         "showlegend": true,
         "type": "scatter",
         "x": [
          0,
          1,
          2,
          3,
          4,
          5,
          6,
          7,
          8,
          9,
          10,
          11,
          12,
          13,
          14,
          15,
          16,
          17,
          18,
          19,
          20,
          21,
          22,
          23,
          24
         ],
         "xaxis": "x",
         "y": [
          0.671183168888092,
          0.3857230246067047,
          0.31869471073150635,
          0.29676496982574463,
          0.2836536765098572,
          0.27095282077789307,
          0.2603825330734253,
          0.2538639008998871,
          0.2493254691362381,
          0.23811222612857819,
          0.2344808727502823,
          0.22613000869750977,
          0.22337214648723602,
          0.21761922538280487,
          0.2125476598739624,
          0.209217831492424,
          0.20917409658432007,
          0.20088008046150208,
          0.19444642961025238,
          0.19734516739845276,
          0.18960478901863098,
          0.18592116236686707,
          0.18223837018013,
          0.17939282953739166,
          0.1736762523651123
         ],
         "yaxis": "y"
        }
       ],
       "layout": {
        "legend": {
         "title": {
          "text": "variable"
         },
         "tracegroupgap": 0
        },
        "margin": {
         "t": 60
        },
        "template": {
         "data": {
          "bar": [
           {
            "error_x": {
             "color": "#2a3f5f"
            },
            "error_y": {
             "color": "#2a3f5f"
            },
            "marker": {
             "line": {
              "color": "#E5ECF6",
              "width": 0.5
             },
             "pattern": {
              "fillmode": "overlay",
              "size": 10,
              "solidity": 0.2
             }
            },
            "type": "bar"
           }
          ],
          "barpolar": [
           {
            "marker": {
             "line": {
              "color": "#E5ECF6",
              "width": 0.5
             },
             "pattern": {
              "fillmode": "overlay",
              "size": 10,
              "solidity": 0.2
             }
            },
            "type": "barpolar"
           }
          ],
          "carpet": [
           {
            "aaxis": {
             "endlinecolor": "#2a3f5f",
             "gridcolor": "white",
             "linecolor": "white",
             "minorgridcolor": "white",
             "startlinecolor": "#2a3f5f"
            },
            "baxis": {
             "endlinecolor": "#2a3f5f",
             "gridcolor": "white",
             "linecolor": "white",
             "minorgridcolor": "white",
             "startlinecolor": "#2a3f5f"
            },
            "type": "carpet"
           }
          ],
          "choropleth": [
           {
            "colorbar": {
             "outlinewidth": 0,
             "ticks": ""
            },
            "type": "choropleth"
           }
          ],
          "contour": [
           {
            "colorbar": {
             "outlinewidth": 0,
             "ticks": ""
            },
            "colorscale": [
             [
              0,
              "#0d0887"
             ],
             [
              0.1111111111111111,
              "#46039f"
             ],
             [
              0.2222222222222222,
              "#7201a8"
             ],
             [
              0.3333333333333333,
              "#9c179e"
             ],
             [
              0.4444444444444444,
              "#bd3786"
             ],
             [
              0.5555555555555556,
              "#d8576b"
             ],
             [
              0.6666666666666666,
              "#ed7953"
             ],
             [
              0.7777777777777778,
              "#fb9f3a"
             ],
             [
              0.8888888888888888,
              "#fdca26"
             ],
             [
              1,
              "#f0f921"
             ]
            ],
            "type": "contour"
           }
          ],
          "contourcarpet": [
           {
            "colorbar": {
             "outlinewidth": 0,
             "ticks": ""
            },
            "type": "contourcarpet"
           }
          ],
          "heatmap": [
           {
            "colorbar": {
             "outlinewidth": 0,
             "ticks": ""
            },
            "colorscale": [
             [
              0,
              "#0d0887"
             ],
             [
              0.1111111111111111,
              "#46039f"
             ],
             [
              0.2222222222222222,
              "#7201a8"
             ],
             [
              0.3333333333333333,
              "#9c179e"
             ],
             [
              0.4444444444444444,
              "#bd3786"
             ],
             [
              0.5555555555555556,
              "#d8576b"
             ],
             [
              0.6666666666666666,
              "#ed7953"
             ],
             [
              0.7777777777777778,
              "#fb9f3a"
             ],
             [
              0.8888888888888888,
              "#fdca26"
             ],
             [
              1,
              "#f0f921"
             ]
            ],
            "type": "heatmap"
           }
          ],
          "heatmapgl": [
           {
            "colorbar": {
             "outlinewidth": 0,
             "ticks": ""
            },
            "colorscale": [
             [
              0,
              "#0d0887"
             ],
             [
              0.1111111111111111,
              "#46039f"
             ],
             [
              0.2222222222222222,
              "#7201a8"
             ],
             [
              0.3333333333333333,
              "#9c179e"
             ],
             [
              0.4444444444444444,
              "#bd3786"
             ],
             [
              0.5555555555555556,
              "#d8576b"
             ],
             [
              0.6666666666666666,
              "#ed7953"
             ],
             [
              0.7777777777777778,
              "#fb9f3a"
             ],
             [
              0.8888888888888888,
              "#fdca26"
             ],
             [
              1,
              "#f0f921"
             ]
            ],
            "type": "heatmapgl"
           }
          ],
          "histogram": [
           {
            "marker": {
             "pattern": {
              "fillmode": "overlay",
              "size": 10,
              "solidity": 0.2
             }
            },
            "type": "histogram"
           }
          ],
          "histogram2d": [
           {
            "colorbar": {
             "outlinewidth": 0,
             "ticks": ""
            },
            "colorscale": [
             [
              0,
              "#0d0887"
             ],
             [
              0.1111111111111111,
              "#46039f"
             ],
             [
              0.2222222222222222,
              "#7201a8"
             ],
             [
              0.3333333333333333,
              "#9c179e"
             ],
             [
              0.4444444444444444,
              "#bd3786"
             ],
             [
              0.5555555555555556,
              "#d8576b"
             ],
             [
              0.6666666666666666,
              "#ed7953"
             ],
             [
              0.7777777777777778,
              "#fb9f3a"
             ],
             [
              0.8888888888888888,
              "#fdca26"
             ],
             [
              1,
              "#f0f921"
             ]
            ],
            "type": "histogram2d"
           }
          ],
          "histogram2dcontour": [
           {
            "colorbar": {
             "outlinewidth": 0,
             "ticks": ""
            },
            "colorscale": [
             [
              0,
              "#0d0887"
             ],
             [
              0.1111111111111111,
              "#46039f"
             ],
             [
              0.2222222222222222,
              "#7201a8"
             ],
             [
              0.3333333333333333,
              "#9c179e"
             ],
             [
              0.4444444444444444,
              "#bd3786"
             ],
             [
              0.5555555555555556,
              "#d8576b"
             ],
             [
              0.6666666666666666,
              "#ed7953"
             ],
             [
              0.7777777777777778,
              "#fb9f3a"
             ],
             [
              0.8888888888888888,
              "#fdca26"
             ],
             [
              1,
              "#f0f921"
             ]
            ],
            "type": "histogram2dcontour"
           }
          ],
          "mesh3d": [
           {
            "colorbar": {
             "outlinewidth": 0,
             "ticks": ""
            },
            "type": "mesh3d"
           }
          ],
          "parcoords": [
           {
            "line": {
             "colorbar": {
              "outlinewidth": 0,
              "ticks": ""
             }
            },
            "type": "parcoords"
           }
          ],
          "pie": [
           {
            "automargin": true,
            "type": "pie"
           }
          ],
          "scatter": [
           {
            "marker": {
             "colorbar": {
              "outlinewidth": 0,
              "ticks": ""
             }
            },
            "type": "scatter"
           }
          ],
          "scatter3d": [
           {
            "line": {
             "colorbar": {
              "outlinewidth": 0,
              "ticks": ""
             }
            },
            "marker": {
             "colorbar": {
              "outlinewidth": 0,
              "ticks": ""
             }
            },
            "type": "scatter3d"
           }
          ],
          "scattercarpet": [
           {
            "marker": {
             "colorbar": {
              "outlinewidth": 0,
              "ticks": ""
             }
            },
            "type": "scattercarpet"
           }
          ],
          "scattergeo": [
           {
            "marker": {
             "colorbar": {
              "outlinewidth": 0,
              "ticks": ""
             }
            },
            "type": "scattergeo"
           }
          ],
          "scattergl": [
           {
            "marker": {
             "colorbar": {
              "outlinewidth": 0,
              "ticks": ""
             }
            },
            "type": "scattergl"
           }
          ],
          "scattermapbox": [
           {
            "marker": {
             "colorbar": {
              "outlinewidth": 0,
              "ticks": ""
             }
            },
            "type": "scattermapbox"
           }
          ],
          "scatterpolar": [
           {
            "marker": {
             "colorbar": {
              "outlinewidth": 0,
              "ticks": ""
             }
            },
            "type": "scatterpolar"
           }
          ],
          "scatterpolargl": [
           {
            "marker": {
             "colorbar": {
              "outlinewidth": 0,
              "ticks": ""
             }
            },
            "type": "scatterpolargl"
           }
          ],
          "scatterternary": [
           {
            "marker": {
             "colorbar": {
              "outlinewidth": 0,
              "ticks": ""
             }
            },
            "type": "scatterternary"
           }
          ],
          "surface": [
           {
            "colorbar": {
             "outlinewidth": 0,
             "ticks": ""
            },
            "colorscale": [
             [
              0,
              "#0d0887"
             ],
             [
              0.1111111111111111,
              "#46039f"
             ],
             [
              0.2222222222222222,
              "#7201a8"
             ],
             [
              0.3333333333333333,
              "#9c179e"
             ],
             [
              0.4444444444444444,
              "#bd3786"
             ],
             [
              0.5555555555555556,
              "#d8576b"
             ],
             [
              0.6666666666666666,
              "#ed7953"
             ],
             [
              0.7777777777777778,
              "#fb9f3a"
             ],
             [
              0.8888888888888888,
              "#fdca26"
             ],
             [
              1,
              "#f0f921"
             ]
            ],
            "type": "surface"
           }
          ],
          "table": [
           {
            "cells": {
             "fill": {
              "color": "#EBF0F8"
             },
             "line": {
              "color": "white"
             }
            },
            "header": {
             "fill": {
              "color": "#C8D4E3"
             },
             "line": {
              "color": "white"
             }
            },
            "type": "table"
           }
          ]
         },
         "layout": {
          "annotationdefaults": {
           "arrowcolor": "#2a3f5f",
           "arrowhead": 0,
           "arrowwidth": 1
          },
          "autotypenumbers": "strict",
          "coloraxis": {
           "colorbar": {
            "outlinewidth": 0,
            "ticks": ""
           }
          },
          "colorscale": {
           "diverging": [
            [
             0,
             "#8e0152"
            ],
            [
             0.1,
             "#c51b7d"
            ],
            [
             0.2,
             "#de77ae"
            ],
            [
             0.3,
             "#f1b6da"
            ],
            [
             0.4,
             "#fde0ef"
            ],
            [
             0.5,
             "#f7f7f7"
            ],
            [
             0.6,
             "#e6f5d0"
            ],
            [
             0.7,
             "#b8e186"
            ],
            [
             0.8,
             "#7fbc41"
            ],
            [
             0.9,
             "#4d9221"
            ],
            [
             1,
             "#276419"
            ]
           ],
           "sequential": [
            [
             0,
             "#0d0887"
            ],
            [
             0.1111111111111111,
             "#46039f"
            ],
            [
             0.2222222222222222,
             "#7201a8"
            ],
            [
             0.3333333333333333,
             "#9c179e"
            ],
            [
             0.4444444444444444,
             "#bd3786"
            ],
            [
             0.5555555555555556,
             "#d8576b"
            ],
            [
             0.6666666666666666,
             "#ed7953"
            ],
            [
             0.7777777777777778,
             "#fb9f3a"
            ],
            [
             0.8888888888888888,
             "#fdca26"
            ],
            [
             1,
             "#f0f921"
            ]
           ],
           "sequentialminus": [
            [
             0,
             "#0d0887"
            ],
            [
             0.1111111111111111,
             "#46039f"
            ],
            [
             0.2222222222222222,
             "#7201a8"
            ],
            [
             0.3333333333333333,
             "#9c179e"
            ],
            [
             0.4444444444444444,
             "#bd3786"
            ],
            [
             0.5555555555555556,
             "#d8576b"
            ],
            [
             0.6666666666666666,
             "#ed7953"
            ],
            [
             0.7777777777777778,
             "#fb9f3a"
            ],
            [
             0.8888888888888888,
             "#fdca26"
            ],
            [
             1,
             "#f0f921"
            ]
           ]
          },
          "colorway": [
           "#636efa",
           "#EF553B",
           "#00cc96",
           "#ab63fa",
           "#FFA15A",
           "#19d3f3",
           "#FF6692",
           "#B6E880",
           "#FF97FF",
           "#FECB52"
          ],
          "font": {
           "color": "#2a3f5f"
          },
          "geo": {
           "bgcolor": "white",
           "lakecolor": "white",
           "landcolor": "#E5ECF6",
           "showlakes": true,
           "showland": true,
           "subunitcolor": "white"
          },
          "hoverlabel": {
           "align": "left"
          },
          "hovermode": "closest",
          "mapbox": {
           "style": "light"
          },
          "paper_bgcolor": "white",
          "plot_bgcolor": "#E5ECF6",
          "polar": {
           "angularaxis": {
            "gridcolor": "white",
            "linecolor": "white",
            "ticks": ""
           },
           "bgcolor": "#E5ECF6",
           "radialaxis": {
            "gridcolor": "white",
            "linecolor": "white",
            "ticks": ""
           }
          },
          "scene": {
           "xaxis": {
            "backgroundcolor": "#E5ECF6",
            "gridcolor": "white",
            "gridwidth": 2,
            "linecolor": "white",
            "showbackground": true,
            "ticks": "",
            "zerolinecolor": "white"
           },
           "yaxis": {
            "backgroundcolor": "#E5ECF6",
            "gridcolor": "white",
            "gridwidth": 2,
            "linecolor": "white",
            "showbackground": true,
            "ticks": "",
            "zerolinecolor": "white"
           },
           "zaxis": {
            "backgroundcolor": "#E5ECF6",
            "gridcolor": "white",
            "gridwidth": 2,
            "linecolor": "white",
            "showbackground": true,
            "ticks": "",
            "zerolinecolor": "white"
           }
          },
          "shapedefaults": {
           "line": {
            "color": "#2a3f5f"
           }
          },
          "ternary": {
           "aaxis": {
            "gridcolor": "white",
            "linecolor": "white",
            "ticks": ""
           },
           "baxis": {
            "gridcolor": "white",
            "linecolor": "white",
            "ticks": ""
           },
           "bgcolor": "#E5ECF6",
           "caxis": {
            "gridcolor": "white",
            "linecolor": "white",
            "ticks": ""
           }
          },
          "title": {
           "x": 0.05
          },
          "xaxis": {
           "automargin": true,
           "gridcolor": "white",
           "linecolor": "white",
           "ticks": "",
           "title": {
            "standoff": 15
           },
           "zerolinecolor": "white",
           "zerolinewidth": 2
          },
          "yaxis": {
           "automargin": true,
           "gridcolor": "white",
           "linecolor": "white",
           "ticks": "",
           "title": {
            "standoff": 15
           },
           "zerolinecolor": "white",
           "zerolinewidth": 2
          }
         }
        },
        "xaxis": {
         "anchor": "y",
         "domain": [
          0,
          1
         ],
         "title": {
          "text": "index"
         }
        },
        "yaxis": {
         "anchor": "x",
         "domain": [
          0,
          1
         ],
         "title": {
          "text": "value"
         }
        }
       }
      },
      "text/html": [
       "<div>                            <div id=\"3143e4b6-87cb-4b58-afa3-4d6955b328ee\" class=\"plotly-graph-div\" style=\"height:525px; width:100%;\"></div>            <script type=\"text/javascript\">                require([\"plotly\"], function(Plotly) {                    window.PLOTLYENV=window.PLOTLYENV || {};                                    if (document.getElementById(\"3143e4b6-87cb-4b58-afa3-4d6955b328ee\")) {                    Plotly.newPlot(                        \"3143e4b6-87cb-4b58-afa3-4d6955b328ee\",                        [{\"hovertemplate\":\"variable=0<br>index=%{x}<br>value=%{y}<extra></extra>\",\"legendgroup\":\"0\",\"marker\":{\"color\":\"#636efa\",\"symbol\":\"circle\"},\"mode\":\"markers\",\"name\":\"0\",\"orientation\":\"v\",\"showlegend\":true,\"type\":\"scatter\",\"x\":[0,1,2,3,4,5,6,7,8,9,10,11,12,13,14,15,16,17,18,19,20,21,22,23,24],\"xaxis\":\"x\",\"y\":[0.671183168888092,0.3857230246067047,0.31869471073150635,0.29676496982574463,0.2836536765098572,0.27095282077789307,0.2603825330734253,0.2538639008998871,0.2493254691362381,0.23811222612857819,0.2344808727502823,0.22613000869750977,0.22337214648723602,0.21761922538280487,0.2125476598739624,0.209217831492424,0.20917409658432007,0.20088008046150208,0.19444642961025238,0.19734516739845276,0.18960478901863098,0.18592116236686707,0.18223837018013,0.17939282953739166,0.1736762523651123],\"yaxis\":\"y\"}],                        {\"legend\":{\"title\":{\"text\":\"variable\"},\"tracegroupgap\":0},\"margin\":{\"t\":60},\"template\":{\"data\":{\"bar\":[{\"error_x\":{\"color\":\"#2a3f5f\"},\"error_y\":{\"color\":\"#2a3f5f\"},\"marker\":{\"line\":{\"color\":\"#E5ECF6\",\"width\":0.5},\"pattern\":{\"fillmode\":\"overlay\",\"size\":10,\"solidity\":0.2}},\"type\":\"bar\"}],\"barpolar\":[{\"marker\":{\"line\":{\"color\":\"#E5ECF6\",\"width\":0.5},\"pattern\":{\"fillmode\":\"overlay\",\"size\":10,\"solidity\":0.2}},\"type\":\"barpolar\"}],\"carpet\":[{\"aaxis\":{\"endlinecolor\":\"#2a3f5f\",\"gridcolor\":\"white\",\"linecolor\":\"white\",\"minorgridcolor\":\"white\",\"startlinecolor\":\"#2a3f5f\"},\"baxis\":{\"endlinecolor\":\"#2a3f5f\",\"gridcolor\":\"white\",\"linecolor\":\"white\",\"minorgridcolor\":\"white\",\"startlinecolor\":\"#2a3f5f\"},\"type\":\"carpet\"}],\"choropleth\":[{\"colorbar\":{\"outlinewidth\":0,\"ticks\":\"\"},\"type\":\"choropleth\"}],\"contour\":[{\"colorbar\":{\"outlinewidth\":0,\"ticks\":\"\"},\"colorscale\":[[0.0,\"#0d0887\"],[0.1111111111111111,\"#46039f\"],[0.2222222222222222,\"#7201a8\"],[0.3333333333333333,\"#9c179e\"],[0.4444444444444444,\"#bd3786\"],[0.5555555555555556,\"#d8576b\"],[0.6666666666666666,\"#ed7953\"],[0.7777777777777778,\"#fb9f3a\"],[0.8888888888888888,\"#fdca26\"],[1.0,\"#f0f921\"]],\"type\":\"contour\"}],\"contourcarpet\":[{\"colorbar\":{\"outlinewidth\":0,\"ticks\":\"\"},\"type\":\"contourcarpet\"}],\"heatmap\":[{\"colorbar\":{\"outlinewidth\":0,\"ticks\":\"\"},\"colorscale\":[[0.0,\"#0d0887\"],[0.1111111111111111,\"#46039f\"],[0.2222222222222222,\"#7201a8\"],[0.3333333333333333,\"#9c179e\"],[0.4444444444444444,\"#bd3786\"],[0.5555555555555556,\"#d8576b\"],[0.6666666666666666,\"#ed7953\"],[0.7777777777777778,\"#fb9f3a\"],[0.8888888888888888,\"#fdca26\"],[1.0,\"#f0f921\"]],\"type\":\"heatmap\"}],\"heatmapgl\":[{\"colorbar\":{\"outlinewidth\":0,\"ticks\":\"\"},\"colorscale\":[[0.0,\"#0d0887\"],[0.1111111111111111,\"#46039f\"],[0.2222222222222222,\"#7201a8\"],[0.3333333333333333,\"#9c179e\"],[0.4444444444444444,\"#bd3786\"],[0.5555555555555556,\"#d8576b\"],[0.6666666666666666,\"#ed7953\"],[0.7777777777777778,\"#fb9f3a\"],[0.8888888888888888,\"#fdca26\"],[1.0,\"#f0f921\"]],\"type\":\"heatmapgl\"}],\"histogram\":[{\"marker\":{\"pattern\":{\"fillmode\":\"overlay\",\"size\":10,\"solidity\":0.2}},\"type\":\"histogram\"}],\"histogram2d\":[{\"colorbar\":{\"outlinewidth\":0,\"ticks\":\"\"},\"colorscale\":[[0.0,\"#0d0887\"],[0.1111111111111111,\"#46039f\"],[0.2222222222222222,\"#7201a8\"],[0.3333333333333333,\"#9c179e\"],[0.4444444444444444,\"#bd3786\"],[0.5555555555555556,\"#d8576b\"],[0.6666666666666666,\"#ed7953\"],[0.7777777777777778,\"#fb9f3a\"],[0.8888888888888888,\"#fdca26\"],[1.0,\"#f0f921\"]],\"type\":\"histogram2d\"}],\"histogram2dcontour\":[{\"colorbar\":{\"outlinewidth\":0,\"ticks\":\"\"},\"colorscale\":[[0.0,\"#0d0887\"],[0.1111111111111111,\"#46039f\"],[0.2222222222222222,\"#7201a8\"],[0.3333333333333333,\"#9c179e\"],[0.4444444444444444,\"#bd3786\"],[0.5555555555555556,\"#d8576b\"],[0.6666666666666666,\"#ed7953\"],[0.7777777777777778,\"#fb9f3a\"],[0.8888888888888888,\"#fdca26\"],[1.0,\"#f0f921\"]],\"type\":\"histogram2dcontour\"}],\"mesh3d\":[{\"colorbar\":{\"outlinewidth\":0,\"ticks\":\"\"},\"type\":\"mesh3d\"}],\"parcoords\":[{\"line\":{\"colorbar\":{\"outlinewidth\":0,\"ticks\":\"\"}},\"type\":\"parcoords\"}],\"pie\":[{\"automargin\":true,\"type\":\"pie\"}],\"scatter\":[{\"marker\":{\"colorbar\":{\"outlinewidth\":0,\"ticks\":\"\"}},\"type\":\"scatter\"}],\"scatter3d\":[{\"line\":{\"colorbar\":{\"outlinewidth\":0,\"ticks\":\"\"}},\"marker\":{\"colorbar\":{\"outlinewidth\":0,\"ticks\":\"\"}},\"type\":\"scatter3d\"}],\"scattercarpet\":[{\"marker\":{\"colorbar\":{\"outlinewidth\":0,\"ticks\":\"\"}},\"type\":\"scattercarpet\"}],\"scattergeo\":[{\"marker\":{\"colorbar\":{\"outlinewidth\":0,\"ticks\":\"\"}},\"type\":\"scattergeo\"}],\"scattergl\":[{\"marker\":{\"colorbar\":{\"outlinewidth\":0,\"ticks\":\"\"}},\"type\":\"scattergl\"}],\"scattermapbox\":[{\"marker\":{\"colorbar\":{\"outlinewidth\":0,\"ticks\":\"\"}},\"type\":\"scattermapbox\"}],\"scatterpolar\":[{\"marker\":{\"colorbar\":{\"outlinewidth\":0,\"ticks\":\"\"}},\"type\":\"scatterpolar\"}],\"scatterpolargl\":[{\"marker\":{\"colorbar\":{\"outlinewidth\":0,\"ticks\":\"\"}},\"type\":\"scatterpolargl\"}],\"scatterternary\":[{\"marker\":{\"colorbar\":{\"outlinewidth\":0,\"ticks\":\"\"}},\"type\":\"scatterternary\"}],\"surface\":[{\"colorbar\":{\"outlinewidth\":0,\"ticks\":\"\"},\"colorscale\":[[0.0,\"#0d0887\"],[0.1111111111111111,\"#46039f\"],[0.2222222222222222,\"#7201a8\"],[0.3333333333333333,\"#9c179e\"],[0.4444444444444444,\"#bd3786\"],[0.5555555555555556,\"#d8576b\"],[0.6666666666666666,\"#ed7953\"],[0.7777777777777778,\"#fb9f3a\"],[0.8888888888888888,\"#fdca26\"],[1.0,\"#f0f921\"]],\"type\":\"surface\"}],\"table\":[{\"cells\":{\"fill\":{\"color\":\"#EBF0F8\"},\"line\":{\"color\":\"white\"}},\"header\":{\"fill\":{\"color\":\"#C8D4E3\"},\"line\":{\"color\":\"white\"}},\"type\":\"table\"}]},\"layout\":{\"annotationdefaults\":{\"arrowcolor\":\"#2a3f5f\",\"arrowhead\":0,\"arrowwidth\":1},\"autotypenumbers\":\"strict\",\"coloraxis\":{\"colorbar\":{\"outlinewidth\":0,\"ticks\":\"\"}},\"colorscale\":{\"diverging\":[[0,\"#8e0152\"],[0.1,\"#c51b7d\"],[0.2,\"#de77ae\"],[0.3,\"#f1b6da\"],[0.4,\"#fde0ef\"],[0.5,\"#f7f7f7\"],[0.6,\"#e6f5d0\"],[0.7,\"#b8e186\"],[0.8,\"#7fbc41\"],[0.9,\"#4d9221\"],[1,\"#276419\"]],\"sequential\":[[0.0,\"#0d0887\"],[0.1111111111111111,\"#46039f\"],[0.2222222222222222,\"#7201a8\"],[0.3333333333333333,\"#9c179e\"],[0.4444444444444444,\"#bd3786\"],[0.5555555555555556,\"#d8576b\"],[0.6666666666666666,\"#ed7953\"],[0.7777777777777778,\"#fb9f3a\"],[0.8888888888888888,\"#fdca26\"],[1.0,\"#f0f921\"]],\"sequentialminus\":[[0.0,\"#0d0887\"],[0.1111111111111111,\"#46039f\"],[0.2222222222222222,\"#7201a8\"],[0.3333333333333333,\"#9c179e\"],[0.4444444444444444,\"#bd3786\"],[0.5555555555555556,\"#d8576b\"],[0.6666666666666666,\"#ed7953\"],[0.7777777777777778,\"#fb9f3a\"],[0.8888888888888888,\"#fdca26\"],[1.0,\"#f0f921\"]]},\"colorway\":[\"#636efa\",\"#EF553B\",\"#00cc96\",\"#ab63fa\",\"#FFA15A\",\"#19d3f3\",\"#FF6692\",\"#B6E880\",\"#FF97FF\",\"#FECB52\"],\"font\":{\"color\":\"#2a3f5f\"},\"geo\":{\"bgcolor\":\"white\",\"lakecolor\":\"white\",\"landcolor\":\"#E5ECF6\",\"showlakes\":true,\"showland\":true,\"subunitcolor\":\"white\"},\"hoverlabel\":{\"align\":\"left\"},\"hovermode\":\"closest\",\"mapbox\":{\"style\":\"light\"},\"paper_bgcolor\":\"white\",\"plot_bgcolor\":\"#E5ECF6\",\"polar\":{\"angularaxis\":{\"gridcolor\":\"white\",\"linecolor\":\"white\",\"ticks\":\"\"},\"bgcolor\":\"#E5ECF6\",\"radialaxis\":{\"gridcolor\":\"white\",\"linecolor\":\"white\",\"ticks\":\"\"}},\"scene\":{\"xaxis\":{\"backgroundcolor\":\"#E5ECF6\",\"gridcolor\":\"white\",\"gridwidth\":2,\"linecolor\":\"white\",\"showbackground\":true,\"ticks\":\"\",\"zerolinecolor\":\"white\"},\"yaxis\":{\"backgroundcolor\":\"#E5ECF6\",\"gridcolor\":\"white\",\"gridwidth\":2,\"linecolor\":\"white\",\"showbackground\":true,\"ticks\":\"\",\"zerolinecolor\":\"white\"},\"zaxis\":{\"backgroundcolor\":\"#E5ECF6\",\"gridcolor\":\"white\",\"gridwidth\":2,\"linecolor\":\"white\",\"showbackground\":true,\"ticks\":\"\",\"zerolinecolor\":\"white\"}},\"shapedefaults\":{\"line\":{\"color\":\"#2a3f5f\"}},\"ternary\":{\"aaxis\":{\"gridcolor\":\"white\",\"linecolor\":\"white\",\"ticks\":\"\"},\"baxis\":{\"gridcolor\":\"white\",\"linecolor\":\"white\",\"ticks\":\"\"},\"bgcolor\":\"#E5ECF6\",\"caxis\":{\"gridcolor\":\"white\",\"linecolor\":\"white\",\"ticks\":\"\"}},\"title\":{\"x\":0.05},\"xaxis\":{\"automargin\":true,\"gridcolor\":\"white\",\"linecolor\":\"white\",\"ticks\":\"\",\"title\":{\"standoff\":15},\"zerolinecolor\":\"white\",\"zerolinewidth\":2},\"yaxis\":{\"automargin\":true,\"gridcolor\":\"white\",\"linecolor\":\"white\",\"ticks\":\"\",\"title\":{\"standoff\":15},\"zerolinecolor\":\"white\",\"zerolinewidth\":2}}},\"xaxis\":{\"anchor\":\"y\",\"domain\":[0.0,1.0],\"title\":{\"text\":\"index\"}},\"yaxis\":{\"anchor\":\"x\",\"domain\":[0.0,1.0],\"title\":{\"text\":\"value\"}}},                        {\"responsive\": true}                    ).then(function(){\n",
       "                            \n",
       "var gd = document.getElementById('3143e4b6-87cb-4b58-afa3-4d6955b328ee');\n",
       "var x = new MutationObserver(function (mutations, observer) {{\n",
       "        var display = window.getComputedStyle(gd).display;\n",
       "        if (!display || display === 'none') {{\n",
       "            console.log([gd, 'removed!']);\n",
       "            Plotly.purge(gd);\n",
       "            observer.disconnect();\n",
       "        }}\n",
       "}});\n",
       "\n",
       "// Listen for the removal of the full notebook cells\n",
       "var notebookContainer = gd.closest('#notebook-container');\n",
       "if (notebookContainer) {{\n",
       "    x.observe(notebookContainer, {childList: true});\n",
       "}}\n",
       "\n",
       "// Listen for the clearing of the current output cell\n",
       "var outputEl = gd.closest('.output');\n",
       "if (outputEl) {{\n",
       "    x.observe(outputEl, {childList: true});\n",
       "}}\n",
       "\n",
       "                        })                };                });            </script>        </div>"
      ]
     },
     "metadata": {},
     "output_type": "display_data"
    }
   ],
   "source": [
    "px.scatter(pickle.load(open('assets/models/joey_cnn_intraday/history_5m_25epochs_2classes.pkl', 'rb'))['loss'])"
   ]
  }
 ],
 "metadata": {
  "kernelspec": {
   "display_name": "Python 3 (ipykernel)",
   "language": "python",
   "name": "python3"
  },
  "language_info": {
   "codemirror_mode": {
    "name": "ipython",
    "version": 3
   },
   "file_extension": ".py",
   "mimetype": "text/x-python",
   "name": "python",
   "nbconvert_exporter": "python",
   "pygments_lexer": "ipython3",
   "version": "3.8.10"
  }
 },
 "nbformat": 4,
 "nbformat_minor": 5
}
