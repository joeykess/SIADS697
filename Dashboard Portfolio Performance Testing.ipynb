{
 "cells": [
  {
   "cell_type": "code",
   "execution_count": 127,
   "metadata": {},
   "outputs": [],
   "source": [
    "import os\n",
    "import time\n",
    "import pandas as pd\n",
    "import numpy as np\n",
    "import glob\n",
    "import matplotlib.pyplot as plt\n",
    "import FinNews as fn\n",
    "import re\n",
    "import pathlib\n",
    "\n",
    "# Dash modules\n",
    "import dash\n",
    "from dash_table import DataTable, FormatTemplate\n",
    "import dash_core_components as dcc\n",
    "import dash_bootstrap_components as dbc\n",
    "import dash_html_components as html\n",
    "from jupyter_dash import JupyterDash\n",
    "import plotly.express as px\n",
    "import plotly.graph_objects as go\n",
    "\n",
    "from apps.ind_css import *\n",
    "from app import app\n",
    "\n",
    "from psycopg2 import connect"
   ]
  },
  {
   "cell_type": "code",
   "execution_count": 3,
   "metadata": {},
   "outputs": [],
   "source": [
    "def import_technical_features():\n",
    "    conn = connect(dbname = '697_temp', user = 'postgres', host = 'databasesec.cvhiyxfodl3e.us-east-2.rds.amazonaws.com', password = 'poRter!5067')\n",
    "    cur = conn.cursor()\n",
    "    query = 'SELECT \"Date\",\"sector\",\"ticker\",\"Close\",\"Open\",\"High\",\"Low\" FROM technical_features_daily'\n",
    "    data = pd.read_sql_query(query,conn)\n",
    "    data = data.sort_values(['ticker', 'Date'])\n",
    "    data['Date'] = pd.to_datetime(data['Date'])\n",
    "    data = data.set_index('Date')\n",
    "    return data\n",
    "stock_df = import_technical_features()\n",
    "\n",
    "\n",
    "sector_df = stock_df.reset_index().groupby(['sector','Date']).mean()['Close'].reset_index()\n",
    "sentiment_df = pd.read_csv('assets/models/tyler_rf_daily_update/sentiment_analysis.csv')"
   ]
  },
  {
   "cell_type": "code",
   "execution_count": 3,
   "metadata": {},
   "outputs": [],
   "source": [
    "# # Creating Moving Average Technical Indicator\n",
    "# # Using this aritcle https://towardsdatascience.com/building-a-comprehensive-set-of-technical-indicators-in-python-for-quantitative-trading-8d98751b5fb\n",
    "\n",
    "# stock_df['SMA_5'] = stock_df.groupby('ticker')['Close'].transform(lambda x: x.rolling(window = 5).mean())\n",
    "# stock_df['SMA_15'] = stock_df.groupby('ticker')['Close'].transform(lambda x: x.rolling(window = 15).mean())\n",
    "# stock_df['SMA_ratio'] = stock_df['SMA_15'] / stock_df['SMA_5']\n",
    "\n",
    "# # Bollinger bands\n",
    "# stock_df['15MA'] = stock_df.groupby('ticker')['Close'].transform(lambda x: x.rolling(window=15).mean())\n",
    "# stock_df['SD'] = stock_df.groupby('ticker')['Close'].transform(lambda x: x.rolling(window=15).std())\n",
    "# stock_df['upperband'] = stock_df['15MA'] + 2*stock_df['SD']\n",
    "# stock_df['lowerband'] = stock_df['15MA'] - 2*stock_df['SD']\n",
    "\n",
    "# available_indicators1 = list(stock_df['ticker'].unique())"
   ]
  },
  {
   "cell_type": "code",
   "execution_count": 15,
   "metadata": {},
   "outputs": [],
   "source": [
    "def import_open_positions():\n",
    "    conn = connect(dbname = '697_temp', user = 'postgres', host = 'databasesec.cvhiyxfodl3e.us-east-2.rds.amazonaws.com', password = 'poRter!5067')\n",
    "    cur = conn.cursor()\n",
    "    query = \"SELECT * FROM open_positions\"\n",
    "    data = pd.read_sql_query(query,conn)\n",
    "    data = data.sort_values(['key', 'model'])\n",
    "    return data\n",
    "open_pos_df = import_open_positions().drop('index',axis=1)"
   ]
  },
  {
   "cell_type": "code",
   "execution_count": 22,
   "metadata": {},
   "outputs": [],
   "source": [
    "# Used for testing performance section\n",
    "model = 'RF Reg_target_60_rebal_30_2017-01-01'\n",
    "date_filter = test_df.Date.max()\n",
    "\n",
    "test_df = open_pos_df[(open_pos_df['model']==model)&\\\n",
    "                      (open_pos_df['key']==f'Positions_{date_filter}')]"
   ]
  },
  {
   "cell_type": "code",
   "execution_count": 143,
   "metadata": {},
   "outputs": [
    {
     "name": "stdout",
     "output_type": "stream",
     "text": [
      "Dash app running on http://127.0.0.1:8058/\n"
     ]
    },
    {
     "name": "stderr",
     "output_type": "stream",
     "text": [
      "/Users/tylerdrumheller/Documents/Grad School/SIADS697/venv/lib/python3.7/site-packages/ipykernel_launcher.py:91: SettingWithCopyWarning:\n",
      "\n",
      "\n",
      "A value is trying to be set on a copy of a slice from a DataFrame.\n",
      "Try using .loc[row_indexer,col_indexer] = value instead\n",
      "\n",
      "See the caveats in the documentation: https://pandas.pydata.org/pandas-docs/stable/user_guide/indexing.html#returning-a-view-versus-a-copy\n",
      "\n",
      "/Users/tylerdrumheller/Documents/Grad School/SIADS697/venv/lib/python3.7/site-packages/ipykernel_launcher.py:92: SettingWithCopyWarning:\n",
      "\n",
      "\n",
      "A value is trying to be set on a copy of a slice from a DataFrame.\n",
      "Try using .loc[row_indexer,col_indexer] = value instead\n",
      "\n",
      "See the caveats in the documentation: https://pandas.pydata.org/pandas-docs/stable/user_guide/indexing.html#returning-a-view-versus-a-copy\n",
      "\n"
     ]
    }
   ],
   "source": [
    "app = JupyterDash(__name__,suppress_callback_exceptions=True,external_stylesheets=[dbc.themes.SUPERHERO])\n",
    "\n",
    "server = app.server\n",
    "\n",
    "app.layout = html.Div([\n",
    "\n",
    "                html.Div([\n",
    "                    html.Div([\n",
    "                        # Adding drop down to filter by ticker\n",
    "                        html.A('Pick How You Want to  Analyze Data:'),\n",
    "                        dcc.Dropdown(id='ticker_filter',\n",
    "                            options=[{'label': i, 'value': i} for i in ['Ticker','Sector']],\n",
    "                            value='Ticker'), # the default is code_module AAA\n",
    "\n",
    "                        # dcc.Dropdown(id='industry_ticker',\n",
    "                        #     options=[{'label': i, 'value': i} for i in list(stock_df['sector'].unique())],\n",
    "                        #     value='Technology',style={'margin':'5px','display':'inline-block'}) # the default is code_module AAA\n",
    "                            ],style={'margin':'5px','width':'30%','border':'thin lightgrey solid','display':'inline-block'}),\n",
    "\n",
    "                    html.Div([\n",
    "                        # Adding drop down to filter by ticker\n",
    "                        html.A('Filter Data:'),\n",
    "                        dcc.Dropdown(id='data_filter',\n",
    "                            options=[{'label': '', 'value': ''}],\n",
    "                            value='CSCO'), # the default is code_module AAA\n",
    "                            ],style={'margin':'5px','width':'30%','border':'thin lightgrey solid','display':'inline-block'}),\n",
    "\n",
    "                    # Adding date filter buttons for charts\n",
    "                    html.Div([\n",
    "\n",
    "                        # HTM Div for Buttons\n",
    "                        html.Div([\n",
    "                            html.Button('7 Days', id='btn-nclicks-1',n_clicks=0,style={'width':'23.7%','margin':'2px'}),\n",
    "                            html.Button('30 Days', id='btn-nclicks-2',n_clicks=0,style={'width':'23.7%','margin':'2px'}),\n",
    "                            html.Button('1 Year', id='btn-nclicks-3',n_clicks=0,style={'width':'23.7%','margin':'2px'}),\n",
    "                            html.Button('All', id='btn-nclicks-4',n_clicks=0,style={'width':'23.7%','margin':'2px'})]),\n",
    "                            html.Div([dcc.Dropdown(id='MA_filter',\n",
    "                                        options=[{'label': i, 'value': i} for i in ['60 Day MA','200 Day MA']],\n",
    "                                        multi=True)])\n",
    "                            ],style={'margin':'5px','width':'35%','border':'thin lightgrey solid','display':'inline-block','float':'right'})\n",
    "                        ],style={'margin':'5px','width':'99%','border':'thin lightgrey solid'}),\n",
    "\n",
    "                    # Add dropdown for category (stock name, industry, etc) and do conditional formatting for second dropdown\n",
    "\n",
    "                    # Line two: portoflio and ticker info\n",
    "                    html.Div([\n",
    "                        html.Div([\n",
    "                            dcc.Graph(id='indicator-graph',style={'height':'25%','float':'top'}),\n",
    "                            html.Div(id='portfolio-table')\n",
    "                        ],style=portfolio_style),\n",
    "                        dcc.Graph(id='chart-1',style=chart_style),\n",
    "                        html.Div(id='news_list',style=news_style_b)\n",
    "                        # html.Div(id='news_list',children=news_info,style=news_style_b)\n",
    "                        ]),\n",
    "\n",
    "                    # Line three: other info, notyet defined\n",
    "                    html.Div([\n",
    "                        html.H2('Sector Mix (Pie Chart?)',style=portfolio_style),\n",
    "                        dcc.Graph(id='chart-2',style=chart_style),\n",
    "                        html.Div(id='sentiment',style=sentiment_style)\n",
    "                        ])\n",
    "                    ])\n",
    "\n",
    "# Callback to connect input(s) to output(s) for Tab 1\n",
    "@app.callback(dash.dependencies.Output('chart-1','figure'),\n",
    "    [dash.dependencies.Input('ticker_filter','value'),\n",
    "    dash.dependencies.Input('data_filter','value'),\n",
    "    dash.dependencies.Input('btn-nclicks-1', 'n_clicks'),\n",
    "    dash.dependencies.Input('btn-nclicks-2', 'n_clicks'),\n",
    "    dash.dependencies.Input('btn-nclicks-3', 'n_clicks'),\n",
    "    dash.dependencies.Input('btn-nclicks-4', 'n_clicks'),\n",
    "    dash.dependencies.Input('MA_filter', 'value')])\n",
    "\n",
    "# Step 3: Define the graph with plotly express\n",
    "def update_ticker(ticker_filter,ticker,btn1,btn2,btn3,btn4,ma_filters):\n",
    "\n",
    "    from datetime import datetime, timedelta\n",
    "\n",
    "    fig = go.Figure()\n",
    "\n",
    "    if ticker_filter == 'Ticker':\n",
    "\n",
    "        df = stock_df[stock_df['ticker']==ticker]\n",
    "        # df = df.set_index('Date')\n",
    "\n",
    "    else:\n",
    "        df = sector_df[sector_df['sector']==ticker]\n",
    "        df = df.set_index('Date')\n",
    "\n",
    "    # Adding 60 Day Moving Average\n",
    "    df['60 Day MA'] = df.Close.rolling(window=60).mean()\n",
    "    df['200 Day MA'] = df.Close.rolling(window=200).mean()\n",
    "\n",
    "    changed_id = [p['prop_id'] for p in dash.callback_context.triggered][0]\n",
    "\n",
    "    if 'btn-nclicks-1' in changed_id:\n",
    "        tick_df = df[df.index >= df.index.max()-timedelta(days=7)]\n",
    "    elif 'btn-nclicks-2' in changed_id:\n",
    "        tick_df = df[df.index >= df.index.max()-timedelta(days=30)]\n",
    "    elif 'btn-nclicks-3' in changed_id:\n",
    "        tick_df = df[df.index >= df.index.max()-timedelta(days=365)]\n",
    "    elif 'btn-nclicks-4' in changed_id:\n",
    "        tick_df = df\n",
    "    else:\n",
    "        tick_df = df\n",
    "\n",
    "    fig.add_trace(go.Scatter(x=tick_df.index,\n",
    "                         y=tick_df['Close'],\n",
    "                        line={\"color\": \"#228B22\"},\n",
    "                        mode=\"lines\",\n",
    "                        name='Closing Price'))\n",
    "\n",
    "    fig.update_layout(title=dict(text=f'{ticker} Closing Price',font = dict(size = 20, color = 'white'), x = 0.5, y = 0.96),\n",
    "                         template=\"ggplot2\",font=dict(size=10,color='white'),xaxis_showgrid=False,\n",
    "                         paper_bgcolor='rgba(0,0,0,0)',\n",
    "                         yaxis_title=\"Closing Price\",margin={\"r\": 20, \"t\": 35, \"l\": 20, \"b\": 10},\n",
    "                         showlegend=False)\n",
    "\n",
    "    try:\n",
    "        if '60 Day MA' in ma_filters:\n",
    "            fig.add_trace(go.Scatter(x=tick_df.index,\n",
    "                                 y=tick_df['60 Day MA'],\n",
    "                                line={\"color\": \"gray\",\"width\":1},\n",
    "                                mode=\"lines\",\n",
    "                                name='60 Day Moving Avg'))\n",
    "    except:\n",
    "        pass\n",
    "\n",
    "    try:\n",
    "        if '200 Day MA' in ma_filters:\n",
    "            fig.add_trace(go.Scatter(x=tick_df.index,\n",
    "                                 y=tick_df['200 Day MA'],\n",
    "                                line={\"color\": \"black\",\"width\":1},\n",
    "                                mode=\"lines\",\n",
    "                                name='200 Day Moving Avg'))\n",
    "    except:\n",
    "        pass\n",
    "\n",
    "    fig.update_layout(hovermode=\"x unified\")\n",
    "    fig.update_layout(margin=dict(l=20, r=20, t=50, b=10))\n",
    "\n",
    "    return fig\n",
    "\n",
    "# Creating callback to get news when ticker changes\n",
    "@app.callback(dash.dependencies.Output('news_list', 'children'),\n",
    "[dash.dependencies.Input('ticker_filter','value'),\n",
    " dash.dependencies.Input('data_filter', 'value')])\n",
    "def update_news(ticker_filter,ticker):\n",
    "\n",
    "    if ticker_filter == 'Sector':\n",
    "        topics = ticker.lower().split(\" \")\n",
    "        seeking_alpha = fn.SeekingAlpha(topics=topics)\n",
    "        news = seeking_alpha.get_news()\n",
    "\n",
    "    else:\n",
    "        seeking_alpha = fn.SeekingAlpha(topics=['$'+ticker])\n",
    "        news = seeking_alpha.get_news()\n",
    "\n",
    "    return html.Div([html.H2(f'News for {ticker}',style={'color':'white','fontSize':14,'border-bottom':'3px solid white'}),\\\n",
    "                dbc.ListGroup(\n",
    "                    [dbc.ListGroupItem(\n",
    "                        [html.Div([\n",
    "                            html.A(html.P(item['title'],style=news_style),\\\n",
    "                            href=(item['link']),target=\"_blank\"),\\\n",
    "                            html.A(html.P(item['published'],style=news_style_c))\n",
    "                            ])\n",
    "                        ],color='gray') for item in news]\n",
    "                ,flush=True)\n",
    "            ])\n",
    "\n",
    "# Creating callback to get conditially set options in dropdown filter\n",
    "@app.callback(\n",
    "    dash.dependencies.Output('data_filter', 'options'),\n",
    "    [dash.dependencies.Input('ticker_filter', 'value')])\n",
    "def update_dropdown(filter_option):\n",
    "    if filter_option == 'Ticker':\n",
    "        col_labels = [{'label' :k, 'value' :k} for k in list(stock_df['ticker'].unique())]\n",
    "        return col_labels\n",
    "    elif filter_option == 'Sector':\n",
    "        col_labels = [{'label' :k, 'value' :k} for k in list(stock_df['sector'].unique())]\n",
    "        return col_labels\n",
    "\n",
    "# Callback to connect input(s) to output(s) for Tab 1\n",
    "@app.callback(dash.dependencies.Output('chart-2','figure'),\n",
    "    [dash.dependencies.Input('data_filter','value'),\n",
    "    dash.dependencies.Input('btn-nclicks-1', 'n_clicks'),\n",
    "    dash.dependencies.Input('btn-nclicks-2', 'n_clicks'),\n",
    "    dash.dependencies.Input('btn-nclicks-3', 'n_clicks'),\n",
    "    dash.dependencies.Input('btn-nclicks-4', 'n_clicks')])\n",
    "\n",
    "# Step 3: Define the graph with plotly express\n",
    "def update_ticker(ticker,btn1,btn2,btn3,btn4):\n",
    "\n",
    "    from datetime import datetime, timedelta\n",
    "\n",
    "    fig = go.Figure()\n",
    "\n",
    "    df = stock_df[stock_df['ticker']==ticker]\n",
    "    # df = df.set_index('Date')\n",
    "\n",
    "    changed_id = [p['prop_id'] for p in dash.callback_context.triggered][0]\n",
    "\n",
    "    if 'btn-nclicks-1' in changed_id:\n",
    "        tick_df = df[df.index >= df.index.max()-timedelta(days=7)]\n",
    "    elif 'btn-nclicks-2' in changed_id:\n",
    "        tick_df = df[df.index >= df.index.max()-timedelta(days=30)]\n",
    "    elif 'btn-nclicks-3' in changed_id:\n",
    "        tick_df = df[df.index >= df.index.max()-timedelta(days=365)]\n",
    "    elif 'btn-nclicks-4' in changed_id:\n",
    "        tick_df = df\n",
    "    else:\n",
    "        tick_df = df\n",
    "\n",
    "    fig.add_trace(go.Candlestick(x=tick_df.index,\n",
    "                    open=tick_df['Open'],\n",
    "                    high=tick_df['High'],\n",
    "                    low=tick_df['Low'],\n",
    "                    close=tick_df['Close']))\n",
    "\n",
    "    fig.update_layout(title_text=f'{ticker} Candlestick Chart',title_x=0.5,\n",
    "                         template=\"ggplot2\",font=dict(size=10,color='white'),xaxis_showgrid=False,\n",
    "                         paper_bgcolor='rgba(0,0,0,0)',\n",
    "                         yaxis_title=\"Closing Price\",margin={\"r\": 20, \"t\": 35, \"l\": 20, \"b\": 10},\n",
    "                         xaxis_rangeslider_visible=False)\n",
    "\n",
    "    return fig\n",
    "\n",
    "# Creating callback for twitter sentiment\n",
    "@app.callback(dash.dependencies.Output('sentiment','children'),\n",
    "    [dash.dependencies.Input('data_filter','value')])\n",
    "# Step 3: Define the graph with plotly express\n",
    "def update_sentiment(ticker_filter):\n",
    "\n",
    "    if ticker_filter == 'Sector':\n",
    "        sector = ticker\n",
    "    else:\n",
    "        sector = stock_df[stock_df['ticker']==ticker_filter]['sector'].unique()[0]\n",
    "\n",
    "    df = sentiment_df[sentiment_df['sector']==sector]\\\n",
    "                    .nlargest(10,'Mentions')[['Ticker','Sentiment','Trend']]\n",
    "\n",
    "    table = DataTable(\n",
    "        id='sentiment_table',\n",
    "        data=df.to_dict('records'),\n",
    "        columns=[{\"name\": i, \"id\": i} for i in df.columns],\n",
    "        style_cell=dict(textAlign='center'),\n",
    "        style_header=dict(backgroundColor=\"#191970\",color='white'),\n",
    "        style_data=dict(backgroundColor=\"gray\",color='black'),\n",
    "\n",
    "        # Setting conditional styles for sentiment and trends\n",
    "         style_data_conditional=[\n",
    "            {'if': {'filter_query': '{Sentiment} = \"good\" || {Sentiment} = \"very good\"','column_id': 'Sentiment'},\n",
    "                'color': '#03CD1E'},\n",
    "            {'if': {'filter_query': '{Trend} = \"down\"','column_id': 'Trend'},\n",
    "                'color': '#FF0000'},\n",
    "            {'if': {'filter_query': '{Trend} = \"up\"','column_id': 'Trend'},\n",
    "                'color': '#03CD1E'}],\n",
    "\n",
    "        style_as_list_view=True\n",
    "    )\n",
    "\n",
    "    return html.Div([html.A(f'Top Sentiment for Sector: {sector}',style={'color':'white','fontsize':8}),table])\n",
    "\n",
    "\n",
    "@app.callback(dash.dependencies.Output('indicator-graph', 'figure'),\n",
    "              [dash.dependencies.Input('data_filter','value')])\n",
    "def update_port_value(value):\n",
    "    \n",
    "    fig = go.Figure(go.Indicator(\n",
    "    mode = \"number+delta\",\n",
    "    value = test_df['Current Value'].sum(),\n",
    "    title = {\"text\": \"Current Portfolio Value<br>\",'font':{'size':18,'color':'white'}},\n",
    "    number = {'prefix': \"$\",'font':{'size':18,'color':'white'}},\n",
    "    domain = {'x': [0, 1], 'y': [0, 1]},\n",
    "    delta = {'reference': test_df['Basis'].sum(), 'relative': True,'font':{'size':14},'position' : \"right\"}\n",
    "        ))\n",
    "    \n",
    "    fig.update_layout(paper_bgcolor='rgba(0,0,0,0)')\n",
    "    \n",
    "    return fig\n",
    "\n",
    "\n",
    "# Creating callback for twitter sentiment\n",
    "@app.callback(dash.dependencies.Output('portfolio-table','children'),\n",
    "    [dash.dependencies.Input('data_filter','value')])\n",
    "# Step 3: Define the graph with plotly express\n",
    "def portfolio_table(value):\n",
    "\n",
    "    model = 'RF Reg_target_60_rebal_30_2017-01-01'\n",
    "    date_filter = '2020-09-04'\n",
    "\n",
    "    df = open_pos_df[(open_pos_df['model']==model)&\\\n",
    "                      (open_pos_df['key']==f'Positions_{date_filter}')][['Ticker','Current Value','% Gain']]\n",
    "\n",
    "    table = DataTable(\n",
    "        id='portfolio_table',\n",
    "        data=df.to_dict('records'),\n",
    "        columns = [\n",
    "            dict(id='Ticker', name='Ticker'),\n",
    "            dict(id='Current Value', name='Current Value', type='numeric', format=FormatTemplate.money(2)),\n",
    "            dict(id='% Gain', name='% Gain', type='numeric', format=FormatTemplate.percentage(0))\n",
    "            ],\n",
    "        style_cell=dict(textAlign='center',fontSize=12),\n",
    "        style_header=dict(backgroundColor=\"#191970\",color='white'),\n",
    "        style_data=dict(backgroundColor=\"gray\",color='black'),\n",
    "\n",
    "        # Setting conditional styles for sentiment and trends\n",
    "         style_data_conditional=[\n",
    "            {'if': {'filter_query': '{% Gain} > 0','column_id': '% Gain'},\n",
    "                'color': '#03CD1E'},\n",
    "            {'if': {'filter_query': '{% Gain} <= 0','column_id': '% Gain'},\n",
    "                'color': '#FF0000'}],\n",
    "        page_action='none',\n",
    "        style_table={'height': '225px', 'overflowY': 'auto'},\n",
    "\n",
    "        style_as_list_view=True\n",
    "    )\n",
    "    \n",
    "    return table\n",
    "\n",
    "\n",
    "if __name__ == '__main__':\n",
    "    app.run_server(debug=True,port=8058)"
   ]
  },
  {
   "cell_type": "markdown",
   "metadata": {},
   "source": [
    "### Notes\n",
    "1. How do I set a relative height\n",
    "2. Could add ticker - https://community.plotly.com/t/strip-ticker-label/48348/6\n"
   ]
  },
  {
   "cell_type": "code",
   "execution_count": 6,
   "metadata": {},
   "outputs": [],
   "source": [
    "def import_open_positions():\n",
    "    conn = connect(dbname = '697_temp', user = 'postgres', host = 'databasesec.cvhiyxfodl3e.us-east-2.rds.amazonaws.com', password = 'poRter!5067')\n",
    "    cur = conn.cursor()\n",
    "    query = \"SELECT * FROM open_positions\"\n",
    "    data = pd.read_sql_query(query,conn)\n",
    "    data = data.sort_values(['key', 'model'])\n",
    "    return data\n",
    "open_pos_df = import_open_positions().drop('index',axis=1)"
   ]
  },
  {
   "cell_type": "code",
   "execution_count": 8,
   "metadata": {},
   "outputs": [
    {
     "data": {
      "text/plain": [
       "array(['75percent_confidence_no_holding_15m_cnn',\n",
       "       'RF Reg_target_120_rebal_30_2017-01-01',\n",
       "       'RF Reg_target_120_rebal_60_2017-01-01',\n",
       "       'RF Reg_target_60_rebal_30_2017-01-01'], dtype=object)"
      ]
     },
     "execution_count": 8,
     "metadata": {},
     "output_type": "execute_result"
    }
   ],
   "source": [
    "open_pos_df.model.unique()"
   ]
  },
  {
   "cell_type": "code",
   "execution_count": 111,
   "metadata": {},
   "outputs": [
    {
     "data": {
      "text/plain": [
       "'2020-09-04'"
      ]
     },
     "execution_count": 111,
     "metadata": {},
     "output_type": "execute_result"
    }
   ],
   "source": [
    "date_filter"
   ]
  },
  {
   "cell_type": "code",
   "execution_count": 14,
   "metadata": {},
   "outputs": [
    {
     "data": {
      "text/html": [
       "<div>\n",
       "<style scoped>\n",
       "    .dataframe tbody tr th:only-of-type {\n",
       "        vertical-align: middle;\n",
       "    }\n",
       "\n",
       "    .dataframe tbody tr th {\n",
       "        vertical-align: top;\n",
       "    }\n",
       "\n",
       "    .dataframe thead th {\n",
       "        text-align: right;\n",
       "    }\n",
       "</style>\n",
       "<table border=\"1\" class=\"dataframe\">\n",
       "  <thead>\n",
       "    <tr style=\"text-align: right;\">\n",
       "      <th></th>\n",
       "      <th>key</th>\n",
       "      <th>Date</th>\n",
       "      <th>Ticker</th>\n",
       "      <th>Quantity</th>\n",
       "      <th>Basis</th>\n",
       "      <th>Purchase Price</th>\n",
       "      <th>Current Value</th>\n",
       "      <th>Last</th>\n",
       "      <th>% Gain</th>\n",
       "      <th>model</th>\n",
       "    </tr>\n",
       "  </thead>\n",
       "  <tbody>\n",
       "    <tr>\n",
       "      <th>8628</th>\n",
       "      <td>Positions_2020-09-04</td>\n",
       "      <td>2020-08-06</td>\n",
       "      <td>PEAK</td>\n",
       "      <td>1414</td>\n",
       "      <td>37302.451968</td>\n",
       "      <td>26.380801</td>\n",
       "      <td>38844.507728</td>\n",
       "      <td>27.471363</td>\n",
       "      <td>4.13</td>\n",
       "      <td>RF Reg_target_60_rebal_30_2017-01-01</td>\n",
       "    </tr>\n",
       "    <tr>\n",
       "      <th>8629</th>\n",
       "      <td>Positions_2020-09-04</td>\n",
       "      <td>2020-08-06</td>\n",
       "      <td>DOW</td>\n",
       "      <td>132</td>\n",
       "      <td>5251.401484</td>\n",
       "      <td>39.783345</td>\n",
       "      <td>6243.464137</td>\n",
       "      <td>47.298971</td>\n",
       "      <td>18.89</td>\n",
       "      <td>RF Reg_target_60_rebal_30_2017-01-01</td>\n",
       "    </tr>\n",
       "    <tr>\n",
       "      <th>8630</th>\n",
       "      <td>Positions_2020-09-04</td>\n",
       "      <td>2020-08-06</td>\n",
       "      <td>MO</td>\n",
       "      <td>116</td>\n",
       "      <td>4476.208144</td>\n",
       "      <td>38.588001</td>\n",
       "      <td>4674.804046</td>\n",
       "      <td>40.300035</td>\n",
       "      <td>4.44</td>\n",
       "      <td>RF Reg_target_60_rebal_30_2017-01-01</td>\n",
       "    </tr>\n",
       "    <tr>\n",
       "      <th>8631</th>\n",
       "      <td>Positions_2020-09-04</td>\n",
       "      <td>2020-08-06</td>\n",
       "      <td>KIM</td>\n",
       "      <td>396</td>\n",
       "      <td>4352.371394</td>\n",
       "      <td>10.990837</td>\n",
       "      <td>4812.798916</td>\n",
       "      <td>12.153533</td>\n",
       "      <td>10.58</td>\n",
       "      <td>RF Reg_target_60_rebal_30_2017-01-01</td>\n",
       "    </tr>\n",
       "    <tr>\n",
       "      <th>8632</th>\n",
       "      <td>Positions_2020-09-04</td>\n",
       "      <td>2020-08-06</td>\n",
       "      <td>C</td>\n",
       "      <td>80</td>\n",
       "      <td>3958.858682</td>\n",
       "      <td>49.485734</td>\n",
       "      <td>4081.023071</td>\n",
       "      <td>51.012788</td>\n",
       "      <td>3.09</td>\n",
       "      <td>RF Reg_target_60_rebal_30_2017-01-01</td>\n",
       "    </tr>\n",
       "  </tbody>\n",
       "</table>\n",
       "</div>"
      ],
      "text/plain": [
       "                       key        Date Ticker  Quantity         Basis  \\\n",
       "8628  Positions_2020-09-04  2020-08-06   PEAK      1414  37302.451968   \n",
       "8629  Positions_2020-09-04  2020-08-06    DOW       132   5251.401484   \n",
       "8630  Positions_2020-09-04  2020-08-06     MO       116   4476.208144   \n",
       "8631  Positions_2020-09-04  2020-08-06    KIM       396   4352.371394   \n",
       "8632  Positions_2020-09-04  2020-08-06      C        80   3958.858682   \n",
       "\n",
       "      Purchase Price  Current Value       Last  % Gain  \\\n",
       "8628       26.380801   38844.507728  27.471363    4.13   \n",
       "8629       39.783345    6243.464137  47.298971   18.89   \n",
       "8630       38.588001    4674.804046  40.300035    4.44   \n",
       "8631       10.990837    4812.798916  12.153533   10.58   \n",
       "8632       49.485734    4081.023071  51.012788    3.09   \n",
       "\n",
       "                                     model  \n",
       "8628  RF Reg_target_60_rebal_30_2017-01-01  \n",
       "8629  RF Reg_target_60_rebal_30_2017-01-01  \n",
       "8630  RF Reg_target_60_rebal_30_2017-01-01  \n",
       "8631  RF Reg_target_60_rebal_30_2017-01-01  \n",
       "8632  RF Reg_target_60_rebal_30_2017-01-01  "
      ]
     },
     "execution_count": 14,
     "metadata": {},
     "output_type": "execute_result"
    },
    {
     "name": "stderr",
     "output_type": "stream",
     "text": [
      "/Users/tylerdrumheller/Documents/Grad School/SIADS697/venv/lib/python3.7/site-packages/ipykernel_launcher.py:88: SettingWithCopyWarning:\n",
      "\n",
      "\n",
      "A value is trying to be set on a copy of a slice from a DataFrame.\n",
      "Try using .loc[row_indexer,col_indexer] = value instead\n",
      "\n",
      "See the caveats in the documentation: https://pandas.pydata.org/pandas-docs/stable/user_guide/indexing.html#returning-a-view-versus-a-copy\n",
      "\n",
      "/Users/tylerdrumheller/Documents/Grad School/SIADS697/venv/lib/python3.7/site-packages/ipykernel_launcher.py:89: SettingWithCopyWarning:\n",
      "\n",
      "\n",
      "A value is trying to be set on a copy of a slice from a DataFrame.\n",
      "Try using .loc[row_indexer,col_indexer] = value instead\n",
      "\n",
      "See the caveats in the documentation: https://pandas.pydata.org/pandas-docs/stable/user_guide/indexing.html#returning-a-view-versus-a-copy\n",
      "\n"
     ]
    }
   ],
   "source": [
    "model = 'RF Reg_target_60_rebal_30_2017-01-01'\n",
    "date_filter = test_df.Date.max()\n",
    "\n",
    "test_df = open_pos_df[(open_pos_df['model']==model)&\\\n",
    "                      (open_pos_df['key']==f'Positions_{date_filter}')]\n",
    "test_df.head()"
   ]
  },
  {
   "cell_type": "code",
   "execution_count": 23,
   "metadata": {},
   "outputs": [
    {
     "data": {
      "text/plain": [
       "105036.56838289442"
      ]
     },
     "execution_count": 23,
     "metadata": {},
     "output_type": "execute_result"
    }
   ],
   "source": [
    "test_df['Current Value'].sum()"
   ]
  },
  {
   "cell_type": "code",
   "execution_count": 26,
   "metadata": {},
   "outputs": [
    {
     "data": {
      "text/plain": [
       "0.053015485128335316"
      ]
     },
     "execution_count": 26,
     "metadata": {},
     "output_type": "execute_result"
    }
   ],
   "source": [
    "test_df['Current Value'].sum() / test_df['Basis'].sum() - 1"
   ]
  },
  {
   "cell_type": "code",
   "execution_count": 95,
   "metadata": {},
   "outputs": [
    {
     "data": {
      "application/vnd.plotly.v1+json": {
       "config": {
        "plotlyServerURL": "https://plot.ly"
       },
       "data": [
        {
         "delta": {
          "font": {
           "size": 12
          },
          "reference": 400,
          "relative": true
         },
         "domain": {
          "x": [
           0,
           1
          ],
          "y": [
           0,
           1
          ]
         },
         "mode": "number+delta",
         "number": {
          "font": {
           "size": 12
          },
          "prefix": "$"
         },
         "title": {
          "font": {
           "size": 12
          },
          "text": "Current Portfolio Value<br>"
         },
         "type": "indicator",
         "value": 450
        }
       ],
       "layout": {
        "paper_bgcolor": "lightgray",
        "template": {
         "data": {
          "bar": [
           {
            "error_x": {
             "color": "#2a3f5f"
            },
            "error_y": {
             "color": "#2a3f5f"
            },
            "marker": {
             "line": {
              "color": "#E5ECF6",
              "width": 0.5
             },
             "pattern": {
              "fillmode": "overlay",
              "size": 10,
              "solidity": 0.2
             }
            },
            "type": "bar"
           }
          ],
          "barpolar": [
           {
            "marker": {
             "line": {
              "color": "#E5ECF6",
              "width": 0.5
             },
             "pattern": {
              "fillmode": "overlay",
              "size": 10,
              "solidity": 0.2
             }
            },
            "type": "barpolar"
           }
          ],
          "carpet": [
           {
            "aaxis": {
             "endlinecolor": "#2a3f5f",
             "gridcolor": "white",
             "linecolor": "white",
             "minorgridcolor": "white",
             "startlinecolor": "#2a3f5f"
            },
            "baxis": {
             "endlinecolor": "#2a3f5f",
             "gridcolor": "white",
             "linecolor": "white",
             "minorgridcolor": "white",
             "startlinecolor": "#2a3f5f"
            },
            "type": "carpet"
           }
          ],
          "choropleth": [
           {
            "colorbar": {
             "outlinewidth": 0,
             "ticks": ""
            },
            "type": "choropleth"
           }
          ],
          "contour": [
           {
            "colorbar": {
             "outlinewidth": 0,
             "ticks": ""
            },
            "colorscale": [
             [
              0,
              "#0d0887"
             ],
             [
              0.1111111111111111,
              "#46039f"
             ],
             [
              0.2222222222222222,
              "#7201a8"
             ],
             [
              0.3333333333333333,
              "#9c179e"
             ],
             [
              0.4444444444444444,
              "#bd3786"
             ],
             [
              0.5555555555555556,
              "#d8576b"
             ],
             [
              0.6666666666666666,
              "#ed7953"
             ],
             [
              0.7777777777777778,
              "#fb9f3a"
             ],
             [
              0.8888888888888888,
              "#fdca26"
             ],
             [
              1,
              "#f0f921"
             ]
            ],
            "type": "contour"
           }
          ],
          "contourcarpet": [
           {
            "colorbar": {
             "outlinewidth": 0,
             "ticks": ""
            },
            "type": "contourcarpet"
           }
          ],
          "heatmap": [
           {
            "colorbar": {
             "outlinewidth": 0,
             "ticks": ""
            },
            "colorscale": [
             [
              0,
              "#0d0887"
             ],
             [
              0.1111111111111111,
              "#46039f"
             ],
             [
              0.2222222222222222,
              "#7201a8"
             ],
             [
              0.3333333333333333,
              "#9c179e"
             ],
             [
              0.4444444444444444,
              "#bd3786"
             ],
             [
              0.5555555555555556,
              "#d8576b"
             ],
             [
              0.6666666666666666,
              "#ed7953"
             ],
             [
              0.7777777777777778,
              "#fb9f3a"
             ],
             [
              0.8888888888888888,
              "#fdca26"
             ],
             [
              1,
              "#f0f921"
             ]
            ],
            "type": "heatmap"
           }
          ],
          "heatmapgl": [
           {
            "colorbar": {
             "outlinewidth": 0,
             "ticks": ""
            },
            "colorscale": [
             [
              0,
              "#0d0887"
             ],
             [
              0.1111111111111111,
              "#46039f"
             ],
             [
              0.2222222222222222,
              "#7201a8"
             ],
             [
              0.3333333333333333,
              "#9c179e"
             ],
             [
              0.4444444444444444,
              "#bd3786"
             ],
             [
              0.5555555555555556,
              "#d8576b"
             ],
             [
              0.6666666666666666,
              "#ed7953"
             ],
             [
              0.7777777777777778,
              "#fb9f3a"
             ],
             [
              0.8888888888888888,
              "#fdca26"
             ],
             [
              1,
              "#f0f921"
             ]
            ],
            "type": "heatmapgl"
           }
          ],
          "histogram": [
           {
            "marker": {
             "pattern": {
              "fillmode": "overlay",
              "size": 10,
              "solidity": 0.2
             }
            },
            "type": "histogram"
           }
          ],
          "histogram2d": [
           {
            "colorbar": {
             "outlinewidth": 0,
             "ticks": ""
            },
            "colorscale": [
             [
              0,
              "#0d0887"
             ],
             [
              0.1111111111111111,
              "#46039f"
             ],
             [
              0.2222222222222222,
              "#7201a8"
             ],
             [
              0.3333333333333333,
              "#9c179e"
             ],
             [
              0.4444444444444444,
              "#bd3786"
             ],
             [
              0.5555555555555556,
              "#d8576b"
             ],
             [
              0.6666666666666666,
              "#ed7953"
             ],
             [
              0.7777777777777778,
              "#fb9f3a"
             ],
             [
              0.8888888888888888,
              "#fdca26"
             ],
             [
              1,
              "#f0f921"
             ]
            ],
            "type": "histogram2d"
           }
          ],
          "histogram2dcontour": [
           {
            "colorbar": {
             "outlinewidth": 0,
             "ticks": ""
            },
            "colorscale": [
             [
              0,
              "#0d0887"
             ],
             [
              0.1111111111111111,
              "#46039f"
             ],
             [
              0.2222222222222222,
              "#7201a8"
             ],
             [
              0.3333333333333333,
              "#9c179e"
             ],
             [
              0.4444444444444444,
              "#bd3786"
             ],
             [
              0.5555555555555556,
              "#d8576b"
             ],
             [
              0.6666666666666666,
              "#ed7953"
             ],
             [
              0.7777777777777778,
              "#fb9f3a"
             ],
             [
              0.8888888888888888,
              "#fdca26"
             ],
             [
              1,
              "#f0f921"
             ]
            ],
            "type": "histogram2dcontour"
           }
          ],
          "mesh3d": [
           {
            "colorbar": {
             "outlinewidth": 0,
             "ticks": ""
            },
            "type": "mesh3d"
           }
          ],
          "parcoords": [
           {
            "line": {
             "colorbar": {
              "outlinewidth": 0,
              "ticks": ""
             }
            },
            "type": "parcoords"
           }
          ],
          "pie": [
           {
            "automargin": true,
            "type": "pie"
           }
          ],
          "scatter": [
           {
            "marker": {
             "colorbar": {
              "outlinewidth": 0,
              "ticks": ""
             }
            },
            "type": "scatter"
           }
          ],
          "scatter3d": [
           {
            "line": {
             "colorbar": {
              "outlinewidth": 0,
              "ticks": ""
             }
            },
            "marker": {
             "colorbar": {
              "outlinewidth": 0,
              "ticks": ""
             }
            },
            "type": "scatter3d"
           }
          ],
          "scattercarpet": [
           {
            "marker": {
             "colorbar": {
              "outlinewidth": 0,
              "ticks": ""
             }
            },
            "type": "scattercarpet"
           }
          ],
          "scattergeo": [
           {
            "marker": {
             "colorbar": {
              "outlinewidth": 0,
              "ticks": ""
             }
            },
            "type": "scattergeo"
           }
          ],
          "scattergl": [
           {
            "marker": {
             "colorbar": {
              "outlinewidth": 0,
              "ticks": ""
             }
            },
            "type": "scattergl"
           }
          ],
          "scattermapbox": [
           {
            "marker": {
             "colorbar": {
              "outlinewidth": 0,
              "ticks": ""
             }
            },
            "type": "scattermapbox"
           }
          ],
          "scatterpolar": [
           {
            "marker": {
             "colorbar": {
              "outlinewidth": 0,
              "ticks": ""
             }
            },
            "type": "scatterpolar"
           }
          ],
          "scatterpolargl": [
           {
            "marker": {
             "colorbar": {
              "outlinewidth": 0,
              "ticks": ""
             }
            },
            "type": "scatterpolargl"
           }
          ],
          "scatterternary": [
           {
            "marker": {
             "colorbar": {
              "outlinewidth": 0,
              "ticks": ""
             }
            },
            "type": "scatterternary"
           }
          ],
          "surface": [
           {
            "colorbar": {
             "outlinewidth": 0,
             "ticks": ""
            },
            "colorscale": [
             [
              0,
              "#0d0887"
             ],
             [
              0.1111111111111111,
              "#46039f"
             ],
             [
              0.2222222222222222,
              "#7201a8"
             ],
             [
              0.3333333333333333,
              "#9c179e"
             ],
             [
              0.4444444444444444,
              "#bd3786"
             ],
             [
              0.5555555555555556,
              "#d8576b"
             ],
             [
              0.6666666666666666,
              "#ed7953"
             ],
             [
              0.7777777777777778,
              "#fb9f3a"
             ],
             [
              0.8888888888888888,
              "#fdca26"
             ],
             [
              1,
              "#f0f921"
             ]
            ],
            "type": "surface"
           }
          ],
          "table": [
           {
            "cells": {
             "fill": {
              "color": "#EBF0F8"
             },
             "line": {
              "color": "white"
             }
            },
            "header": {
             "fill": {
              "color": "#C8D4E3"
             },
             "line": {
              "color": "white"
             }
            },
            "type": "table"
           }
          ]
         },
         "layout": {
          "annotationdefaults": {
           "arrowcolor": "#2a3f5f",
           "arrowhead": 0,
           "arrowwidth": 1
          },
          "autotypenumbers": "strict",
          "coloraxis": {
           "colorbar": {
            "outlinewidth": 0,
            "ticks": ""
           }
          },
          "colorscale": {
           "diverging": [
            [
             0,
             "#8e0152"
            ],
            [
             0.1,
             "#c51b7d"
            ],
            [
             0.2,
             "#de77ae"
            ],
            [
             0.3,
             "#f1b6da"
            ],
            [
             0.4,
             "#fde0ef"
            ],
            [
             0.5,
             "#f7f7f7"
            ],
            [
             0.6,
             "#e6f5d0"
            ],
            [
             0.7,
             "#b8e186"
            ],
            [
             0.8,
             "#7fbc41"
            ],
            [
             0.9,
             "#4d9221"
            ],
            [
             1,
             "#276419"
            ]
           ],
           "sequential": [
            [
             0,
             "#0d0887"
            ],
            [
             0.1111111111111111,
             "#46039f"
            ],
            [
             0.2222222222222222,
             "#7201a8"
            ],
            [
             0.3333333333333333,
             "#9c179e"
            ],
            [
             0.4444444444444444,
             "#bd3786"
            ],
            [
             0.5555555555555556,
             "#d8576b"
            ],
            [
             0.6666666666666666,
             "#ed7953"
            ],
            [
             0.7777777777777778,
             "#fb9f3a"
            ],
            [
             0.8888888888888888,
             "#fdca26"
            ],
            [
             1,
             "#f0f921"
            ]
           ],
           "sequentialminus": [
            [
             0,
             "#0d0887"
            ],
            [
             0.1111111111111111,
             "#46039f"
            ],
            [
             0.2222222222222222,
             "#7201a8"
            ],
            [
             0.3333333333333333,
             "#9c179e"
            ],
            [
             0.4444444444444444,
             "#bd3786"
            ],
            [
             0.5555555555555556,
             "#d8576b"
            ],
            [
             0.6666666666666666,
             "#ed7953"
            ],
            [
             0.7777777777777778,
             "#fb9f3a"
            ],
            [
             0.8888888888888888,
             "#fdca26"
            ],
            [
             1,
             "#f0f921"
            ]
           ]
          },
          "colorway": [
           "#636efa",
           "#EF553B",
           "#00cc96",
           "#ab63fa",
           "#FFA15A",
           "#19d3f3",
           "#FF6692",
           "#B6E880",
           "#FF97FF",
           "#FECB52"
          ],
          "font": {
           "color": "#2a3f5f"
          },
          "geo": {
           "bgcolor": "white",
           "lakecolor": "white",
           "landcolor": "#E5ECF6",
           "showlakes": true,
           "showland": true,
           "subunitcolor": "white"
          },
          "hoverlabel": {
           "align": "left"
          },
          "hovermode": "closest",
          "mapbox": {
           "style": "light"
          },
          "paper_bgcolor": "white",
          "plot_bgcolor": "#E5ECF6",
          "polar": {
           "angularaxis": {
            "gridcolor": "white",
            "linecolor": "white",
            "ticks": ""
           },
           "bgcolor": "#E5ECF6",
           "radialaxis": {
            "gridcolor": "white",
            "linecolor": "white",
            "ticks": ""
           }
          },
          "scene": {
           "xaxis": {
            "backgroundcolor": "#E5ECF6",
            "gridcolor": "white",
            "gridwidth": 2,
            "linecolor": "white",
            "showbackground": true,
            "ticks": "",
            "zerolinecolor": "white"
           },
           "yaxis": {
            "backgroundcolor": "#E5ECF6",
            "gridcolor": "white",
            "gridwidth": 2,
            "linecolor": "white",
            "showbackground": true,
            "ticks": "",
            "zerolinecolor": "white"
           },
           "zaxis": {
            "backgroundcolor": "#E5ECF6",
            "gridcolor": "white",
            "gridwidth": 2,
            "linecolor": "white",
            "showbackground": true,
            "ticks": "",
            "zerolinecolor": "white"
           }
          },
          "shapedefaults": {
           "line": {
            "color": "#2a3f5f"
           }
          },
          "ternary": {
           "aaxis": {
            "gridcolor": "white",
            "linecolor": "white",
            "ticks": ""
           },
           "baxis": {
            "gridcolor": "white",
            "linecolor": "white",
            "ticks": ""
           },
           "bgcolor": "#E5ECF6",
           "caxis": {
            "gridcolor": "white",
            "linecolor": "white",
            "ticks": ""
           }
          },
          "title": {
           "x": 0.05
          },
          "xaxis": {
           "automargin": true,
           "gridcolor": "white",
           "linecolor": "white",
           "ticks": "",
           "title": {
            "standoff": 15
           },
           "zerolinecolor": "white",
           "zerolinewidth": 2
          },
          "yaxis": {
           "automargin": true,
           "gridcolor": "white",
           "linecolor": "white",
           "ticks": "",
           "title": {
            "standoff": 15
           },
           "zerolinecolor": "white",
           "zerolinewidth": 2
          }
         }
        }
       }
      },
      "text/html": [
       "<div>                            <div id=\"957d08d8-131c-4d70-9787-cb01dd7febe1\" class=\"plotly-graph-div\" style=\"height:525px; width:100%;\"></div>            <script type=\"text/javascript\">                require([\"plotly\"], function(Plotly) {                    window.PLOTLYENV=window.PLOTLYENV || {};                                    if (document.getElementById(\"957d08d8-131c-4d70-9787-cb01dd7febe1\")) {                    Plotly.newPlot(                        \"957d08d8-131c-4d70-9787-cb01dd7febe1\",                        [{\"delta\":{\"font\":{\"size\":12},\"reference\":400,\"relative\":true},\"domain\":{\"x\":[0,1],\"y\":[0,1]},\"mode\":\"number+delta\",\"number\":{\"font\":{\"size\":12},\"prefix\":\"$\"},\"title\":{\"font\":{\"size\":12},\"text\":\"Current Portfolio Value<br>\"},\"type\":\"indicator\",\"value\":450}],                        {\"paper_bgcolor\":\"lightgray\",\"template\":{\"data\":{\"bar\":[{\"error_x\":{\"color\":\"#2a3f5f\"},\"error_y\":{\"color\":\"#2a3f5f\"},\"marker\":{\"line\":{\"color\":\"#E5ECF6\",\"width\":0.5},\"pattern\":{\"fillmode\":\"overlay\",\"size\":10,\"solidity\":0.2}},\"type\":\"bar\"}],\"barpolar\":[{\"marker\":{\"line\":{\"color\":\"#E5ECF6\",\"width\":0.5},\"pattern\":{\"fillmode\":\"overlay\",\"size\":10,\"solidity\":0.2}},\"type\":\"barpolar\"}],\"carpet\":[{\"aaxis\":{\"endlinecolor\":\"#2a3f5f\",\"gridcolor\":\"white\",\"linecolor\":\"white\",\"minorgridcolor\":\"white\",\"startlinecolor\":\"#2a3f5f\"},\"baxis\":{\"endlinecolor\":\"#2a3f5f\",\"gridcolor\":\"white\",\"linecolor\":\"white\",\"minorgridcolor\":\"white\",\"startlinecolor\":\"#2a3f5f\"},\"type\":\"carpet\"}],\"choropleth\":[{\"colorbar\":{\"outlinewidth\":0,\"ticks\":\"\"},\"type\":\"choropleth\"}],\"contour\":[{\"colorbar\":{\"outlinewidth\":0,\"ticks\":\"\"},\"colorscale\":[[0.0,\"#0d0887\"],[0.1111111111111111,\"#46039f\"],[0.2222222222222222,\"#7201a8\"],[0.3333333333333333,\"#9c179e\"],[0.4444444444444444,\"#bd3786\"],[0.5555555555555556,\"#d8576b\"],[0.6666666666666666,\"#ed7953\"],[0.7777777777777778,\"#fb9f3a\"],[0.8888888888888888,\"#fdca26\"],[1.0,\"#f0f921\"]],\"type\":\"contour\"}],\"contourcarpet\":[{\"colorbar\":{\"outlinewidth\":0,\"ticks\":\"\"},\"type\":\"contourcarpet\"}],\"heatmap\":[{\"colorbar\":{\"outlinewidth\":0,\"ticks\":\"\"},\"colorscale\":[[0.0,\"#0d0887\"],[0.1111111111111111,\"#46039f\"],[0.2222222222222222,\"#7201a8\"],[0.3333333333333333,\"#9c179e\"],[0.4444444444444444,\"#bd3786\"],[0.5555555555555556,\"#d8576b\"],[0.6666666666666666,\"#ed7953\"],[0.7777777777777778,\"#fb9f3a\"],[0.8888888888888888,\"#fdca26\"],[1.0,\"#f0f921\"]],\"type\":\"heatmap\"}],\"heatmapgl\":[{\"colorbar\":{\"outlinewidth\":0,\"ticks\":\"\"},\"colorscale\":[[0.0,\"#0d0887\"],[0.1111111111111111,\"#46039f\"],[0.2222222222222222,\"#7201a8\"],[0.3333333333333333,\"#9c179e\"],[0.4444444444444444,\"#bd3786\"],[0.5555555555555556,\"#d8576b\"],[0.6666666666666666,\"#ed7953\"],[0.7777777777777778,\"#fb9f3a\"],[0.8888888888888888,\"#fdca26\"],[1.0,\"#f0f921\"]],\"type\":\"heatmapgl\"}],\"histogram\":[{\"marker\":{\"pattern\":{\"fillmode\":\"overlay\",\"size\":10,\"solidity\":0.2}},\"type\":\"histogram\"}],\"histogram2d\":[{\"colorbar\":{\"outlinewidth\":0,\"ticks\":\"\"},\"colorscale\":[[0.0,\"#0d0887\"],[0.1111111111111111,\"#46039f\"],[0.2222222222222222,\"#7201a8\"],[0.3333333333333333,\"#9c179e\"],[0.4444444444444444,\"#bd3786\"],[0.5555555555555556,\"#d8576b\"],[0.6666666666666666,\"#ed7953\"],[0.7777777777777778,\"#fb9f3a\"],[0.8888888888888888,\"#fdca26\"],[1.0,\"#f0f921\"]],\"type\":\"histogram2d\"}],\"histogram2dcontour\":[{\"colorbar\":{\"outlinewidth\":0,\"ticks\":\"\"},\"colorscale\":[[0.0,\"#0d0887\"],[0.1111111111111111,\"#46039f\"],[0.2222222222222222,\"#7201a8\"],[0.3333333333333333,\"#9c179e\"],[0.4444444444444444,\"#bd3786\"],[0.5555555555555556,\"#d8576b\"],[0.6666666666666666,\"#ed7953\"],[0.7777777777777778,\"#fb9f3a\"],[0.8888888888888888,\"#fdca26\"],[1.0,\"#f0f921\"]],\"type\":\"histogram2dcontour\"}],\"mesh3d\":[{\"colorbar\":{\"outlinewidth\":0,\"ticks\":\"\"},\"type\":\"mesh3d\"}],\"parcoords\":[{\"line\":{\"colorbar\":{\"outlinewidth\":0,\"ticks\":\"\"}},\"type\":\"parcoords\"}],\"pie\":[{\"automargin\":true,\"type\":\"pie\"}],\"scatter\":[{\"marker\":{\"colorbar\":{\"outlinewidth\":0,\"ticks\":\"\"}},\"type\":\"scatter\"}],\"scatter3d\":[{\"line\":{\"colorbar\":{\"outlinewidth\":0,\"ticks\":\"\"}},\"marker\":{\"colorbar\":{\"outlinewidth\":0,\"ticks\":\"\"}},\"type\":\"scatter3d\"}],\"scattercarpet\":[{\"marker\":{\"colorbar\":{\"outlinewidth\":0,\"ticks\":\"\"}},\"type\":\"scattercarpet\"}],\"scattergeo\":[{\"marker\":{\"colorbar\":{\"outlinewidth\":0,\"ticks\":\"\"}},\"type\":\"scattergeo\"}],\"scattergl\":[{\"marker\":{\"colorbar\":{\"outlinewidth\":0,\"ticks\":\"\"}},\"type\":\"scattergl\"}],\"scattermapbox\":[{\"marker\":{\"colorbar\":{\"outlinewidth\":0,\"ticks\":\"\"}},\"type\":\"scattermapbox\"}],\"scatterpolar\":[{\"marker\":{\"colorbar\":{\"outlinewidth\":0,\"ticks\":\"\"}},\"type\":\"scatterpolar\"}],\"scatterpolargl\":[{\"marker\":{\"colorbar\":{\"outlinewidth\":0,\"ticks\":\"\"}},\"type\":\"scatterpolargl\"}],\"scatterternary\":[{\"marker\":{\"colorbar\":{\"outlinewidth\":0,\"ticks\":\"\"}},\"type\":\"scatterternary\"}],\"surface\":[{\"colorbar\":{\"outlinewidth\":0,\"ticks\":\"\"},\"colorscale\":[[0.0,\"#0d0887\"],[0.1111111111111111,\"#46039f\"],[0.2222222222222222,\"#7201a8\"],[0.3333333333333333,\"#9c179e\"],[0.4444444444444444,\"#bd3786\"],[0.5555555555555556,\"#d8576b\"],[0.6666666666666666,\"#ed7953\"],[0.7777777777777778,\"#fb9f3a\"],[0.8888888888888888,\"#fdca26\"],[1.0,\"#f0f921\"]],\"type\":\"surface\"}],\"table\":[{\"cells\":{\"fill\":{\"color\":\"#EBF0F8\"},\"line\":{\"color\":\"white\"}},\"header\":{\"fill\":{\"color\":\"#C8D4E3\"},\"line\":{\"color\":\"white\"}},\"type\":\"table\"}]},\"layout\":{\"annotationdefaults\":{\"arrowcolor\":\"#2a3f5f\",\"arrowhead\":0,\"arrowwidth\":1},\"autotypenumbers\":\"strict\",\"coloraxis\":{\"colorbar\":{\"outlinewidth\":0,\"ticks\":\"\"}},\"colorscale\":{\"diverging\":[[0,\"#8e0152\"],[0.1,\"#c51b7d\"],[0.2,\"#de77ae\"],[0.3,\"#f1b6da\"],[0.4,\"#fde0ef\"],[0.5,\"#f7f7f7\"],[0.6,\"#e6f5d0\"],[0.7,\"#b8e186\"],[0.8,\"#7fbc41\"],[0.9,\"#4d9221\"],[1,\"#276419\"]],\"sequential\":[[0.0,\"#0d0887\"],[0.1111111111111111,\"#46039f\"],[0.2222222222222222,\"#7201a8\"],[0.3333333333333333,\"#9c179e\"],[0.4444444444444444,\"#bd3786\"],[0.5555555555555556,\"#d8576b\"],[0.6666666666666666,\"#ed7953\"],[0.7777777777777778,\"#fb9f3a\"],[0.8888888888888888,\"#fdca26\"],[1.0,\"#f0f921\"]],\"sequentialminus\":[[0.0,\"#0d0887\"],[0.1111111111111111,\"#46039f\"],[0.2222222222222222,\"#7201a8\"],[0.3333333333333333,\"#9c179e\"],[0.4444444444444444,\"#bd3786\"],[0.5555555555555556,\"#d8576b\"],[0.6666666666666666,\"#ed7953\"],[0.7777777777777778,\"#fb9f3a\"],[0.8888888888888888,\"#fdca26\"],[1.0,\"#f0f921\"]]},\"colorway\":[\"#636efa\",\"#EF553B\",\"#00cc96\",\"#ab63fa\",\"#FFA15A\",\"#19d3f3\",\"#FF6692\",\"#B6E880\",\"#FF97FF\",\"#FECB52\"],\"font\":{\"color\":\"#2a3f5f\"},\"geo\":{\"bgcolor\":\"white\",\"lakecolor\":\"white\",\"landcolor\":\"#E5ECF6\",\"showlakes\":true,\"showland\":true,\"subunitcolor\":\"white\"},\"hoverlabel\":{\"align\":\"left\"},\"hovermode\":\"closest\",\"mapbox\":{\"style\":\"light\"},\"paper_bgcolor\":\"white\",\"plot_bgcolor\":\"#E5ECF6\",\"polar\":{\"angularaxis\":{\"gridcolor\":\"white\",\"linecolor\":\"white\",\"ticks\":\"\"},\"bgcolor\":\"#E5ECF6\",\"radialaxis\":{\"gridcolor\":\"white\",\"linecolor\":\"white\",\"ticks\":\"\"}},\"scene\":{\"xaxis\":{\"backgroundcolor\":\"#E5ECF6\",\"gridcolor\":\"white\",\"gridwidth\":2,\"linecolor\":\"white\",\"showbackground\":true,\"ticks\":\"\",\"zerolinecolor\":\"white\"},\"yaxis\":{\"backgroundcolor\":\"#E5ECF6\",\"gridcolor\":\"white\",\"gridwidth\":2,\"linecolor\":\"white\",\"showbackground\":true,\"ticks\":\"\",\"zerolinecolor\":\"white\"},\"zaxis\":{\"backgroundcolor\":\"#E5ECF6\",\"gridcolor\":\"white\",\"gridwidth\":2,\"linecolor\":\"white\",\"showbackground\":true,\"ticks\":\"\",\"zerolinecolor\":\"white\"}},\"shapedefaults\":{\"line\":{\"color\":\"#2a3f5f\"}},\"ternary\":{\"aaxis\":{\"gridcolor\":\"white\",\"linecolor\":\"white\",\"ticks\":\"\"},\"baxis\":{\"gridcolor\":\"white\",\"linecolor\":\"white\",\"ticks\":\"\"},\"bgcolor\":\"#E5ECF6\",\"caxis\":{\"gridcolor\":\"white\",\"linecolor\":\"white\",\"ticks\":\"\"}},\"title\":{\"x\":0.05},\"xaxis\":{\"automargin\":true,\"gridcolor\":\"white\",\"linecolor\":\"white\",\"ticks\":\"\",\"title\":{\"standoff\":15},\"zerolinecolor\":\"white\",\"zerolinewidth\":2},\"yaxis\":{\"automargin\":true,\"gridcolor\":\"white\",\"linecolor\":\"white\",\"ticks\":\"\",\"title\":{\"standoff\":15},\"zerolinecolor\":\"white\",\"zerolinewidth\":2}}}},                        {\"responsive\": true}                    ).then(function(){\n",
       "                            \n",
       "var gd = document.getElementById('957d08d8-131c-4d70-9787-cb01dd7febe1');\n",
       "var x = new MutationObserver(function (mutations, observer) {{\n",
       "        var display = window.getComputedStyle(gd).display;\n",
       "        if (!display || display === 'none') {{\n",
       "            console.log([gd, 'removed!']);\n",
       "            Plotly.purge(gd);\n",
       "            observer.disconnect();\n",
       "        }}\n",
       "}});\n",
       "\n",
       "// Listen for the removal of the full notebook cells\n",
       "var notebookContainer = gd.closest('#notebook-container');\n",
       "if (notebookContainer) {{\n",
       "    x.observe(notebookContainer, {childList: true});\n",
       "}}\n",
       "\n",
       "// Listen for the clearing of the current output cell\n",
       "var outputEl = gd.closest('.output');\n",
       "if (outputEl) {{\n",
       "    x.observe(outputEl, {childList: true});\n",
       "}}\n",
       "\n",
       "                        })                };                });            </script>        </div>"
      ]
     },
     "metadata": {},
     "output_type": "display_data"
    }
   ],
   "source": [
    "fig = go.Figure(go.Indicator(\n",
    "    mode = \"number+delta\",\n",
    "    value = 450,\n",
    "    title = {\"text\": \"Current Portfolio Value<br>\",'font':{'size':12}},\n",
    "    number = {'prefix': \"$\",'font':{'size':12}},\n",
    "    domain = {'x': [0, 1], 'y': [0, 1]},\n",
    "    delta = {'reference': 400, 'relative': True,'font':{'size':12}}\n",
    "        ))\n",
    "\n",
    "fig.update_layout(paper_bgcolor = \"lightgray\")\n",
    "\n",
    "fig.show()"
   ]
  },
  {
   "cell_type": "code",
   "execution_count": null,
   "metadata": {},
   "outputs": [],
   "source": []
  }
 ],
 "metadata": {
  "kernelspec": {
   "display_name": "venv",
   "language": "python",
   "name": "venv"
  },
  "language_info": {
   "codemirror_mode": {
    "name": "ipython",
    "version": 3
   },
   "file_extension": ".py",
   "mimetype": "text/x-python",
   "name": "python",
   "nbconvert_exporter": "python",
   "pygments_lexer": "ipython3",
   "version": "3.7.4"
  },
  "latex_envs": {
   "LaTeX_envs_menu_present": true,
   "autoclose": false,
   "autocomplete": true,
   "bibliofile": "biblio.bib",
   "cite_by": "apalike",
   "current_citInitial": 1,
   "eqLabelWithNumbers": true,
   "eqNumInitial": 1,
   "hotkeys": {
    "equation": "Ctrl-E",
    "itemize": "Ctrl-I"
   },
   "labels_anchors": false,
   "latex_user_defs": false,
   "report_style_numbering": false,
   "user_envs_cfg": false
  }
 },
 "nbformat": 4,
 "nbformat_minor": 4
}
