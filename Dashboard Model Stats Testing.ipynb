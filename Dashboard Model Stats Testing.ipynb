{
 "cells": [
  {
   "cell_type": "code",
   "execution_count": 1,
   "metadata": {},
   "outputs": [],
   "source": [
    "import os\n",
    "import time\n",
    "import pandas as pd\n",
    "import numpy as np\n",
    "import glob\n",
    "import matplotlib.pyplot as plt\n",
    "import FinNews as fn\n",
    "import re\n",
    "\n",
    "# Dash modules\n",
    "import dash\n",
    "import dash_table\n",
    "import dash_core_components as dcc\n",
    "import dash_bootstrap_components as dbc\n",
    "import dash_html_components as html\n",
    "from jupyter_dash import JupyterDash\n",
    "import plotly.express as px\n",
    "import plotly.graph_objects as go\n",
    "\n",
    "from app import app\n",
    "from apps.ind_css import *\n",
    "from port_charts import *\n",
    "\n",
    "# Set up jupyter proxy\n",
    "# JupyterDash.infer_jupyter_proxy_config() \n",
    "\n",
    "%matplotlib inline"
   ]
  },
  {
   "cell_type": "code",
   "execution_count": 2,
   "metadata": {},
   "outputs": [],
   "source": [
    "r2_df = pd.read_csv('assets/models/tyler_rf_daily_update/r2_df.csv',index_col=0)"
   ]
  },
  {
   "cell_type": "code",
   "execution_count": 19,
   "metadata": {},
   "outputs": [
    {
     "name": "stdout",
     "output_type": "stream",
     "text": [
      "Dash app running on http://127.0.0.1:8061/\n"
     ]
    }
   ],
   "source": [
    "app = JupyterDash(__name__,suppress_callback_exceptions=True,external_stylesheets=[dbc.themes.SUPERHERO])\n",
    "\n",
    "server = app.server\n",
    "\n",
    "model_dict = {'Random Forest Regressor 120/30': 'RF Reg_target_120_rebal_30_2017-01-01',\n",
    "              'Random Forest Regressor 120/60': 'RF Reg_target_120_rebal_60_2017-01-01'\n",
    "              # 'Random Forest Regressor 60/30': 'RF Reg_target_60_rebal_30_2017-01-01'\n",
    "              # 'CNN Visual Pattern Recognition': '75percent_confidence_no_holding_15m_cnn'\n",
    "             }\n",
    "model_list = [key for key in model_dict.keys()]\n",
    "\n",
    "r2_df = pd.read_csv('assets/models/tyler_rf_daily_update/r2_df.csv',index_col=0)\n",
    "feat_df = pd.read_csv('assets/models/tyler_rf_daily_update/feature_importance.csv',index_col=0)\n",
    "corr_df = pd.read_csv('assets/models/tyler_rf_daily_update/corr.csv',index_col=0)\n",
    "\n",
    "app.layout = html.Div([\n",
    "                dcc.Dropdown(id='model_filter',\n",
    "                    options=[{'label': i, 'value': i} for i in model_list],\n",
    "                    value='Random Forest Regressor 120/30'),\n",
    "                dcc.Graph(id='model-metrics',style={'width':'45%','display':'inline-block'}),\n",
    "                dcc.Graph(id='corr-chart',style={'width':'45%','display':'inline-block'}),\n",
    "                dcc.Graph(id='feature-chart')\n",
    "            ])\n",
    "\n",
    "\n",
    "\n",
    "@app.callback(dash.dependencies.Output('model-metrics','figure'),\n",
    "    [dash.dependencies.Input('model_filter','value')])\n",
    "def model_metrics(model_filter):\n",
    "    \n",
    "    fig = go.Figure(go.Indicator(\n",
    "                        mode = \"number\",\n",
    "                        value = r2_df['Target 7'].values[0],\n",
    "                        title = {\"text\": \"Model R2 value:<br>\",'font':{'size':20,'color':'white'}},\n",
    "                        number = {'font':{'size':18,'color':'white'}},\n",
    "                        domain = {'x': [0, 1], 'y': [0, 1]}\n",
    "                        ))\n",
    "    \n",
    "    fig.update_layout(paper_bgcolor='rgba(0,0,0,0)')\n",
    "    \n",
    "    return fig\n",
    "\n",
    "@app.callback(dash.dependencies.Output('feature-chart','figure'),\n",
    "    [dash.dependencies.Input('model_filter','value')])\n",
    "def model_metrics(model_filter):\n",
    "    \n",
    "    feats_df = feat_df[['Target 7','Features']].sort_values(by='Target 7',ascending=False)\n",
    "    \n",
    "    fig = go.Figure()\n",
    "    \n",
    "    fig = fig.add_trace(\n",
    "            go.Bar(y=feats_df['Target 7'].values, x=feats_df['Features'].values)\n",
    "            )\n",
    "    fig.update_layout(title=f'Feature Importance for {model_filter}')\n",
    "                      \n",
    "#     fig.update_layout(paper_bgcolor='rgba(0,0,0,0)')\n",
    "\n",
    "    return fig\n",
    "\n",
    "@app.callback(dash.dependencies.Output('corr-chart','figure'),\n",
    "    [dash.dependencies.Input('model_filter','value')])\n",
    "def model_metrics(model_filter):\n",
    "\n",
    "    fig = px.imshow(corr_df)\n",
    "    \n",
    "    fig.update_layout(title='Feature Correlation')\n",
    "    \n",
    "    return fig\n",
    "\n",
    "\n",
    "\n",
    "\n",
    "if __name__ == '__main__':\n",
    "    app.run_server(debug=True,port=8061)"
   ]
  },
  {
   "cell_type": "markdown",
   "metadata": {},
   "source": [
    "### Notes\n",
    "1. How do I set a relative height\n",
    "2. Could add ticker - https://community.plotly.com/t/strip-ticker-label/48348/6\n"
   ]
  },
  {
   "cell_type": "code",
   "execution_count": null,
   "metadata": {},
   "outputs": [],
   "source": []
  },
  {
   "cell_type": "code",
   "execution_count": null,
   "metadata": {},
   "outputs": [],
   "source": [
    "sector_plot(open_pos_df[open_pos_df['Date']=='2021-03-03'], '2021-03-03')"
   ]
  }
 ],
 "metadata": {
  "kernelspec": {
   "display_name": "venv",
   "language": "python",
   "name": "venv"
  },
  "language_info": {
   "codemirror_mode": {
    "name": "ipython",
    "version": 3
   },
   "file_extension": ".py",
   "mimetype": "text/x-python",
   "name": "python",
   "nbconvert_exporter": "python",
   "pygments_lexer": "ipython3",
   "version": "3.7.4"
  },
  "latex_envs": {
   "LaTeX_envs_menu_present": true,
   "autoclose": false,
   "autocomplete": true,
   "bibliofile": "biblio.bib",
   "cite_by": "apalike",
   "current_citInitial": 1,
   "eqLabelWithNumbers": true,
   "eqNumInitial": 1,
   "hotkeys": {
    "equation": "Ctrl-E",
    "itemize": "Ctrl-I"
   },
   "labels_anchors": false,
   "latex_user_defs": false,
   "report_style_numbering": false,
   "user_envs_cfg": false
  }
 },
 "nbformat": 4,
 "nbformat_minor": 4
}
